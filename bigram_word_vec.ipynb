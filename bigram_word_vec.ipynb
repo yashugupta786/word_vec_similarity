{
  "nbformat": 4,
  "nbformat_minor": 0,
  "metadata": {
    "colab": {
      "name": "Untitled7.ipynb",
      "provenance": [],
      "authorship_tag": "ABX9TyOrxj7uf54lAyu0rcaBWf7A",
      "include_colab_link": true
    },
    "kernelspec": {
      "name": "python3",
      "display_name": "Python 3"
    },
    "accelerator": "GPU"
  },
  "cells": [
    {
      "cell_type": "markdown",
      "metadata": {
        "id": "view-in-github",
        "colab_type": "text"
      },
      "source": [
        "<a href=\"https://colab.research.google.com/github/yashugupta786/word_vec_similarity/blob/master/bigram_word_vec.ipynb\" target=\"_parent\"><img src=\"https://colab.research.google.com/assets/colab-badge.svg\" alt=\"Open In Colab\"/></a>"
      ]
    },
    {
      "cell_type": "code",
      "metadata": {
        "id": "rqX7as_5L9Dw",
        "colab_type": "code",
        "colab": {}
      },
      "source": [
        "import re  # For preprocessing\n",
        "import pandas as pd  # For data handling\n",
        "from time import time  # To time our operations\n",
        "from collections import defaultdict  # For word frequency\n",
        "\n",
        "import spacy  # For preprocessing\n",
        "\n",
        "import logging  # Setting up the loggings to monitor gensim\n",
        "logging.basicConfig(format=\"%(levelname)s - %(asctime)s: %(message)s\", datefmt= '%H:%M:%S', level=logging.INFO)"
      ],
      "execution_count": 0,
      "outputs": []
    },
    {
      "cell_type": "code",
      "metadata": {
        "id": "lGwGzXJWXWAL",
        "colab_type": "code",
        "colab": {}
      },
      "source": [
        ""
      ],
      "execution_count": 0,
      "outputs": []
    },
    {
      "cell_type": "code",
      "metadata": {
        "id": "PLb2Ul_NMuJn",
        "colab_type": "code",
        "colab": {
          "base_uri": "https://localhost:8080/",
          "height": 34
        },
        "outputId": "dabf6b72-bc77-4256-bc18-8b848f07ffe8"
      },
      "source": [
        "df = pd.read_csv('/content/simpsons_dataset.csv')\n",
        "df.shape"
      ],
      "execution_count": 3,
      "outputs": [
        {
          "output_type": "execute_result",
          "data": {
            "text/plain": [
              "(158314, 2)"
            ]
          },
          "metadata": {
            "tags": []
          },
          "execution_count": 3
        }
      ]
    },
    {
      "cell_type": "code",
      "metadata": {
        "id": "hxrGKx6bMzdi",
        "colab_type": "code",
        "colab": {
          "base_uri": "https://localhost:8080/",
          "height": 68
        },
        "outputId": "3e390c0e-6be2-4d38-bc0e-c20fbf270051"
      },
      "source": [
        "df = df.dropna().reset_index(drop=True)\n",
        "df.isnull().sum()"
      ],
      "execution_count": 4,
      "outputs": [
        {
          "output_type": "execute_result",
          "data": {
            "text/plain": [
              "raw_character_text    0\n",
              "spoken_words          0\n",
              "dtype: int64"
            ]
          },
          "metadata": {
            "tags": []
          },
          "execution_count": 4
        }
      ]
    },
    {
      "cell_type": "code",
      "metadata": {
        "id": "t2aRT0dXM63e",
        "colab_type": "code",
        "colab": {}
      },
      "source": [
        "nlp = spacy.load('en', disable=['ner', 'parser']) # disabling Named Entity Recognition for speed\n",
        "\n",
        "def cleaning(doc):\n",
        "    # Lemmatizes and removes stopwords\n",
        "    # doc needs to be a spacy Doc object\n",
        "    txt = [token.lemma_ for token in doc if not token.is_stop]\n",
        "    # Word2Vec uses context words to learn the vector representation of a target word,\n",
        "    # if a sentence is only one or two words long,\n",
        "    # the benefit for the training is very small\n",
        "    if len(txt) > 2:\n",
        "        return ' '.join(txt)"
      ],
      "execution_count": 0,
      "outputs": []
    },
    {
      "cell_type": "code",
      "metadata": {
        "id": "krqujn2GM9wV",
        "colab_type": "code",
        "colab": {}
      },
      "source": [
        "brief_cleaning = (re.sub(\"[^A-Za-z']+\", ' ', str(row)).lower() for row in df['spoken_words'])"
      ],
      "execution_count": 0,
      "outputs": []
    },
    {
      "cell_type": "code",
      "metadata": {
        "id": "t06W9dWkNBWs",
        "colab_type": "code",
        "colab": {
          "base_uri": "https://localhost:8080/",
          "height": 34
        },
        "outputId": "45e06906-b3ab-423e-d3c7-d4ddb4fcf250"
      },
      "source": [
        "t = time()\n",
        "\n",
        "txt = [cleaning(doc) for doc in nlp.pipe(brief_cleaning, batch_size=5000, n_threads=-1)]\n",
        "\n",
        "print('Time to clean up everything: {} mins'.format(round((time() - t) / 60, 2)))"
      ],
      "execution_count": 7,
      "outputs": [
        {
          "output_type": "stream",
          "text": [
            "Time to clean up everything: 0.96 mins\n"
          ],
          "name": "stdout"
        }
      ]
    },
    {
      "cell_type": "code",
      "metadata": {
        "id": "bS8e0YWnNGOh",
        "colab_type": "code",
        "colab": {
          "base_uri": "https://localhost:8080/",
          "height": 34
        },
        "outputId": "b707e3e7-9511-43e9-c8c8-eb7cd1e0e2fd"
      },
      "source": [
        "df_clean = pd.DataFrame({'clean': txt})\n",
        "df_clean = df_clean.dropna().drop_duplicates()\n",
        "df_clean.shape"
      ],
      "execution_count": 8,
      "outputs": [
        {
          "output_type": "execute_result",
          "data": {
            "text/plain": [
              "(85964, 1)"
            ]
          },
          "metadata": {
            "tags": []
          },
          "execution_count": 8
        }
      ]
    },
    {
      "cell_type": "code",
      "metadata": {
        "id": "bjgg6QA4NMkj",
        "colab_type": "code",
        "colab": {
          "base_uri": "https://localhost:8080/",
          "height": 204
        },
        "outputId": "fe7c3567-65c4-474a-cb58-046d432a9fd7"
      },
      "source": [
        "df_clean.head()"
      ],
      "execution_count": 9,
      "outputs": [
        {
          "output_type": "execute_result",
          "data": {
            "text/html": [
              "<div>\n",
              "<style scoped>\n",
              "    .dataframe tbody tr th:only-of-type {\n",
              "        vertical-align: middle;\n",
              "    }\n",
              "\n",
              "    .dataframe tbody tr th {\n",
              "        vertical-align: top;\n",
              "    }\n",
              "\n",
              "    .dataframe thead th {\n",
              "        text-align: right;\n",
              "    }\n",
              "</style>\n",
              "<table border=\"1\" class=\"dataframe\">\n",
              "  <thead>\n",
              "    <tr style=\"text-align: right;\">\n",
              "      <th></th>\n",
              "      <th>clean</th>\n",
              "    </tr>\n",
              "  </thead>\n",
              "  <tbody>\n",
              "    <tr>\n",
              "      <th>0</th>\n",
              "      <td>actually little disease magazine news show nat...</td>\n",
              "    </tr>\n",
              "    <tr>\n",
              "      <th>2</th>\n",
              "      <td>know sure like talk touch lesson plan teach</td>\n",
              "    </tr>\n",
              "    <tr>\n",
              "      <th>3</th>\n",
              "      <td>life worth live</td>\n",
              "    </tr>\n",
              "    <tr>\n",
              "      <th>4</th>\n",
              "      <td>poll open end recess case decide thought final...</td>\n",
              "    </tr>\n",
              "    <tr>\n",
              "      <th>7</th>\n",
              "      <td>victory party slide</td>\n",
              "    </tr>\n",
              "  </tbody>\n",
              "</table>\n",
              "</div>"
            ],
            "text/plain": [
              "                                               clean\n",
              "0  actually little disease magazine news show nat...\n",
              "2        know sure like talk touch lesson plan teach\n",
              "3                                    life worth live\n",
              "4  poll open end recess case decide thought final...\n",
              "7                                victory party slide"
            ]
          },
          "metadata": {
            "tags": []
          },
          "execution_count": 9
        }
      ]
    },
    {
      "cell_type": "code",
      "metadata": {
        "id": "ZXVi1GBFNY0t",
        "colab_type": "code",
        "colab": {
          "base_uri": "https://localhost:8080/",
          "height": 34
        },
        "outputId": "edfdfaf8-69af-4f2d-f17f-bf882b5b3873"
      },
      "source": [
        "from gensim.models.phrases import Phrases, Phraser"
      ],
      "execution_count": 10,
      "outputs": [
        {
          "output_type": "stream",
          "text": [
            "INFO - 08:01:43: 'pattern' package not found; tag filters are not available for English\n"
          ],
          "name": "stderr"
        }
      ]
    },
    {
      "cell_type": "code",
      "metadata": {
        "id": "5JuTSlxXNcJ5",
        "colab_type": "code",
        "colab": {}
      },
      "source": [
        "sent = [row.split() for row in df_clean['clean']]"
      ],
      "execution_count": 0,
      "outputs": []
    },
    {
      "cell_type": "code",
      "metadata": {
        "id": "xZeEzeGPNfvk",
        "colab_type": "code",
        "colab": {
          "base_uri": "https://localhost:8080/",
          "height": 221
        },
        "outputId": "6bfe4125-8222-476c-f161-c56635d3da4b"
      },
      "source": [
        "phrases = Phrases(sent, min_count=30, progress_per=10000)"
      ],
      "execution_count": 12,
      "outputs": [
        {
          "output_type": "stream",
          "text": [
            "INFO - 08:02:09: collecting all words and their counts\n",
            "INFO - 08:02:09: PROGRESS: at sentence #0, processed 0 words and 0 word types\n",
            "INFO - 08:02:09: PROGRESS: at sentence #10000, processed 63561 words and 52816 word types\n",
            "INFO - 08:02:10: PROGRESS: at sentence #20000, processed 130943 words and 99866 word types\n",
            "INFO - 08:02:10: PROGRESS: at sentence #30000, processed 192972 words and 138532 word types\n",
            "INFO - 08:02:10: PROGRESS: at sentence #40000, processed 249842 words and 172659 word types\n",
            "INFO - 08:02:10: PROGRESS: at sentence #50000, processed 311265 words and 208566 word types\n",
            "INFO - 08:02:10: PROGRESS: at sentence #60000, processed 373588 words and 243702 word types\n",
            "INFO - 08:02:10: PROGRESS: at sentence #70000, processed 436441 words and 278740 word types\n",
            "INFO - 08:02:10: PROGRESS: at sentence #80000, processed 497829 words and 311886 word types\n",
            "INFO - 08:02:10: collected 330804 word types from a corpus of 537160 words (unigram + bigrams) and 85964 sentences\n",
            "INFO - 08:02:10: using 330804 counts as vocab in Phrases<0 vocab, min_count=30, threshold=10.0, max_vocab_size=40000000>\n"
          ],
          "name": "stderr"
        }
      ]
    },
    {
      "cell_type": "code",
      "metadata": {
        "id": "7ixJwu0MNiwY",
        "colab_type": "code",
        "colab": {
          "base_uri": "https://localhost:8080/",
          "height": 51
        },
        "outputId": "9d90f66b-81bf-4d6a-a434-ceac45d0d80c"
      },
      "source": [
        "bigram = Phraser(phrases)\n"
      ],
      "execution_count": 14,
      "outputs": [
        {
          "output_type": "stream",
          "text": [
            "INFO - 08:02:55: source_vocab length 330804\n",
            "INFO - 08:02:58: Phraser built with 126 phrasegrams\n"
          ],
          "name": "stderr"
        }
      ]
    },
    {
      "cell_type": "code",
      "metadata": {
        "id": "7ruOZI0CNoa8",
        "colab_type": "code",
        "colab": {}
      },
      "source": [
        "sentences = bigram[sent]\n"
      ],
      "execution_count": 0,
      "outputs": []
    },
    {
      "cell_type": "code",
      "metadata": {
        "id": "_FPKXXjCNx7b",
        "colab_type": "code",
        "colab": {}
      },
      "source": [
        "sentences\n",
        "for i in sentences:\n",
        "  print(i)"
      ],
      "execution_count": 0,
      "outputs": []
    },
    {
      "cell_type": "code",
      "metadata": {
        "id": "vsbqesTyNzOL",
        "colab_type": "code",
        "colab": {
          "base_uri": "https://localhost:8080/",
          "height": 34
        },
        "outputId": "8742839d-5574-49d4-a01c-756b15faded9"
      },
      "source": [
        "word_freq = defaultdict(int)\n",
        "for sent in sentences:\n",
        "    for i in sent:\n",
        "        word_freq[i] += 1\n",
        "len(word_freq)"
      ],
      "execution_count": 22,
      "outputs": [
        {
          "output_type": "execute_result",
          "data": {
            "text/plain": [
              "30178"
            ]
          },
          "metadata": {
            "tags": []
          },
          "execution_count": 22
        }
      ]
    },
    {
      "cell_type": "code",
      "metadata": {
        "id": "vG-uJuAYN2ir",
        "colab_type": "code",
        "colab": {
          "base_uri": "https://localhost:8080/",
          "height": 34
        },
        "outputId": "9a6beff0-9f01-4a55-bf82-c75cfcedd19f"
      },
      "source": [
        "sorted(word_freq, key=word_freq.get, reverse=True)[:10]"
      ],
      "execution_count": 23,
      "outputs": [
        {
          "output_type": "execute_result",
          "data": {
            "text/plain": [
              "['oh', 'like', 'know', 'get', 'hey', 'think', 'right', 'look', 'want', 'come']"
            ]
          },
          "metadata": {
            "tags": []
          },
          "execution_count": 23
        }
      ]
    },
    {
      "cell_type": "code",
      "metadata": {
        "id": "PaldJi3xN42B",
        "colab_type": "code",
        "colab": {}
      },
      "source": [
        "import multiprocessing\n",
        "\n",
        "from gensim.models import Word2Vec"
      ],
      "execution_count": 0,
      "outputs": []
    },
    {
      "cell_type": "code",
      "metadata": {
        "id": "VT4onw2CN8dN",
        "colab_type": "code",
        "colab": {}
      },
      "source": [
        "w2v_model = Word2Vec(min_count=20,\n",
        "                     window=2,\n",
        "                     size=300,\n",
        "                     sample=6e-5, \n",
        "                     alpha=0.03, \n",
        "                     min_alpha=0.0007, \n",
        "                     negative=20,\n",
        "                  )"
      ],
      "execution_count": 0,
      "outputs": []
    },
    {
      "cell_type": "code",
      "metadata": {
        "id": "6jDd6-zVPJJ8",
        "colab_type": "code",
        "colab": {
          "base_uri": "https://localhost:8080/",
          "height": 357
        },
        "outputId": "331a1b5b-22cf-4a7a-85b6-6d1736321f1d"
      },
      "source": [
        "t = time()\n",
        "\n",
        "w2v_model.build_vocab(sentences, progress_per=10000)\n",
        "\n",
        "print('Time to build vocab: {} mins'.format(round((time() - t) / 60, 2)))"
      ],
      "execution_count": 27,
      "outputs": [
        {
          "output_type": "stream",
          "text": [
            "INFO - 08:09:41: collecting all words and their counts\n",
            "INFO - 08:09:41: PROGRESS: at sentence #0, processed 0 words, keeping 0 word types\n",
            "INFO - 08:09:41: PROGRESS: at sentence #10000, processed 61718 words, keeping 9558 word types\n",
            "INFO - 08:09:41: PROGRESS: at sentence #20000, processed 127351 words, keeping 14506 word types\n",
            "INFO - 08:09:41: PROGRESS: at sentence #30000, processed 187829 words, keeping 17619 word types\n",
            "INFO - 08:09:42: PROGRESS: at sentence #40000, processed 243332 words, keeping 20385 word types\n",
            "INFO - 08:09:42: PROGRESS: at sentence #50000, processed 303182 words, keeping 22878 word types\n",
            "INFO - 08:09:42: PROGRESS: at sentence #60000, processed 363940 words, keeping 25200 word types\n",
            "INFO - 08:09:42: PROGRESS: at sentence #70000, processed 425408 words, keeping 27401 word types\n",
            "INFO - 08:09:42: PROGRESS: at sentence #80000, processed 485464 words, keeping 29275 word types\n",
            "INFO - 08:09:42: collected 30178 word types from a corpus of 523700 raw words and 85964 sentences\n",
            "INFO - 08:09:42: Loading a fresh vocabulary\n",
            "INFO - 08:09:42: effective_min_count=20 retains 3319 unique words (10% of original 30178, drops 26859)\n",
            "INFO - 08:09:43: effective_min_count=20 leaves 437324 word corpus (83% of original 523700, drops 86376)\n",
            "INFO - 08:09:43: deleting the raw counts dictionary of 30178 items\n",
            "INFO - 08:09:43: sample=6e-05 downsamples 1200 most-common words\n",
            "INFO - 08:09:43: downsampling leaves estimated 199161 word corpus (45.5% of prior 437324)\n",
            "INFO - 08:09:43: estimated required memory for 3319 words and 300 dimensions: 9625100 bytes\n",
            "INFO - 08:09:43: resetting layer weights\n"
          ],
          "name": "stderr"
        },
        {
          "output_type": "stream",
          "text": [
            "Time to build vocab: 0.04 mins\n"
          ],
          "name": "stdout"
        }
      ]
    },
    {
      "cell_type": "code",
      "metadata": {
        "id": "YHVQsuqqPQ_j",
        "colab_type": "code",
        "colab": {
          "base_uri": "https://localhost:8080/",
          "height": 1000
        },
        "outputId": "9c0a4ac7-eb67-4f2e-96a4-0f22974f2e8d"
      },
      "source": [
        "t = time()\n",
        "\n",
        "w2v_model.train(sentences, total_examples=w2v_model.corpus_count, epochs=30, report_delay=1)\n",
        "\n",
        "print('Time to train the model: {} mins'.format(round((time() - t) / 60, 2)))"
      ],
      "execution_count": 28,
      "outputs": [
        {
          "output_type": "stream",
          "text": [
            "INFO - 08:10:03: training model with 3 workers on 3319 vocabulary and 300 features, using sg=0 hs=0 sample=6e-05 negative=20 window=2\n",
            "INFO - 08:10:04: EPOCH 1 - PROGRESS: at 37.40% examples, 74816 words/s, in_qsize 0, out_qsize 0\n",
            "INFO - 08:10:05: EPOCH 1 - PROGRESS: at 78.53% examples, 76880 words/s, in_qsize 0, out_qsize 0\n",
            "INFO - 08:10:06: worker thread finished; awaiting finish of 2 more threads\n",
            "INFO - 08:10:06: worker thread finished; awaiting finish of 1 more threads\n",
            "INFO - 08:10:06: worker thread finished; awaiting finish of 0 more threads\n",
            "INFO - 08:10:06: EPOCH - 1 : training on 523700 raw words (198820 effective words) took 2.6s, 77786 effective words/s\n",
            "INFO - 08:10:07: EPOCH 2 - PROGRESS: at 37.40% examples, 75235 words/s, in_qsize 0, out_qsize 0\n",
            "INFO - 08:10:08: EPOCH 2 - PROGRESS: at 74.71% examples, 72498 words/s, in_qsize 0, out_qsize 0\n",
            "INFO - 08:10:09: worker thread finished; awaiting finish of 2 more threads\n",
            "INFO - 08:10:09: worker thread finished; awaiting finish of 1 more threads\n",
            "INFO - 08:10:09: worker thread finished; awaiting finish of 0 more threads\n",
            "INFO - 08:10:09: EPOCH - 2 : training on 523700 raw words (199218 effective words) took 2.7s, 73992 effective words/s\n",
            "INFO - 08:10:10: EPOCH 3 - PROGRESS: at 39.38% examples, 76556 words/s, in_qsize 0, out_qsize 0\n",
            "INFO - 08:10:11: EPOCH 3 - PROGRESS: at 80.39% examples, 76031 words/s, in_qsize 0, out_qsize 0\n",
            "INFO - 08:10:11: worker thread finished; awaiting finish of 2 more threads\n",
            "INFO - 08:10:11: worker thread finished; awaiting finish of 1 more threads\n",
            "INFO - 08:10:11: worker thread finished; awaiting finish of 0 more threads\n",
            "INFO - 08:10:11: EPOCH - 3 : training on 523700 raw words (199222 effective words) took 2.6s, 77085 effective words/s\n",
            "INFO - 08:10:12: EPOCH 4 - PROGRESS: at 35.34% examples, 70104 words/s, in_qsize 0, out_qsize 0\n",
            "INFO - 08:10:13: EPOCH 4 - PROGRESS: at 74.71% examples, 72946 words/s, in_qsize 0, out_qsize 0\n",
            "INFO - 08:10:14: worker thread finished; awaiting finish of 2 more threads\n",
            "INFO - 08:10:14: worker thread finished; awaiting finish of 1 more threads\n",
            "INFO - 08:10:14: worker thread finished; awaiting finish of 0 more threads\n",
            "INFO - 08:10:14: EPOCH - 4 : training on 523700 raw words (199150 effective words) took 2.7s, 74361 effective words/s\n",
            "INFO - 08:10:15: EPOCH 5 - PROGRESS: at 37.40% examples, 73743 words/s, in_qsize 0, out_qsize 0\n",
            "INFO - 08:10:16: EPOCH 5 - PROGRESS: at 76.60% examples, 75082 words/s, in_qsize 0, out_qsize 0\n",
            "INFO - 08:10:17: worker thread finished; awaiting finish of 2 more threads\n",
            "INFO - 08:10:17: worker thread finished; awaiting finish of 1 more threads\n",
            "INFO - 08:10:17: worker thread finished; awaiting finish of 0 more threads\n",
            "INFO - 08:10:17: EPOCH - 5 : training on 523700 raw words (199540 effective words) took 2.7s, 73753 effective words/s\n",
            "INFO - 08:10:18: EPOCH 6 - PROGRESS: at 39.38% examples, 74335 words/s, in_qsize 0, out_qsize 0\n",
            "INFO - 08:10:19: EPOCH 6 - PROGRESS: at 82.28% examples, 76525 words/s, in_qsize 0, out_qsize 0\n",
            "INFO - 08:10:19: worker thread finished; awaiting finish of 2 more threads\n",
            "INFO - 08:10:19: worker thread finished; awaiting finish of 1 more threads\n",
            "INFO - 08:10:19: worker thread finished; awaiting finish of 0 more threads\n",
            "INFO - 08:10:19: EPOCH - 6 : training on 523700 raw words (199462 effective words) took 2.6s, 77777 effective words/s\n",
            "INFO - 08:10:20: EPOCH 7 - PROGRESS: at 37.40% examples, 75474 words/s, in_qsize 0, out_qsize 0\n",
            "INFO - 08:10:21: EPOCH 7 - PROGRESS: at 72.83% examples, 71991 words/s, in_qsize 0, out_qsize 0\n",
            "INFO - 08:10:22: worker thread finished; awaiting finish of 2 more threads\n",
            "INFO - 08:10:22: worker thread finished; awaiting finish of 1 more threads\n",
            "INFO - 08:10:22: worker thread finished; awaiting finish of 0 more threads\n",
            "INFO - 08:10:22: EPOCH - 7 : training on 523700 raw words (199000 effective words) took 2.7s, 73722 effective words/s\n",
            "INFO - 08:10:23: EPOCH 8 - PROGRESS: at 37.40% examples, 74112 words/s, in_qsize 0, out_qsize 0\n",
            "INFO - 08:10:24: EPOCH 8 - PROGRESS: at 76.60% examples, 73551 words/s, in_qsize 0, out_qsize 0\n",
            "INFO - 08:10:25: worker thread finished; awaiting finish of 2 more threads\n",
            "INFO - 08:10:25: worker thread finished; awaiting finish of 1 more threads\n",
            "INFO - 08:10:25: worker thread finished; awaiting finish of 0 more threads\n",
            "INFO - 08:10:25: EPOCH - 8 : training on 523700 raw words (199266 effective words) took 2.7s, 74917 effective words/s\n",
            "INFO - 08:10:26: EPOCH 9 - PROGRESS: at 35.34% examples, 68356 words/s, in_qsize 0, out_qsize 0\n",
            "INFO - 08:10:27: EPOCH 9 - PROGRESS: at 74.71% examples, 71752 words/s, in_qsize 0, out_qsize 0\n",
            "INFO - 08:10:27: worker thread finished; awaiting finish of 2 more threads\n",
            "INFO - 08:10:27: worker thread finished; awaiting finish of 1 more threads\n",
            "INFO - 08:10:27: worker thread finished; awaiting finish of 0 more threads\n",
            "INFO - 08:10:27: EPOCH - 9 : training on 523700 raw words (199201 effective words) took 2.7s, 73832 effective words/s\n",
            "INFO - 08:10:28: EPOCH 10 - PROGRESS: at 37.40% examples, 75005 words/s, in_qsize 0, out_qsize 0\n",
            "INFO - 08:10:29: EPOCH 10 - PROGRESS: at 78.53% examples, 76513 words/s, in_qsize 0, out_qsize 0\n",
            "INFO - 08:10:30: worker thread finished; awaiting finish of 2 more threads\n",
            "INFO - 08:10:30: worker thread finished; awaiting finish of 1 more threads\n",
            "INFO - 08:10:30: worker thread finished; awaiting finish of 0 more threads\n",
            "INFO - 08:10:30: EPOCH - 10 : training on 523700 raw words (199075 effective words) took 2.6s, 76618 effective words/s\n",
            "INFO - 08:10:31: EPOCH 11 - PROGRESS: at 33.37% examples, 68079 words/s, in_qsize 0, out_qsize 0\n",
            "INFO - 08:10:32: EPOCH 11 - PROGRESS: at 72.83% examples, 71926 words/s, in_qsize 0, out_qsize 0\n",
            "INFO - 08:10:33: worker thread finished; awaiting finish of 2 more threads\n",
            "INFO - 08:10:33: worker thread finished; awaiting finish of 1 more threads\n",
            "INFO - 08:10:33: worker thread finished; awaiting finish of 0 more threads\n",
            "INFO - 08:10:33: EPOCH - 11 : training on 523700 raw words (199385 effective words) took 2.7s, 74194 effective words/s\n",
            "INFO - 08:10:34: EPOCH 12 - PROGRESS: at 37.40% examples, 75435 words/s, in_qsize 0, out_qsize 0\n",
            "INFO - 08:10:35: EPOCH 12 - PROGRESS: at 72.83% examples, 71906 words/s, in_qsize 0, out_qsize 0\n",
            "INFO - 08:10:35: worker thread finished; awaiting finish of 2 more threads\n",
            "INFO - 08:10:35: worker thread finished; awaiting finish of 1 more threads\n",
            "INFO - 08:10:35: worker thread finished; awaiting finish of 0 more threads\n",
            "INFO - 08:10:35: EPOCH - 12 : training on 523700 raw words (198819 effective words) took 2.7s, 73780 effective words/s\n",
            "INFO - 08:10:36: EPOCH 13 - PROGRESS: at 37.40% examples, 75280 words/s, in_qsize 0, out_qsize 0\n",
            "INFO - 08:10:37: EPOCH 13 - PROGRESS: at 76.60% examples, 75691 words/s, in_qsize 0, out_qsize 0\n",
            "INFO - 08:10:38: worker thread finished; awaiting finish of 2 more threads\n",
            "INFO - 08:10:38: worker thread finished; awaiting finish of 1 more threads\n",
            "INFO - 08:10:38: worker thread finished; awaiting finish of 0 more threads\n",
            "INFO - 08:10:38: EPOCH - 13 : training on 523700 raw words (199107 effective words) took 2.6s, 76257 effective words/s\n",
            "INFO - 08:10:39: EPOCH 14 - PROGRESS: at 33.37% examples, 67588 words/s, in_qsize 0, out_qsize 0\n",
            "INFO - 08:10:40: EPOCH 14 - PROGRESS: at 72.83% examples, 71968 words/s, in_qsize 0, out_qsize 0\n",
            "INFO - 08:10:41: worker thread finished; awaiting finish of 2 more threads\n",
            "INFO - 08:10:41: worker thread finished; awaiting finish of 1 more threads\n",
            "INFO - 08:10:41: worker thread finished; awaiting finish of 0 more threads\n",
            "INFO - 08:10:41: EPOCH - 14 : training on 523700 raw words (199018 effective words) took 2.7s, 73593 effective words/s\n",
            "INFO - 08:10:42: EPOCH 15 - PROGRESS: at 37.40% examples, 74915 words/s, in_qsize 0, out_qsize 0\n",
            "INFO - 08:10:43: EPOCH 15 - PROGRESS: at 76.60% examples, 75043 words/s, in_qsize 0, out_qsize 0\n",
            "INFO - 08:10:43: worker thread finished; awaiting finish of 2 more threads\n",
            "INFO - 08:10:43: worker thread finished; awaiting finish of 1 more threads\n",
            "INFO - 08:10:43: worker thread finished; awaiting finish of 0 more threads\n",
            "INFO - 08:10:43: EPOCH - 15 : training on 523700 raw words (199635 effective words) took 2.7s, 73326 effective words/s\n",
            "INFO - 08:10:44: EPOCH 16 - PROGRESS: at 37.40% examples, 74604 words/s, in_qsize 0, out_qsize 0\n",
            "INFO - 08:10:45: EPOCH 16 - PROGRESS: at 78.53% examples, 76751 words/s, in_qsize 0, out_qsize 0\n",
            "INFO - 08:10:46: worker thread finished; awaiting finish of 2 more threads\n",
            "INFO - 08:10:46: worker thread finished; awaiting finish of 1 more threads\n",
            "INFO - 08:10:46: worker thread finished; awaiting finish of 0 more threads\n",
            "INFO - 08:10:46: EPOCH - 16 : training on 523700 raw words (199205 effective words) took 2.6s, 76956 effective words/s\n",
            "INFO - 08:10:47: EPOCH 17 - PROGRESS: at 37.40% examples, 73137 words/s, in_qsize 0, out_qsize 0\n",
            "INFO - 08:10:48: EPOCH 17 - PROGRESS: at 74.71% examples, 72777 words/s, in_qsize 0, out_qsize 0\n",
            "INFO - 08:10:49: worker thread finished; awaiting finish of 2 more threads\n",
            "INFO - 08:10:49: worker thread finished; awaiting finish of 1 more threads\n",
            "INFO - 08:10:49: worker thread finished; awaiting finish of 0 more threads\n",
            "INFO - 08:10:49: EPOCH - 17 : training on 523700 raw words (199196 effective words) took 2.7s, 74120 effective words/s\n",
            "INFO - 08:10:50: EPOCH 18 - PROGRESS: at 37.40% examples, 73697 words/s, in_qsize 0, out_qsize 0\n",
            "INFO - 08:10:51: EPOCH 18 - PROGRESS: at 78.53% examples, 75961 words/s, in_qsize 0, out_qsize 0\n",
            "INFO - 08:10:51: worker thread finished; awaiting finish of 2 more threads\n",
            "INFO - 08:10:51: worker thread finished; awaiting finish of 1 more threads\n",
            "INFO - 08:10:51: worker thread finished; awaiting finish of 0 more threads\n",
            "INFO - 08:10:51: EPOCH - 18 : training on 523700 raw words (199097 effective words) took 2.6s, 76522 effective words/s\n",
            "INFO - 08:10:52: EPOCH 19 - PROGRESS: at 33.37% examples, 67781 words/s, in_qsize 0, out_qsize 0\n",
            "INFO - 08:10:53: EPOCH 19 - PROGRESS: at 72.83% examples, 72070 words/s, in_qsize 0, out_qsize 0\n",
            "INFO - 08:10:54: worker thread finished; awaiting finish of 2 more threads\n",
            "INFO - 08:10:54: worker thread finished; awaiting finish of 1 more threads\n",
            "INFO - 08:10:54: worker thread finished; awaiting finish of 0 more threads\n",
            "INFO - 08:10:54: EPOCH - 19 : training on 523700 raw words (199697 effective words) took 2.7s, 74412 effective words/s\n",
            "INFO - 08:10:55: EPOCH 20 - PROGRESS: at 37.40% examples, 75438 words/s, in_qsize 0, out_qsize 0\n",
            "INFO - 08:10:56: EPOCH 20 - PROGRESS: at 76.60% examples, 74821 words/s, in_qsize 0, out_qsize 0\n",
            "INFO - 08:10:57: worker thread finished; awaiting finish of 2 more threads\n",
            "INFO - 08:10:57: worker thread finished; awaiting finish of 1 more threads\n",
            "INFO - 08:10:57: worker thread finished; awaiting finish of 0 more threads\n",
            "INFO - 08:10:57: EPOCH - 20 : training on 523700 raw words (199491 effective words) took 2.7s, 74579 effective words/s\n",
            "INFO - 08:10:58: EPOCH 21 - PROGRESS: at 33.37% examples, 66531 words/s, in_qsize 0, out_qsize 0\n",
            "INFO - 08:10:59: EPOCH 21 - PROGRESS: at 72.83% examples, 70811 words/s, in_qsize 0, out_qsize 0\n",
            "INFO - 08:10:59: worker thread finished; awaiting finish of 2 more threads\n",
            "INFO - 08:10:59: worker thread finished; awaiting finish of 1 more threads\n",
            "INFO - 08:10:59: worker thread finished; awaiting finish of 0 more threads\n",
            "INFO - 08:10:59: EPOCH - 21 : training on 523700 raw words (198582 effective words) took 2.7s, 73650 effective words/s\n",
            "INFO - 08:11:00: EPOCH 22 - PROGRESS: at 37.40% examples, 73519 words/s, in_qsize 0, out_qsize 0\n",
            "INFO - 08:11:01: EPOCH 22 - PROGRESS: at 78.53% examples, 74721 words/s, in_qsize 0, out_qsize 0\n",
            "INFO - 08:11:02: worker thread finished; awaiting finish of 2 more threads\n",
            "INFO - 08:11:02: worker thread finished; awaiting finish of 1 more threads\n",
            "INFO - 08:11:02: worker thread finished; awaiting finish of 0 more threads\n",
            "INFO - 08:11:02: EPOCH - 22 : training on 523700 raw words (199255 effective words) took 2.6s, 75946 effective words/s\n",
            "INFO - 08:11:03: EPOCH 23 - PROGRESS: at 33.37% examples, 67009 words/s, in_qsize 0, out_qsize 0\n",
            "INFO - 08:11:04: EPOCH 23 - PROGRESS: at 72.83% examples, 71340 words/s, in_qsize 0, out_qsize 0\n",
            "INFO - 08:11:05: worker thread finished; awaiting finish of 2 more threads\n",
            "INFO - 08:11:05: worker thread finished; awaiting finish of 1 more threads\n",
            "INFO - 08:11:05: worker thread finished; awaiting finish of 0 more threads\n",
            "INFO - 08:11:05: EPOCH - 23 : training on 523700 raw words (199012 effective words) took 2.7s, 73282 effective words/s\n",
            "INFO - 08:11:06: EPOCH 24 - PROGRESS: at 37.40% examples, 75209 words/s, in_qsize 0, out_qsize 0\n",
            "INFO - 08:11:07: EPOCH 24 - PROGRESS: at 74.71% examples, 72707 words/s, in_qsize 0, out_qsize 0\n",
            "INFO - 08:11:07: worker thread finished; awaiting finish of 2 more threads\n",
            "INFO - 08:11:07: worker thread finished; awaiting finish of 1 more threads\n",
            "INFO - 08:11:07: worker thread finished; awaiting finish of 0 more threads\n",
            "INFO - 08:11:07: EPOCH - 24 : training on 523700 raw words (198827 effective words) took 2.7s, 74128 effective words/s\n",
            "INFO - 08:11:09: EPOCH 25 - PROGRESS: at 39.38% examples, 74735 words/s, in_qsize 0, out_qsize 0\n",
            "INFO - 08:11:10: EPOCH 25 - PROGRESS: at 80.39% examples, 76168 words/s, in_qsize 0, out_qsize 0\n",
            "INFO - 08:11:10: worker thread finished; awaiting finish of 2 more threads\n",
            "INFO - 08:11:10: worker thread finished; awaiting finish of 1 more threads\n",
            "INFO - 08:11:10: worker thread finished; awaiting finish of 0 more threads\n",
            "INFO - 08:11:10: EPOCH - 25 : training on 523700 raw words (199315 effective words) took 2.6s, 77005 effective words/s\n",
            "INFO - 08:11:11: EPOCH 26 - PROGRESS: at 35.34% examples, 71093 words/s, in_qsize 0, out_qsize 0\n",
            "INFO - 08:11:12: EPOCH 26 - PROGRESS: at 74.71% examples, 72417 words/s, in_qsize 0, out_qsize 0\n",
            "INFO - 08:11:13: worker thread finished; awaiting finish of 2 more threads\n",
            "INFO - 08:11:13: worker thread finished; awaiting finish of 1 more threads\n",
            "INFO - 08:11:13: worker thread finished; awaiting finish of 0 more threads\n",
            "INFO - 08:11:13: EPOCH - 26 : training on 523700 raw words (199170 effective words) took 2.7s, 74304 effective words/s\n",
            "INFO - 08:11:14: EPOCH 27 - PROGRESS: at 35.34% examples, 71347 words/s, in_qsize 0, out_qsize 0\n",
            "INFO - 08:11:15: EPOCH 27 - PROGRESS: at 74.71% examples, 73467 words/s, in_qsize 0, out_qsize 0\n",
            "INFO - 08:11:15: worker thread finished; awaiting finish of 2 more threads\n",
            "INFO - 08:11:15: worker thread finished; awaiting finish of 1 more threads\n",
            "INFO - 08:11:15: worker thread finished; awaiting finish of 0 more threads\n",
            "INFO - 08:11:15: EPOCH - 27 : training on 523700 raw words (199503 effective words) took 2.7s, 72740 effective words/s\n",
            "INFO - 08:11:17: EPOCH 28 - PROGRESS: at 37.40% examples, 74840 words/s, in_qsize 0, out_qsize 0\n",
            "INFO - 08:11:18: EPOCH 28 - PROGRESS: at 78.53% examples, 75109 words/s, in_qsize 0, out_qsize 0\n",
            "INFO - 08:11:18: worker thread finished; awaiting finish of 2 more threads\n",
            "INFO - 08:11:18: worker thread finished; awaiting finish of 1 more threads\n",
            "INFO - 08:11:18: worker thread finished; awaiting finish of 0 more threads\n",
            "INFO - 08:11:18: EPOCH - 28 : training on 523700 raw words (199304 effective words) took 2.6s, 76441 effective words/s\n",
            "INFO - 08:11:19: EPOCH 29 - PROGRESS: at 37.40% examples, 73752 words/s, in_qsize 0, out_qsize 0\n",
            "INFO - 08:11:20: EPOCH 29 - PROGRESS: at 74.71% examples, 72030 words/s, in_qsize 0, out_qsize 0\n",
            "INFO - 08:11:21: worker thread finished; awaiting finish of 2 more threads\n",
            "INFO - 08:11:21: worker thread finished; awaiting finish of 1 more threads\n",
            "INFO - 08:11:21: worker thread finished; awaiting finish of 0 more threads\n",
            "INFO - 08:11:21: EPOCH - 29 : training on 523700 raw words (199329 effective words) took 2.7s, 74058 effective words/s\n",
            "INFO - 08:11:22: EPOCH 30 - PROGRESS: at 37.40% examples, 73571 words/s, in_qsize 0, out_qsize 0\n",
            "INFO - 08:11:23: EPOCH 30 - PROGRESS: at 76.60% examples, 74780 words/s, in_qsize 0, out_qsize 0\n",
            "INFO - 08:11:23: worker thread finished; awaiting finish of 2 more threads\n",
            "INFO - 08:11:23: worker thread finished; awaiting finish of 1 more threads\n",
            "INFO - 08:11:23: worker thread finished; awaiting finish of 0 more threads\n",
            "INFO - 08:11:23: EPOCH - 30 : training on 523700 raw words (198902 effective words) took 2.6s, 76258 effective words/s\n",
            "INFO - 08:11:23: training on a 15711000 raw words (5975803 effective words) took 80.0s, 74669 effective words/s\n"
          ],
          "name": "stderr"
        },
        {
          "output_type": "stream",
          "text": [
            "Time to train the model: 1.33 mins\n"
          ],
          "name": "stdout"
        }
      ]
    },
    {
      "cell_type": "code",
      "metadata": {
        "id": "ocUWKRDaPWgP",
        "colab_type": "code",
        "colab": {
          "base_uri": "https://localhost:8080/",
          "height": 34
        },
        "outputId": "bab1fd92-7f5a-4751-87b5-450234deb33f"
      },
      "source": [
        "w2v_model.init_sims(replace=True)"
      ],
      "execution_count": 29,
      "outputs": [
        {
          "output_type": "stream",
          "text": [
            "INFO - 08:12:43: precomputing L2-norms of word weight vectors\n"
          ],
          "name": "stderr"
        }
      ]
    },
    {
      "cell_type": "code",
      "metadata": {
        "id": "VQI_MsI2P9Zd",
        "colab_type": "code",
        "colab": {
          "base_uri": "https://localhost:8080/",
          "height": 241
        },
        "outputId": "222302c8-9073-4404-9f47-16fd546ea326"
      },
      "source": [
        "w2v_model.wv.most_similar(positive=[\"homer_simpson\"])"
      ],
      "execution_count": 30,
      "outputs": [
        {
          "output_type": "stream",
          "text": [
            "/usr/local/lib/python3.6/dist-packages/gensim/matutils.py:737: FutureWarning: Conversion of the second argument of issubdtype from `int` to `np.signedinteger` is deprecated. In future, it will be treated as `np.int64 == np.dtype(int).type`.\n",
            "  if np.issubdtype(vec.dtype, np.int):\n"
          ],
          "name": "stderr"
        },
        {
          "output_type": "execute_result",
          "data": {
            "text/plain": [
              "[('pleased', 0.7633680701255798),\n",
              " ('congratulation', 0.7631620168685913),\n",
              " ('recent', 0.7597476243972778),\n",
              " ('governor', 0.7590283155441284),\n",
              " ('easily', 0.7576010823249817),\n",
              " ('council', 0.7408592700958252),\n",
              " ('hutz', 0.7347520589828491),\n",
              " ('robert', 0.7318389415740967),\n",
              " ('simon', 0.7308964729309082),\n",
              " ('committee', 0.7258784770965576)]"
            ]
          },
          "metadata": {
            "tags": []
          },
          "execution_count": 30
        }
      ]
    },
    {
      "cell_type": "code",
      "metadata": {
        "id": "sEL7y6dAQCmS",
        "colab_type": "code",
        "colab": {
          "base_uri": "https://localhost:8080/",
          "height": 241
        },
        "outputId": "3541cdd2-9e50-46fd-a6c2-5867446cd6f0"
      },
      "source": [
        "w2v_model.wv.most_similar(positive=[\"homer\"])"
      ],
      "execution_count": 31,
      "outputs": [
        {
          "output_type": "stream",
          "text": [
            "/usr/local/lib/python3.6/dist-packages/gensim/matutils.py:737: FutureWarning: Conversion of the second argument of issubdtype from `int` to `np.signedinteger` is deprecated. In future, it will be treated as `np.int64 == np.dtype(int).type`.\n",
            "  if np.issubdtype(vec.dtype, np.int):\n"
          ],
          "name": "stderr"
        },
        {
          "output_type": "execute_result",
          "data": {
            "text/plain": [
              "[('marge', 0.7794296145439148),\n",
              " ('rude', 0.7755630016326904),\n",
              " ('bongo', 0.7644156813621521),\n",
              " ('snuggle', 0.7563874125480652),\n",
              " ('wife', 0.7388522624969482),\n",
              " ('gee', 0.7364005446434021),\n",
              " ('sorry', 0.7309480309486389),\n",
              " ('worry', 0.727098822593689),\n",
              " ('hammock', 0.7240004539489746),\n",
              " ('sweetheart', 0.7224789261817932)]"
            ]
          },
          "metadata": {
            "tags": []
          },
          "execution_count": 31
        }
      ]
    },
    {
      "cell_type": "code",
      "metadata": {
        "id": "TKCErCNjQHA4",
        "colab_type": "code",
        "colab": {
          "base_uri": "https://localhost:8080/",
          "height": 241
        },
        "outputId": "ef841266-471f-47a1-cce8-74ef19720bdf"
      },
      "source": [
        "w2v_model.wv.most_similar(positive=[\"dr_hibbert\"])"
      ],
      "execution_count": 32,
      "outputs": [
        {
          "output_type": "stream",
          "text": [
            "/usr/local/lib/python3.6/dist-packages/gensim/matutils.py:737: FutureWarning: Conversion of the second argument of issubdtype from `int` to `np.signedinteger` is deprecated. In future, it will be treated as `np.int64 == np.dtype(int).type`.\n",
            "  if np.issubdtype(vec.dtype, np.int):\n"
          ],
          "name": "stderr"
        },
        {
          "output_type": "execute_result",
          "data": {
            "text/plain": [
              "[('convince', 0.8436061143875122),\n",
              " ('rabbi', 0.831490159034729),\n",
              " ('hearing', 0.8250008821487427),\n",
              " ('catholic', 0.7999840378761292),\n",
              " ('bitch', 0.7841911911964417),\n",
              " ('rude', 0.7727895379066467),\n",
              " ('attract', 0.7696405649185181),\n",
              " ('stress', 0.7687424421310425),\n",
              " ('technically', 0.7678347229957581),\n",
              " ('crisis', 0.7677313089370728)]"
            ]
          },
          "metadata": {
            "tags": []
          },
          "execution_count": 32
        }
      ]
    },
    {
      "cell_type": "code",
      "metadata": {
        "id": "-qS4U6KQQLLX",
        "colab_type": "code",
        "colab": {
          "base_uri": "https://localhost:8080/",
          "height": 241
        },
        "outputId": "395796c7-e0c4-4859-e344-0a9995868669"
      },
      "source": [
        "w2v_model.wv.most_similar(positive=[\"bart\"])"
      ],
      "execution_count": 33,
      "outputs": [
        {
          "output_type": "stream",
          "text": [
            "/usr/local/lib/python3.6/dist-packages/gensim/matutils.py:737: FutureWarning: Conversion of the second argument of issubdtype from `int` to `np.signedinteger` is deprecated. In future, it will be treated as `np.int64 == np.dtype(int).type`.\n",
            "  if np.issubdtype(vec.dtype, np.int):\n"
          ],
          "name": "stderr"
        },
        {
          "output_type": "execute_result",
          "data": {
            "text/plain": [
              "[('lisa', 0.8431563377380371),\n",
              " ('surprised', 0.7916699051856995),\n",
              " ('homework', 0.7898970246315002),\n",
              " ('mom', 0.7895394563674927),\n",
              " ('convince', 0.7756944894790649),\n",
              " ('upset', 0.7745141386985779),\n",
              " ('mom_dad', 0.77126145362854),\n",
              " ('strangle', 0.7669622898101807),\n",
              " ('substitute', 0.7586274147033691),\n",
              " ('typical', 0.7566486597061157)]"
            ]
          },
          "metadata": {
            "tags": []
          },
          "execution_count": 33
        }
      ]
    },
    {
      "cell_type": "code",
      "metadata": {
        "id": "W7TWfu31QbuL",
        "colab_type": "code",
        "colab": {
          "base_uri": "https://localhost:8080/",
          "height": 156
        },
        "outputId": "efb7ae4c-61f5-4078-dab7-58cbc7c0e665"
      },
      "source": [
        "from gensim.models import Phrases\n",
        "documents = [\"the mayor of new york was there\", \"machine learning can be useful sometimes\",\"new york mayor was present\",\"My name is yashu gupta\"]\n",
        "\n",
        "sentence_stream = [doc.split(\" \") for doc in documents]\n",
        "bigram = Phrases(sentence_stream, min_count=1, threshold=2)\n",
        "sent = [u'the', u'mayor', u'of', u'new', u'york', u'was', u'there']\n",
        "print(bigram[sent])"
      ],
      "execution_count": 37,
      "outputs": [
        {
          "output_type": "stream",
          "text": [
            "INFO - 08:40:58: collecting all words and their counts\n",
            "INFO - 08:40:58: PROGRESS: at sentence #0, processed 0 words and 0 word types\n",
            "INFO - 08:40:58: collected 37 word types from a corpus of 23 words (unigram + bigrams) and 4 sentences\n",
            "INFO - 08:40:58: using 37 counts as vocab in Phrases<0 vocab, min_count=1, threshold=2, max_vocab_size=40000000>\n"
          ],
          "name": "stderr"
        },
        {
          "output_type": "stream",
          "text": [
            "['the', 'mayor', 'of', 'new_york', 'was', 'there']\n"
          ],
          "name": "stdout"
        },
        {
          "output_type": "stream",
          "text": [
            "/usr/local/lib/python3.6/dist-packages/gensim/models/phrases.py:598: UserWarning: For a faster implementation, use the gensim.models.phrases.Phraser class\n",
            "  warnings.warn(\"For a faster implementation, use the gensim.models.phrases.Phraser class\")\n"
          ],
          "name": "stderr"
        }
      ]
    },
    {
      "cell_type": "code",
      "metadata": {
        "id": "RaG5B_1MVxPq",
        "colab_type": "code",
        "colab": {}
      },
      "source": [
        "import pandas as pd\n",
        "import numpy as np\n",
        "import re\n",
        "from tqdm import tqdm\n",
        "\n",
        "from nltk.corpus import stopwords\n",
        "\n",
        "from gensim.models import Word2Vec\n",
        "from gensim.models import Phrases\n",
        "from gensim.models.phrases import Phraser\n",
        "\n",
        "from sklearn.manifold import TSNE\n",
        "import matplotlib.pyplot as plt\n",
        "\n",
        "import logging\n",
        "logging.basicConfig(format='%(asctime)s : %(levelname)s : %(message)s', level=logging.INFO)\n",
        "\n",
        "%matplotlib inline"
      ],
      "execution_count": 0,
      "outputs": []
    },
    {
      "cell_type": "code",
      "metadata": {
        "id": "sEwurM6SZblz",
        "colab_type": "code",
        "colab": {}
      },
      "source": [
        "data = pd.read_csv('/content/hotel-reviews.csv')"
      ],
      "execution_count": 0,
      "outputs": []
    },
    {
      "cell_type": "code",
      "metadata": {
        "id": "0bN_vCBfZ2Lc",
        "colab_type": "code",
        "colab": {
          "base_uri": "https://localhost:8080/",
          "height": 986
        },
        "outputId": "5a67d928-bdc5-4734-b616-33bd091ba266"
      },
      "source": [
        "stopWords = stopwords.words('english')\n",
        "\n",
        "# pre processing data\n",
        "def cleanData(sentence):\n",
        "    processedList = \"\"\n",
        "    \n",
        "    # convert to lowercase, ignore all special characters - keep only alpha-numericals and spaces (not removing full-stop here)\n",
        "    sentence = re.sub(r'[^A-Za-z0-9\\s.]',r'',str(sentence).lower())\n",
        "    sentence = re.sub(r'\\n',r' ',sentence)\n",
        "    \n",
        "    # remove stop words\n",
        "    sentence = \" \".join([word for word in sentence.split() if word not in stopWords])\n",
        "    \n",
        "    return sentence"
      ],
      "execution_count": 41,
      "outputs": [
        {
          "output_type": "error",
          "ename": "LookupError",
          "evalue": "ignored",
          "traceback": [
            "\u001b[0;31m---------------------------------------------------------------------------\u001b[0m",
            "\u001b[0;31mLookupError\u001b[0m                               Traceback (most recent call last)",
            "\u001b[0;32m/usr/local/lib/python3.6/dist-packages/nltk/corpus/util.py\u001b[0m in \u001b[0;36m__load\u001b[0;34m(self)\u001b[0m\n\u001b[1;32m     79\u001b[0m             \u001b[0;32mexcept\u001b[0m \u001b[0mLookupError\u001b[0m \u001b[0;32mas\u001b[0m \u001b[0me\u001b[0m\u001b[0;34m:\u001b[0m\u001b[0;34m\u001b[0m\u001b[0;34m\u001b[0m\u001b[0m\n\u001b[0;32m---> 80\u001b[0;31m                 \u001b[0;32mtry\u001b[0m\u001b[0;34m:\u001b[0m \u001b[0mroot\u001b[0m \u001b[0;34m=\u001b[0m \u001b[0mnltk\u001b[0m\u001b[0;34m.\u001b[0m\u001b[0mdata\u001b[0m\u001b[0;34m.\u001b[0m\u001b[0mfind\u001b[0m\u001b[0;34m(\u001b[0m\u001b[0;34m'{}/{}'\u001b[0m\u001b[0;34m.\u001b[0m\u001b[0mformat\u001b[0m\u001b[0;34m(\u001b[0m\u001b[0mself\u001b[0m\u001b[0;34m.\u001b[0m\u001b[0msubdir\u001b[0m\u001b[0;34m,\u001b[0m \u001b[0mzip_name\u001b[0m\u001b[0;34m)\u001b[0m\u001b[0;34m)\u001b[0m\u001b[0;34m\u001b[0m\u001b[0;34m\u001b[0m\u001b[0m\n\u001b[0m\u001b[1;32m     81\u001b[0m                 \u001b[0;32mexcept\u001b[0m \u001b[0mLookupError\u001b[0m\u001b[0;34m:\u001b[0m \u001b[0;32mraise\u001b[0m \u001b[0me\u001b[0m\u001b[0;34m\u001b[0m\u001b[0;34m\u001b[0m\u001b[0m\n",
            "\u001b[0;32m/usr/local/lib/python3.6/dist-packages/nltk/data.py\u001b[0m in \u001b[0;36mfind\u001b[0;34m(resource_name, paths)\u001b[0m\n\u001b[1;32m    672\u001b[0m     \u001b[0mresource_not_found\u001b[0m \u001b[0;34m=\u001b[0m \u001b[0;34m'\\n%s\\n%s\\n%s\\n'\u001b[0m \u001b[0;34m%\u001b[0m \u001b[0;34m(\u001b[0m\u001b[0msep\u001b[0m\u001b[0;34m,\u001b[0m \u001b[0mmsg\u001b[0m\u001b[0;34m,\u001b[0m \u001b[0msep\u001b[0m\u001b[0;34m)\u001b[0m\u001b[0;34m\u001b[0m\u001b[0;34m\u001b[0m\u001b[0m\n\u001b[0;32m--> 673\u001b[0;31m     \u001b[0;32mraise\u001b[0m \u001b[0mLookupError\u001b[0m\u001b[0;34m(\u001b[0m\u001b[0mresource_not_found\u001b[0m\u001b[0;34m)\u001b[0m\u001b[0;34m\u001b[0m\u001b[0;34m\u001b[0m\u001b[0m\n\u001b[0m\u001b[1;32m    674\u001b[0m \u001b[0;34m\u001b[0m\u001b[0m\n",
            "\u001b[0;31mLookupError\u001b[0m: \n**********************************************************************\n  Resource \u001b[93mstopwords\u001b[0m not found.\n  Please use the NLTK Downloader to obtain the resource:\n\n  \u001b[31m>>> import nltk\n  >>> nltk.download('stopwords')\n  \u001b[0m\n  Searched in:\n    - '/root/nltk_data'\n    - '/usr/share/nltk_data'\n    - '/usr/local/share/nltk_data'\n    - '/usr/lib/nltk_data'\n    - '/usr/local/lib/nltk_data'\n    - '/usr/nltk_data'\n    - '/usr/lib/nltk_data'\n**********************************************************************\n",
            "\nDuring handling of the above exception, another exception occurred:\n",
            "\u001b[0;31mLookupError\u001b[0m                               Traceback (most recent call last)",
            "\u001b[0;32m<ipython-input-41-4a2891ca10c5>\u001b[0m in \u001b[0;36m<module>\u001b[0;34m()\u001b[0m\n\u001b[0;32m----> 1\u001b[0;31m \u001b[0mstopWords\u001b[0m \u001b[0;34m=\u001b[0m \u001b[0mstopwords\u001b[0m\u001b[0;34m.\u001b[0m\u001b[0mwords\u001b[0m\u001b[0;34m(\u001b[0m\u001b[0;34m'english'\u001b[0m\u001b[0;34m)\u001b[0m\u001b[0;34m\u001b[0m\u001b[0;34m\u001b[0m\u001b[0m\n\u001b[0m\u001b[1;32m      2\u001b[0m \u001b[0;34m\u001b[0m\u001b[0m\n\u001b[1;32m      3\u001b[0m \u001b[0;31m# pre processing data\u001b[0m\u001b[0;34m\u001b[0m\u001b[0;34m\u001b[0m\u001b[0;34m\u001b[0m\u001b[0m\n\u001b[1;32m      4\u001b[0m \u001b[0;32mdef\u001b[0m \u001b[0mcleanData\u001b[0m\u001b[0;34m(\u001b[0m\u001b[0msentence\u001b[0m\u001b[0;34m)\u001b[0m\u001b[0;34m:\u001b[0m\u001b[0;34m\u001b[0m\u001b[0;34m\u001b[0m\u001b[0m\n\u001b[1;32m      5\u001b[0m     \u001b[0mprocessedList\u001b[0m \u001b[0;34m=\u001b[0m \u001b[0;34m\"\"\u001b[0m\u001b[0;34m\u001b[0m\u001b[0;34m\u001b[0m\u001b[0m\n",
            "\u001b[0;32m/usr/local/lib/python3.6/dist-packages/nltk/corpus/util.py\u001b[0m in \u001b[0;36m__getattr__\u001b[0;34m(self, attr)\u001b[0m\n\u001b[1;32m    114\u001b[0m             \u001b[0;32mraise\u001b[0m \u001b[0mAttributeError\u001b[0m\u001b[0;34m(\u001b[0m\u001b[0;34m\"LazyCorpusLoader object has no attribute '__bases__'\"\u001b[0m\u001b[0;34m)\u001b[0m\u001b[0;34m\u001b[0m\u001b[0;34m\u001b[0m\u001b[0m\n\u001b[1;32m    115\u001b[0m \u001b[0;34m\u001b[0m\u001b[0m\n\u001b[0;32m--> 116\u001b[0;31m         \u001b[0mself\u001b[0m\u001b[0;34m.\u001b[0m\u001b[0m__load\u001b[0m\u001b[0;34m(\u001b[0m\u001b[0;34m)\u001b[0m\u001b[0;34m\u001b[0m\u001b[0;34m\u001b[0m\u001b[0m\n\u001b[0m\u001b[1;32m    117\u001b[0m         \u001b[0;31m# This looks circular, but its not, since __load() changes our\u001b[0m\u001b[0;34m\u001b[0m\u001b[0;34m\u001b[0m\u001b[0;34m\u001b[0m\u001b[0m\n\u001b[1;32m    118\u001b[0m         \u001b[0;31m# __class__ to something new:\u001b[0m\u001b[0;34m\u001b[0m\u001b[0;34m\u001b[0m\u001b[0;34m\u001b[0m\u001b[0m\n",
            "\u001b[0;32m/usr/local/lib/python3.6/dist-packages/nltk/corpus/util.py\u001b[0m in \u001b[0;36m__load\u001b[0;34m(self)\u001b[0m\n\u001b[1;32m     79\u001b[0m             \u001b[0;32mexcept\u001b[0m \u001b[0mLookupError\u001b[0m \u001b[0;32mas\u001b[0m \u001b[0me\u001b[0m\u001b[0;34m:\u001b[0m\u001b[0;34m\u001b[0m\u001b[0;34m\u001b[0m\u001b[0m\n\u001b[1;32m     80\u001b[0m                 \u001b[0;32mtry\u001b[0m\u001b[0;34m:\u001b[0m \u001b[0mroot\u001b[0m \u001b[0;34m=\u001b[0m \u001b[0mnltk\u001b[0m\u001b[0;34m.\u001b[0m\u001b[0mdata\u001b[0m\u001b[0;34m.\u001b[0m\u001b[0mfind\u001b[0m\u001b[0;34m(\u001b[0m\u001b[0;34m'{}/{}'\u001b[0m\u001b[0;34m.\u001b[0m\u001b[0mformat\u001b[0m\u001b[0;34m(\u001b[0m\u001b[0mself\u001b[0m\u001b[0;34m.\u001b[0m\u001b[0msubdir\u001b[0m\u001b[0;34m,\u001b[0m \u001b[0mzip_name\u001b[0m\u001b[0;34m)\u001b[0m\u001b[0;34m)\u001b[0m\u001b[0;34m\u001b[0m\u001b[0;34m\u001b[0m\u001b[0m\n\u001b[0;32m---> 81\u001b[0;31m                 \u001b[0;32mexcept\u001b[0m \u001b[0mLookupError\u001b[0m\u001b[0;34m:\u001b[0m \u001b[0;32mraise\u001b[0m \u001b[0me\u001b[0m\u001b[0;34m\u001b[0m\u001b[0;34m\u001b[0m\u001b[0m\n\u001b[0m\u001b[1;32m     82\u001b[0m \u001b[0;34m\u001b[0m\u001b[0m\n\u001b[1;32m     83\u001b[0m         \u001b[0;31m# Load the corpus.\u001b[0m\u001b[0;34m\u001b[0m\u001b[0;34m\u001b[0m\u001b[0;34m\u001b[0m\u001b[0m\n",
            "\u001b[0;32m/usr/local/lib/python3.6/dist-packages/nltk/corpus/util.py\u001b[0m in \u001b[0;36m__load\u001b[0;34m(self)\u001b[0m\n\u001b[1;32m     76\u001b[0m         \u001b[0;32melse\u001b[0m\u001b[0;34m:\u001b[0m\u001b[0;34m\u001b[0m\u001b[0;34m\u001b[0m\u001b[0m\n\u001b[1;32m     77\u001b[0m             \u001b[0;32mtry\u001b[0m\u001b[0;34m:\u001b[0m\u001b[0;34m\u001b[0m\u001b[0;34m\u001b[0m\u001b[0m\n\u001b[0;32m---> 78\u001b[0;31m                 \u001b[0mroot\u001b[0m \u001b[0;34m=\u001b[0m \u001b[0mnltk\u001b[0m\u001b[0;34m.\u001b[0m\u001b[0mdata\u001b[0m\u001b[0;34m.\u001b[0m\u001b[0mfind\u001b[0m\u001b[0;34m(\u001b[0m\u001b[0;34m'{}/{}'\u001b[0m\u001b[0;34m.\u001b[0m\u001b[0mformat\u001b[0m\u001b[0;34m(\u001b[0m\u001b[0mself\u001b[0m\u001b[0;34m.\u001b[0m\u001b[0msubdir\u001b[0m\u001b[0;34m,\u001b[0m \u001b[0mself\u001b[0m\u001b[0;34m.\u001b[0m\u001b[0m__name\u001b[0m\u001b[0;34m)\u001b[0m\u001b[0;34m)\u001b[0m\u001b[0;34m\u001b[0m\u001b[0;34m\u001b[0m\u001b[0m\n\u001b[0m\u001b[1;32m     79\u001b[0m             \u001b[0;32mexcept\u001b[0m \u001b[0mLookupError\u001b[0m \u001b[0;32mas\u001b[0m \u001b[0me\u001b[0m\u001b[0;34m:\u001b[0m\u001b[0;34m\u001b[0m\u001b[0;34m\u001b[0m\u001b[0m\n\u001b[1;32m     80\u001b[0m                 \u001b[0;32mtry\u001b[0m\u001b[0;34m:\u001b[0m \u001b[0mroot\u001b[0m \u001b[0;34m=\u001b[0m \u001b[0mnltk\u001b[0m\u001b[0;34m.\u001b[0m\u001b[0mdata\u001b[0m\u001b[0;34m.\u001b[0m\u001b[0mfind\u001b[0m\u001b[0;34m(\u001b[0m\u001b[0;34m'{}/{}'\u001b[0m\u001b[0;34m.\u001b[0m\u001b[0mformat\u001b[0m\u001b[0;34m(\u001b[0m\u001b[0mself\u001b[0m\u001b[0;34m.\u001b[0m\u001b[0msubdir\u001b[0m\u001b[0;34m,\u001b[0m \u001b[0mzip_name\u001b[0m\u001b[0;34m)\u001b[0m\u001b[0;34m)\u001b[0m\u001b[0;34m\u001b[0m\u001b[0;34m\u001b[0m\u001b[0m\n",
            "\u001b[0;32m/usr/local/lib/python3.6/dist-packages/nltk/data.py\u001b[0m in \u001b[0;36mfind\u001b[0;34m(resource_name, paths)\u001b[0m\n\u001b[1;32m    671\u001b[0m     \u001b[0msep\u001b[0m \u001b[0;34m=\u001b[0m \u001b[0;34m'*'\u001b[0m \u001b[0;34m*\u001b[0m \u001b[0;36m70\u001b[0m\u001b[0;34m\u001b[0m\u001b[0;34m\u001b[0m\u001b[0m\n\u001b[1;32m    672\u001b[0m     \u001b[0mresource_not_found\u001b[0m \u001b[0;34m=\u001b[0m \u001b[0;34m'\\n%s\\n%s\\n%s\\n'\u001b[0m \u001b[0;34m%\u001b[0m \u001b[0;34m(\u001b[0m\u001b[0msep\u001b[0m\u001b[0;34m,\u001b[0m \u001b[0mmsg\u001b[0m\u001b[0;34m,\u001b[0m \u001b[0msep\u001b[0m\u001b[0;34m)\u001b[0m\u001b[0;34m\u001b[0m\u001b[0;34m\u001b[0m\u001b[0m\n\u001b[0;32m--> 673\u001b[0;31m     \u001b[0;32mraise\u001b[0m \u001b[0mLookupError\u001b[0m\u001b[0;34m(\u001b[0m\u001b[0mresource_not_found\u001b[0m\u001b[0;34m)\u001b[0m\u001b[0;34m\u001b[0m\u001b[0;34m\u001b[0m\u001b[0m\n\u001b[0m\u001b[1;32m    674\u001b[0m \u001b[0;34m\u001b[0m\u001b[0m\n\u001b[1;32m    675\u001b[0m \u001b[0;34m\u001b[0m\u001b[0m\n",
            "\u001b[0;31mLookupError\u001b[0m: \n**********************************************************************\n  Resource \u001b[93mstopwords\u001b[0m not found.\n  Please use the NLTK Downloader to obtain the resource:\n\n  \u001b[31m>>> import nltk\n  >>> nltk.download('stopwords')\n  \u001b[0m\n  Searched in:\n    - '/root/nltk_data'\n    - '/usr/share/nltk_data'\n    - '/usr/local/share/nltk_data'\n    - '/usr/lib/nltk_data'\n    - '/usr/local/lib/nltk_data'\n    - '/usr/nltk_data'\n    - '/usr/lib/nltk_data'\n**********************************************************************\n"
          ]
        }
      ]
    },
    {
      "cell_type": "code",
      "metadata": {
        "id": "8sjl8prUZ5Zv",
        "colab_type": "code",
        "colab": {
          "base_uri": "https://localhost:8080/",
          "height": 68
        },
        "outputId": "257283d1-52d0-4e06-c44b-77919b9e27ab"
      },
      "source": [
        "import nltk\n",
        "nltk.download('stopwords')"
      ],
      "execution_count": 44,
      "outputs": [
        {
          "output_type": "stream",
          "text": [
            "[nltk_data] Downloading package stopwords to /root/nltk_data...\n",
            "[nltk_data]   Unzipping corpora/stopwords.zip.\n"
          ],
          "name": "stdout"
        },
        {
          "output_type": "execute_result",
          "data": {
            "text/plain": [
              "True"
            ]
          },
          "metadata": {
            "tags": []
          },
          "execution_count": 44
        }
      ]
    },
    {
      "cell_type": "code",
      "metadata": {
        "id": "uuqrbfFQZ91U",
        "colab_type": "code",
        "colab": {}
      },
      "source": [
        "stopWords = stopwords.words('english')\n",
        "\n",
        "# pre processing data\n",
        "def cleanData(sentence):\n",
        "    processedList = \"\"\n",
        "    \n",
        "    # convert to lowercase, ignore all special characters - keep only alpha-numericals and spaces (not removing full-stop here)\n",
        "    sentence = re.sub(r'[^A-Za-z0-9\\s.]',r'',str(sentence).lower())\n",
        "    sentence = re.sub(r'\\n',r' ',sentence)\n",
        "    \n",
        "    # remove stop words\n",
        "    sentence = \" \".join([word for word in sentence.split() if word not in stopWords])\n",
        "    \n",
        "    return sentence"
      ],
      "execution_count": 0,
      "outputs": []
    },
    {
      "cell_type": "code",
      "metadata": {
        "id": "JrVKU-f6aD4Y",
        "colab_type": "code",
        "colab": {
          "base_uri": "https://localhost:8080/",
          "height": 54
        },
        "outputId": "624f38a8-bdc9-4aa2-cfc9-f009c470e804"
      },
      "source": [
        "cleanData(data['Description'][2])"
      ],
      "execution_count": 46,
      "outputs": [
        {
          "output_type": "execute_result",
          "data": {
            "text/plain": [
              "'booked hotel hotwire lowest price could find. got front desk manager gave us smoking room. argued little baby would booked room known smoking. manager would hear anything told hotwire books cheapest rooms available. get go unhappy. great deal persuasion discussion got nonsmoking room. thereafter room minimal amenities. besides great location near dupont circle much say overpriced hotel. room small ok condition. bathroom small tub. bathroom amenities also minimal. fridge microwave rent fridge staff keep baby things. parking costs per day best drive here. also breakfast included. lobby small feels old. thing available coffee lobby decent. poor service minimal amenities small rooms small bathrooms view great location. distance metro either mcpherson station dupont station. try look better available.'"
            ]
          },
          "metadata": {
            "tags": []
          },
          "execution_count": 46
        }
      ]
    },
    {
      "cell_type": "code",
      "metadata": {
        "id": "i9g06Yj3aQ0N",
        "colab_type": "code",
        "colab": {}
      },
      "source": [
        "data['Description'] = data['Description'].map(lambda x: cleanData(x))"
      ],
      "execution_count": 0,
      "outputs": []
    },
    {
      "cell_type": "code",
      "metadata": {
        "id": "Jae55A2-aUry",
        "colab_type": "code",
        "colab": {}
      },
      "source": [
        "tmp_corpus = data['Description'].map(lambda x: x.split('.'))"
      ],
      "execution_count": 0,
      "outputs": []
    },
    {
      "cell_type": "code",
      "metadata": {
        "id": "n5Q2j4GqaX63",
        "colab_type": "code",
        "colab": {
          "base_uri": "https://localhost:8080/",
          "height": 34
        },
        "outputId": "4d3a3fd5-2b1f-491d-fa75-add6f8eb3801"
      },
      "source": [
        "# corpus [[w1,w2,w3..],[..]]\n",
        "corpus = []\n",
        "for i in tqdm(range(len(tmp_corpus))):\n",
        "    for line in tmp_corpus[i]:\n",
        "        words = [x for x in line.split()]\n",
        "        corpus.append(words)"
      ],
      "execution_count": 49,
      "outputs": [
        {
          "output_type": "stream",
          "text": [
            "100%|██████████| 38932/38932 [00:02<00:00, 18997.45it/s]\n"
          ],
          "name": "stderr"
        }
      ]
    },
    {
      "cell_type": "code",
      "metadata": {
        "id": "M37qtviCaaK2",
        "colab_type": "code",
        "colab": {
          "base_uri": "https://localhost:8080/",
          "height": 51
        },
        "outputId": "a8d6bb61-d5fe-4c35-bc94-b818f073e4c5"
      },
      "source": [
        "num_of_sentences = len(corpus)\n",
        "num_of_words = 0\n",
        "for line in corpus:\n",
        "    num_of_words += len(line)\n",
        "\n",
        "print('Num of sentences - %s'%(num_of_sentences))\n",
        "print('Num of words - %s'%(num_of_words))"
      ],
      "execution_count": 50,
      "outputs": [
        {
          "output_type": "stream",
          "text": [
            "Num of sentences - 444271\n",
            "Num of words - 3111121\n"
          ],
          "name": "stdout"
        }
      ]
    },
    {
      "cell_type": "code",
      "metadata": {
        "id": "U5xHf4UnadKF",
        "colab_type": "code",
        "colab": {
          "base_uri": "https://localhost:8080/",
          "height": 867
        },
        "outputId": "7fee1037-f199-4f00-b889-e9a98cf746ab"
      },
      "source": [
        "phrases = Phrases(sentences=corpus,min_count=25,threshold=50)\n",
        "bigram = Phraser(phrases)"
      ],
      "execution_count": 51,
      "outputs": [
        {
          "output_type": "stream",
          "text": [
            "INFO - 08:58:49: collecting all words and their counts\n",
            "INFO - 08:58:49: PROGRESS: at sentence #0, processed 0 words and 0 word types\n",
            "INFO - 08:58:49: PROGRESS: at sentence #10000, processed 70801 words and 55905 word types\n",
            "INFO - 08:58:49: PROGRESS: at sentence #20000, processed 141274 words and 98827 word types\n",
            "INFO - 08:58:49: PROGRESS: at sentence #30000, processed 212516 words and 137942 word types\n",
            "INFO - 08:58:49: PROGRESS: at sentence #40000, processed 282042 words and 173306 word types\n",
            "INFO - 08:58:49: PROGRESS: at sentence #50000, processed 351277 words and 206238 word types\n",
            "INFO - 08:58:49: PROGRESS: at sentence #60000, processed 421236 words and 238626 word types\n",
            "INFO - 08:58:49: PROGRESS: at sentence #70000, processed 491663 words and 270170 word types\n",
            "INFO - 08:58:50: PROGRESS: at sentence #80000, processed 563363 words and 301134 word types\n",
            "INFO - 08:58:50: PROGRESS: at sentence #90000, processed 632424 words and 329645 word types\n",
            "INFO - 08:58:50: PROGRESS: at sentence #100000, processed 701322 words and 357247 word types\n",
            "INFO - 08:58:50: PROGRESS: at sentence #110000, processed 771797 words and 384971 word types\n",
            "INFO - 08:58:50: PROGRESS: at sentence #120000, processed 841968 words and 411336 word types\n",
            "INFO - 08:58:50: PROGRESS: at sentence #130000, processed 911798 words and 437236 word types\n",
            "INFO - 08:58:50: PROGRESS: at sentence #140000, processed 981259 words and 463070 word types\n",
            "INFO - 08:58:50: PROGRESS: at sentence #150000, processed 1051377 words and 487966 word types\n",
            "INFO - 08:58:51: PROGRESS: at sentence #160000, processed 1121048 words and 512366 word types\n",
            "INFO - 08:58:51: PROGRESS: at sentence #170000, processed 1190603 words and 536565 word types\n",
            "INFO - 08:58:51: PROGRESS: at sentence #180000, processed 1262158 words and 561564 word types\n",
            "INFO - 08:58:51: PROGRESS: at sentence #190000, processed 1333229 words and 585559 word types\n",
            "INFO - 08:58:51: PROGRESS: at sentence #200000, processed 1400838 words and 607301 word types\n",
            "INFO - 08:58:51: PROGRESS: at sentence #210000, processed 1472074 words and 630496 word types\n",
            "INFO - 08:58:51: PROGRESS: at sentence #220000, processed 1540938 words and 652697 word types\n",
            "INFO - 08:58:51: PROGRESS: at sentence #230000, processed 1611243 words and 674667 word types\n",
            "INFO - 08:58:51: PROGRESS: at sentence #240000, processed 1680573 words and 696182 word types\n",
            "INFO - 08:58:52: PROGRESS: at sentence #250000, processed 1751906 words and 718355 word types\n",
            "INFO - 08:58:52: PROGRESS: at sentence #260000, processed 1824412 words and 741600 word types\n",
            "INFO - 08:58:52: PROGRESS: at sentence #270000, processed 1895296 words and 763035 word types\n",
            "INFO - 08:58:52: PROGRESS: at sentence #280000, processed 1963989 words and 783818 word types\n",
            "INFO - 08:58:52: PROGRESS: at sentence #290000, processed 2033170 words and 804316 word types\n",
            "INFO - 08:58:52: PROGRESS: at sentence #300000, processed 2101031 words and 824124 word types\n",
            "INFO - 08:58:52: PROGRESS: at sentence #310000, processed 2169839 words and 844477 word types\n",
            "INFO - 08:58:52: PROGRESS: at sentence #320000, processed 2237865 words and 864110 word types\n",
            "INFO - 08:58:53: PROGRESS: at sentence #330000, processed 2307637 words and 884143 word types\n",
            "INFO - 08:58:53: PROGRESS: at sentence #340000, processed 2376912 words and 904075 word types\n",
            "INFO - 08:58:53: PROGRESS: at sentence #350000, processed 2448877 words and 924355 word types\n",
            "INFO - 08:58:53: PROGRESS: at sentence #360000, processed 2520343 words and 944141 word types\n",
            "INFO - 08:58:53: PROGRESS: at sentence #370000, processed 2589871 words and 963486 word types\n",
            "INFO - 08:58:53: PROGRESS: at sentence #380000, processed 2658891 words and 981972 word types\n",
            "INFO - 08:58:53: PROGRESS: at sentence #390000, processed 2729534 words and 1001172 word types\n",
            "INFO - 08:58:53: PROGRESS: at sentence #400000, processed 2800708 words and 1020788 word types\n",
            "INFO - 08:58:54: PROGRESS: at sentence #410000, processed 2871167 words and 1039786 word types\n",
            "INFO - 08:58:54: PROGRESS: at sentence #420000, processed 2942687 words and 1059235 word types\n",
            "INFO - 08:58:54: PROGRESS: at sentence #430000, processed 3012383 words and 1077848 word types\n",
            "INFO - 08:58:54: PROGRESS: at sentence #440000, processed 3080926 words and 1095525 word types\n",
            "INFO - 08:58:54: collected 1103927 word types from a corpus of 3111121 words (unigram + bigrams) and 444271 sentences\n",
            "INFO - 08:58:54: using 1103927 counts as vocab in Phrases<0 vocab, min_count=25, threshold=50, max_vocab_size=40000000>\n",
            "INFO - 08:58:54: source_vocab length 1103927\n",
            "INFO - 08:59:03: Phraser built with 761 phrasegrams\n"
          ],
          "name": "stderr"
        }
      ]
    },
    {
      "cell_type": "code",
      "metadata": {
        "id": "mz4H0m72agqo",
        "colab_type": "code",
        "colab": {}
      },
      "source": [
        "for index,sentence in enumerate(corpus):\n",
        "    corpus[index] = bigram[sentence]"
      ],
      "execution_count": 0,
      "outputs": []
    },
    {
      "cell_type": "code",
      "metadata": {
        "id": "tFazaFitanWx",
        "colab_type": "code",
        "colab": {}
      },
      "source": [
        "# shuffle corpus\n",
        "def shuffle_corpus(sentences):\n",
        "    shuffled = list(sentences)\n",
        "    random.shuffle(shuffled)\n",
        "    return shuffled"
      ],
      "execution_count": 0,
      "outputs": []
    },
    {
      "cell_type": "code",
      "metadata": {
        "id": "urBDbHQvaqpI",
        "colab_type": "code",
        "colab": {
          "base_uri": "https://localhost:8080/",
          "height": 1000
        },
        "outputId": "4e38297f-a65d-478c-aceb-d11a3a35c824"
      },
      "source": [
        "# sg - skip gram |  window = size of the window | size = vector dimension\n",
        "size = 100\n",
        "window_size = 2 # sentences weren't too long, so\n",
        "epochs = 100\n",
        "min_count = 2\n",
        "workers = 4\n",
        "\n",
        "# train word2vec model using gensim\n",
        "model = Word2Vec(corpus, sg=1,window=window_size,size=size,\n",
        "                 min_count=min_count,workers=workers,iter=epochs,sample=0.01)"
      ],
      "execution_count": 54,
      "outputs": [
        {
          "output_type": "stream",
          "text": [
            "INFO - 08:59:38: collecting all words and their counts\n",
            "INFO - 08:59:38: PROGRESS: at sentence #0, processed 0 words, keeping 0 word types\n",
            "INFO - 08:59:38: PROGRESS: at sentence #10000, processed 68251 words, keeping 8812 word types\n",
            "INFO - 08:59:38: PROGRESS: at sentence #20000, processed 136136 words, keeping 12451 word types\n",
            "INFO - 08:59:38: PROGRESS: at sentence #30000, processed 204641 words, keeping 15230 word types\n",
            "INFO - 08:59:38: PROGRESS: at sentence #40000, processed 271576 words, keeping 17587 word types\n",
            "INFO - 08:59:38: PROGRESS: at sentence #50000, processed 338157 words, keeping 19539 word types\n",
            "INFO - 08:59:38: PROGRESS: at sentence #60000, processed 405603 words, keeping 21363 word types\n",
            "INFO - 08:59:38: PROGRESS: at sentence #70000, processed 473392 words, keeping 23191 word types\n",
            "INFO - 08:59:38: PROGRESS: at sentence #80000, processed 542497 words, keeping 24845 word types\n",
            "INFO - 08:59:38: PROGRESS: at sentence #90000, processed 608985 words, keeping 26270 word types\n",
            "INFO - 08:59:38: PROGRESS: at sentence #100000, processed 675304 words, keeping 27626 word types\n",
            "INFO - 08:59:38: PROGRESS: at sentence #110000, processed 743073 words, keeping 29052 word types\n",
            "INFO - 08:59:38: PROGRESS: at sentence #120000, processed 810694 words, keeping 30231 word types\n",
            "INFO - 08:59:38: PROGRESS: at sentence #130000, processed 877962 words, keeping 31448 word types\n",
            "INFO - 08:59:38: PROGRESS: at sentence #140000, processed 945001 words, keeping 32759 word types\n",
            "INFO - 08:59:38: PROGRESS: at sentence #150000, processed 1012582 words, keeping 33903 word types\n",
            "INFO - 08:59:38: PROGRESS: at sentence #160000, processed 1079600 words, keeping 35051 word types\n",
            "INFO - 08:59:38: PROGRESS: at sentence #170000, processed 1146528 words, keeping 36143 word types\n",
            "INFO - 08:59:38: PROGRESS: at sentence #180000, processed 1215466 words, keeping 37326 word types\n",
            "INFO - 08:59:38: PROGRESS: at sentence #190000, processed 1283952 words, keeping 38431 word types\n",
            "INFO - 08:59:38: PROGRESS: at sentence #200000, processed 1349036 words, keeping 39337 word types\n",
            "INFO - 08:59:38: PROGRESS: at sentence #210000, processed 1417671 words, keeping 40366 word types\n",
            "INFO - 08:59:38: PROGRESS: at sentence #220000, processed 1483959 words, keeping 41345 word types\n",
            "INFO - 08:59:38: PROGRESS: at sentence #230000, processed 1551640 words, keeping 42329 word types\n",
            "INFO - 08:59:38: PROGRESS: at sentence #240000, processed 1618320 words, keeping 43190 word types\n",
            "INFO - 08:59:38: PROGRESS: at sentence #250000, processed 1687050 words, keeping 44114 word types\n",
            "INFO - 08:59:38: PROGRESS: at sentence #260000, processed 1756920 words, keeping 45140 word types\n",
            "INFO - 08:59:38: PROGRESS: at sentence #270000, processed 1825252 words, keeping 46057 word types\n",
            "INFO - 08:59:39: PROGRESS: at sentence #280000, processed 1891376 words, keeping 46910 word types\n",
            "INFO - 08:59:39: PROGRESS: at sentence #290000, processed 1957985 words, keeping 47775 word types\n",
            "INFO - 08:59:39: PROGRESS: at sentence #300000, processed 2023346 words, keeping 48608 word types\n",
            "INFO - 08:59:39: PROGRESS: at sentence #310000, processed 2089665 words, keeping 49507 word types\n",
            "INFO - 08:59:39: PROGRESS: at sentence #320000, processed 2155219 words, keeping 50380 word types\n",
            "INFO - 08:59:39: PROGRESS: at sentence #330000, processed 2222389 words, keeping 51197 word types\n",
            "INFO - 08:59:39: PROGRESS: at sentence #340000, processed 2289095 words, keeping 52071 word types\n",
            "INFO - 08:59:39: PROGRESS: at sentence #350000, processed 2358346 words, keeping 52889 word types\n",
            "INFO - 08:59:39: PROGRESS: at sentence #360000, processed 2427133 words, keeping 53625 word types\n",
            "INFO - 08:59:39: PROGRESS: at sentence #370000, processed 2494088 words, keeping 54468 word types\n",
            "INFO - 08:59:39: PROGRESS: at sentence #380000, processed 2560576 words, keeping 55179 word types\n",
            "INFO - 08:59:39: PROGRESS: at sentence #390000, processed 2628575 words, keeping 55922 word types\n",
            "INFO - 08:59:39: PROGRESS: at sentence #400000, processed 2697075 words, keeping 56756 word types\n",
            "INFO - 08:59:39: PROGRESS: at sentence #410000, processed 2764846 words, keeping 57527 word types\n",
            "INFO - 08:59:39: PROGRESS: at sentence #420000, processed 2833711 words, keeping 58311 word types\n",
            "INFO - 08:59:39: PROGRESS: at sentence #430000, processed 2900750 words, keeping 59023 word types\n",
            "INFO - 08:59:39: PROGRESS: at sentence #440000, processed 2966718 words, keeping 59708 word types\n",
            "INFO - 08:59:39: collected 60036 word types from a corpus of 2995867 raw words and 444271 sentences\n",
            "INFO - 08:59:39: Loading a fresh vocabulary\n",
            "INFO - 08:59:39: effective_min_count=2 retains 28072 unique words (46% of original 60036, drops 31964)\n",
            "INFO - 08:59:39: effective_min_count=2 leaves 2963903 word corpus (98% of original 2995867, drops 31964)\n",
            "INFO - 08:59:39: deleting the raw counts dictionary of 60036 items\n",
            "INFO - 08:59:39: sample=0.01 downsamples 0 most-common words\n",
            "INFO - 08:59:39: downsampling leaves estimated 2963903 word corpus (100.0% of prior 2963903)\n",
            "INFO - 08:59:39: estimated required memory for 28072 words and 100 dimensions: 36493600 bytes\n",
            "INFO - 08:59:39: resetting layer weights\n",
            "INFO - 08:59:44: training model with 4 workers on 28072 vocabulary and 100 features, using sg=1 hs=0 sample=0.01 negative=5 window=2\n",
            "INFO - 08:59:45: EPOCH 1 - PROGRESS: at 12.96% examples, 369764 words/s, in_qsize 7, out_qsize 0\n",
            "INFO - 08:59:46: EPOCH 1 - PROGRESS: at 26.98% examples, 390434 words/s, in_qsize 7, out_qsize 0\n",
            "INFO - 08:59:47: EPOCH 1 - PROGRESS: at 40.00% examples, 385424 words/s, in_qsize 7, out_qsize 0\n",
            "INFO - 08:59:48: EPOCH 1 - PROGRESS: at 53.68% examples, 387761 words/s, in_qsize 7, out_qsize 0\n",
            "INFO - 08:59:49: EPOCH 1 - PROGRESS: at 67.01% examples, 388499 words/s, in_qsize 7, out_qsize 0\n",
            "INFO - 08:59:50: EPOCH 1 - PROGRESS: at 80.76% examples, 390257 words/s, in_qsize 7, out_qsize 0\n",
            "INFO - 08:59:51: EPOCH 1 - PROGRESS: at 93.69% examples, 387744 words/s, in_qsize 7, out_qsize 0\n",
            "INFO - 08:59:52: worker thread finished; awaiting finish of 3 more threads\n",
            "INFO - 08:59:52: worker thread finished; awaiting finish of 2 more threads\n",
            "INFO - 08:59:52: worker thread finished; awaiting finish of 1 more threads\n",
            "INFO - 08:59:52: worker thread finished; awaiting finish of 0 more threads\n",
            "INFO - 08:59:52: EPOCH - 1 : training on 2995867 raw words (2963903 effective words) took 7.6s, 391319 effective words/s\n",
            "INFO - 08:59:53: EPOCH 2 - PROGRESS: at 12.64% examples, 369942 words/s, in_qsize 7, out_qsize 0\n",
            "INFO - 08:59:54: EPOCH 2 - PROGRESS: at 25.97% examples, 374620 words/s, in_qsize 5, out_qsize 2\n",
            "INFO - 08:59:55: EPOCH 2 - PROGRESS: at 40.00% examples, 384488 words/s, in_qsize 7, out_qsize 0\n",
            "INFO - 08:59:56: EPOCH 2 - PROGRESS: at 53.68% examples, 387679 words/s, in_qsize 7, out_qsize 0\n",
            "INFO - 08:59:57: EPOCH 2 - PROGRESS: at 67.38% examples, 387134 words/s, in_qsize 8, out_qsize 0\n",
            "INFO - 08:59:58: EPOCH 2 - PROGRESS: at 80.76% examples, 387942 words/s, in_qsize 7, out_qsize 0\n",
            "INFO - 08:59:59: EPOCH 2 - PROGRESS: at 94.03% examples, 388883 words/s, in_qsize 7, out_qsize 0\n",
            "INFO - 08:59:59: worker thread finished; awaiting finish of 3 more threads\n",
            "INFO - 08:59:59: worker thread finished; awaiting finish of 2 more threads\n",
            "INFO - 08:59:59: worker thread finished; awaiting finish of 1 more threads\n",
            "INFO - 08:59:59: worker thread finished; awaiting finish of 0 more threads\n",
            "INFO - 08:59:59: EPOCH - 2 : training on 2995867 raw words (2963903 effective words) took 7.6s, 390360 effective words/s\n",
            "INFO - 09:00:01: EPOCH 3 - PROGRESS: at 12.64% examples, 373372 words/s, in_qsize 7, out_qsize 0\n",
            "INFO - 09:00:02: EPOCH 3 - PROGRESS: at 25.97% examples, 381607 words/s, in_qsize 7, out_qsize 0\n",
            "INFO - 09:00:03: EPOCH 3 - PROGRESS: at 39.35% examples, 385645 words/s, in_qsize 7, out_qsize 0\n",
            "INFO - 09:00:04: EPOCH 3 - PROGRESS: at 53.05% examples, 387750 words/s, in_qsize 7, out_qsize 0\n",
            "INFO - 09:00:05: EPOCH 3 - PROGRESS: at 65.99% examples, 383898 words/s, in_qsize 8, out_qsize 2\n",
            "INFO - 09:00:06: EPOCH 3 - PROGRESS: at 80.10% examples, 386884 words/s, in_qsize 7, out_qsize 0\n",
            "INFO - 09:00:07: EPOCH 3 - PROGRESS: at 93.37% examples, 387078 words/s, in_qsize 7, out_qsize 0\n",
            "INFO - 09:00:07: worker thread finished; awaiting finish of 3 more threads\n",
            "INFO - 09:00:07: worker thread finished; awaiting finish of 2 more threads\n",
            "INFO - 09:00:07: worker thread finished; awaiting finish of 1 more threads\n",
            "INFO - 09:00:07: worker thread finished; awaiting finish of 0 more threads\n",
            "INFO - 09:00:07: EPOCH - 3 : training on 2995867 raw words (2963903 effective words) took 7.6s, 390540 effective words/s\n",
            "INFO - 09:00:08: EPOCH 4 - PROGRESS: at 12.64% examples, 370751 words/s, in_qsize 7, out_qsize 0\n",
            "INFO - 09:00:09: EPOCH 4 - PROGRESS: at 26.29% examples, 378536 words/s, in_qsize 7, out_qsize 0\n",
            "INFO - 09:00:10: EPOCH 4 - PROGRESS: at 40.00% examples, 384590 words/s, in_qsize 6, out_qsize 1\n",
            "INFO - 09:00:11: EPOCH 4 - PROGRESS: at 53.03% examples, 383640 words/s, in_qsize 6, out_qsize 2\n",
            "INFO - 09:00:12: EPOCH 4 - PROGRESS: at 67.00% examples, 387747 words/s, in_qsize 7, out_qsize 0\n",
            "INFO - 09:00:13: EPOCH 4 - PROGRESS: at 80.44% examples, 387871 words/s, in_qsize 7, out_qsize 0\n",
            "INFO - 09:00:14: EPOCH 4 - PROGRESS: at 94.05% examples, 389135 words/s, in_qsize 7, out_qsize 0\n",
            "INFO - 09:00:15: worker thread finished; awaiting finish of 3 more threads\n",
            "INFO - 09:00:15: worker thread finished; awaiting finish of 2 more threads\n",
            "INFO - 09:00:15: worker thread finished; awaiting finish of 1 more threads\n",
            "INFO - 09:00:15: worker thread finished; awaiting finish of 0 more threads\n",
            "INFO - 09:00:15: EPOCH - 4 : training on 2995867 raw words (2963903 effective words) took 7.6s, 390942 effective words/s\n",
            "INFO - 09:00:16: EPOCH 5 - PROGRESS: at 12.64% examples, 360987 words/s, in_qsize 8, out_qsize 2\n",
            "INFO - 09:00:17: EPOCH 5 - PROGRESS: at 25.97% examples, 377676 words/s, in_qsize 7, out_qsize 0\n",
            "INFO - 09:00:18: EPOCH 5 - PROGRESS: at 39.35% examples, 383387 words/s, in_qsize 7, out_qsize 0\n",
            "INFO - 09:00:19: EPOCH 5 - PROGRESS: at 53.03% examples, 385347 words/s, in_qsize 7, out_qsize 0\n",
            "INFO - 09:00:20: EPOCH 5 - PROGRESS: at 66.67% examples, 388147 words/s, in_qsize 7, out_qsize 0\n",
            "INFO - 09:00:21: EPOCH 5 - PROGRESS: at 80.11% examples, 389013 words/s, in_qsize 7, out_qsize 0\n",
            "INFO - 09:00:22: EPOCH 5 - PROGRESS: at 93.38% examples, 387502 words/s, in_qsize 7, out_qsize 0\n",
            "INFO - 09:00:22: worker thread finished; awaiting finish of 3 more threads\n",
            "INFO - 09:00:22: worker thread finished; awaiting finish of 2 more threads\n",
            "INFO - 09:00:22: worker thread finished; awaiting finish of 1 more threads\n",
            "INFO - 09:00:22: worker thread finished; awaiting finish of 0 more threads\n",
            "INFO - 09:00:22: EPOCH - 5 : training on 2995867 raw words (2963903 effective words) took 7.6s, 391405 effective words/s\n",
            "INFO - 09:00:23: EPOCH 6 - PROGRESS: at 12.64% examples, 357177 words/s, in_qsize 8, out_qsize 2\n",
            "INFO - 09:00:24: EPOCH 6 - PROGRESS: at 26.62% examples, 380871 words/s, in_qsize 7, out_qsize 0\n",
            "INFO - 09:00:25: EPOCH 6 - PROGRESS: at 39.35% examples, 376735 words/s, in_qsize 6, out_qsize 1\n",
            "INFO - 09:00:26: EPOCH 6 - PROGRESS: at 53.03% examples, 382714 words/s, in_qsize 6, out_qsize 1\n",
            "INFO - 09:00:27: EPOCH 6 - PROGRESS: at 66.67% examples, 384963 words/s, in_qsize 7, out_qsize 0\n",
            "INFO - 09:00:28: EPOCH 6 - PROGRESS: at 80.45% examples, 386670 words/s, in_qsize 7, out_qsize 0\n",
            "INFO - 09:00:29: EPOCH 6 - PROGRESS: at 94.03% examples, 388693 words/s, in_qsize 7, out_qsize 0\n",
            "INFO - 09:00:30: worker thread finished; awaiting finish of 3 more threads\n",
            "INFO - 09:00:30: worker thread finished; awaiting finish of 2 more threads\n",
            "INFO - 09:00:30: worker thread finished; awaiting finish of 1 more threads\n",
            "INFO - 09:00:30: worker thread finished; awaiting finish of 0 more threads\n",
            "INFO - 09:00:30: EPOCH - 6 : training on 2995867 raw words (2963903 effective words) took 7.6s, 391241 effective words/s\n",
            "INFO - 09:00:31: EPOCH 7 - PROGRESS: at 12.96% examples, 376140 words/s, in_qsize 7, out_qsize 0\n",
            "INFO - 09:00:32: EPOCH 7 - PROGRESS: at 26.62% examples, 390511 words/s, in_qsize 6, out_qsize 1\n",
            "INFO - 09:00:33: EPOCH 7 - PROGRESS: at 40.00% examples, 389331 words/s, in_qsize 7, out_qsize 0\n",
            "INFO - 09:00:34: EPOCH 7 - PROGRESS: at 53.36% examples, 390028 words/s, in_qsize 7, out_qsize 0\n",
            "INFO - 09:00:35: EPOCH 7 - PROGRESS: at 66.67% examples, 389030 words/s, in_qsize 7, out_qsize 0\n",
            "INFO - 09:00:36: EPOCH 7 - PROGRESS: at 80.11% examples, 387164 words/s, in_qsize 7, out_qsize 0\n",
            "INFO - 09:00:37: EPOCH 7 - PROGRESS: at 93.71% examples, 388763 words/s, in_qsize 7, out_qsize 0\n",
            "INFO - 09:00:37: worker thread finished; awaiting finish of 3 more threads\n",
            "INFO - 09:00:37: worker thread finished; awaiting finish of 2 more threads\n",
            "INFO - 09:00:37: worker thread finished; awaiting finish of 1 more threads\n",
            "INFO - 09:00:37: worker thread finished; awaiting finish of 0 more threads\n",
            "INFO - 09:00:37: EPOCH - 7 : training on 2995867 raw words (2963903 effective words) took 7.6s, 391234 effective words/s\n",
            "INFO - 09:00:38: EPOCH 8 - PROGRESS: at 12.64% examples, 362174 words/s, in_qsize 7, out_qsize 0\n",
            "INFO - 09:00:40: EPOCH 8 - PROGRESS: at 26.29% examples, 377989 words/s, in_qsize 7, out_qsize 0\n",
            "INFO - 09:00:41: EPOCH 8 - PROGRESS: at 40.00% examples, 383008 words/s, in_qsize 7, out_qsize 0\n",
            "INFO - 09:00:42: EPOCH 8 - PROGRESS: at 53.70% examples, 385993 words/s, in_qsize 7, out_qsize 0\n",
            "INFO - 09:00:43: EPOCH 8 - PROGRESS: at 66.67% examples, 384806 words/s, in_qsize 7, out_qsize 0\n",
            "INFO - 09:00:44: EPOCH 8 - PROGRESS: at 80.11% examples, 383481 words/s, in_qsize 6, out_qsize 1\n",
            "INFO - 09:00:45: EPOCH 8 - PROGRESS: at 93.38% examples, 384968 words/s, in_qsize 7, out_qsize 0\n",
            "INFO - 09:00:45: worker thread finished; awaiting finish of 3 more threads\n",
            "INFO - 09:00:45: worker thread finished; awaiting finish of 2 more threads\n",
            "INFO - 09:00:45: worker thread finished; awaiting finish of 1 more threads\n",
            "INFO - 09:00:45: worker thread finished; awaiting finish of 0 more threads\n",
            "INFO - 09:00:45: EPOCH - 8 : training on 2995867 raw words (2963903 effective words) took 7.6s, 387460 effective words/s\n",
            "INFO - 09:00:46: EPOCH 9 - PROGRESS: at 12.64% examples, 365942 words/s, in_qsize 7, out_qsize 0\n",
            "INFO - 09:00:47: EPOCH 9 - PROGRESS: at 25.97% examples, 375104 words/s, in_qsize 7, out_qsize 0\n",
            "INFO - 09:00:48: EPOCH 9 - PROGRESS: at 39.66% examples, 382668 words/s, in_qsize 7, out_qsize 0\n",
            "INFO - 09:00:49: EPOCH 9 - PROGRESS: at 52.69% examples, 383295 words/s, in_qsize 7, out_qsize 0\n",
            "INFO - 09:00:50: EPOCH 9 - PROGRESS: at 66.34% examples, 386229 words/s, in_qsize 7, out_qsize 0\n",
            "INFO - 09:00:51: EPOCH 9 - PROGRESS: at 79.13% examples, 384355 words/s, in_qsize 7, out_qsize 0\n",
            "INFO - 09:00:52: EPOCH 9 - PROGRESS: at 92.73% examples, 386159 words/s, in_qsize 7, out_qsize 0\n",
            "INFO - 09:00:53: worker thread finished; awaiting finish of 3 more threads\n",
            "INFO - 09:00:53: worker thread finished; awaiting finish of 2 more threads\n",
            "INFO - 09:00:53: worker thread finished; awaiting finish of 1 more threads\n",
            "INFO - 09:00:53: worker thread finished; awaiting finish of 0 more threads\n",
            "INFO - 09:00:53: EPOCH - 9 : training on 2995867 raw words (2963903 effective words) took 7.6s, 389010 effective words/s\n",
            "INFO - 09:00:54: EPOCH 10 - PROGRESS: at 12.96% examples, 381825 words/s, in_qsize 7, out_qsize 0\n",
            "INFO - 09:00:55: EPOCH 10 - PROGRESS: at 26.62% examples, 393200 words/s, in_qsize 7, out_qsize 0\n",
            "INFO - 09:00:56: EPOCH 10 - PROGRESS: at 39.98% examples, 390960 words/s, in_qsize 6, out_qsize 1\n",
            "INFO - 09:00:57: EPOCH 10 - PROGRESS: at 53.35% examples, 386378 words/s, in_qsize 7, out_qsize 0\n",
            "INFO - 09:00:58: EPOCH 10 - PROGRESS: at 67.38% examples, 392044 words/s, in_qsize 7, out_qsize 0\n",
            "INFO - 09:00:59: EPOCH 10 - PROGRESS: at 81.43% examples, 392268 words/s, in_qsize 7, out_qsize 0\n",
            "INFO - 09:01:00: EPOCH 10 - PROGRESS: at 95.03% examples, 393493 words/s, in_qsize 6, out_qsize 1\n",
            "INFO - 09:01:00: worker thread finished; awaiting finish of 3 more threads\n",
            "INFO - 09:01:00: worker thread finished; awaiting finish of 2 more threads\n",
            "INFO - 09:01:00: worker thread finished; awaiting finish of 1 more threads\n",
            "INFO - 09:01:00: worker thread finished; awaiting finish of 0 more threads\n",
            "INFO - 09:01:00: EPOCH - 10 : training on 2995867 raw words (2963903 effective words) took 7.5s, 396663 effective words/s\n",
            "INFO - 09:01:01: EPOCH 11 - PROGRESS: at 12.96% examples, 373095 words/s, in_qsize 7, out_qsize 0\n",
            "INFO - 09:01:02: EPOCH 11 - PROGRESS: at 26.62% examples, 384633 words/s, in_qsize 7, out_qsize 0\n",
            "INFO - 09:01:03: EPOCH 11 - PROGRESS: at 40.00% examples, 384538 words/s, in_qsize 7, out_qsize 0\n",
            "INFO - 09:01:04: EPOCH 11 - PROGRESS: at 53.35% examples, 385473 words/s, in_qsize 8, out_qsize 1\n",
            "INFO - 09:01:05: EPOCH 11 - PROGRESS: at 68.03% examples, 389630 words/s, in_qsize 7, out_qsize 0\n",
            "INFO - 09:01:06: EPOCH 11 - PROGRESS: at 82.06% examples, 393761 words/s, in_qsize 6, out_qsize 0\n",
            "INFO - 09:01:07: EPOCH 11 - PROGRESS: at 95.69% examples, 394119 words/s, in_qsize 7, out_qsize 0\n",
            "INFO - 09:01:08: worker thread finished; awaiting finish of 3 more threads\n",
            "INFO - 09:01:08: worker thread finished; awaiting finish of 2 more threads\n",
            "INFO - 09:01:08: worker thread finished; awaiting finish of 1 more threads\n",
            "INFO - 09:01:08: worker thread finished; awaiting finish of 0 more threads\n",
            "INFO - 09:01:08: EPOCH - 11 : training on 2995867 raw words (2963903 effective words) took 7.5s, 396210 effective words/s\n",
            "INFO - 09:01:09: EPOCH 12 - PROGRESS: at 13.64% examples, 381603 words/s, in_qsize 7, out_qsize 0\n",
            "INFO - 09:01:10: EPOCH 12 - PROGRESS: at 27.65% examples, 397032 words/s, in_qsize 8, out_qsize 0\n",
            "INFO - 09:01:11: EPOCH 12 - PROGRESS: at 41.30% examples, 395804 words/s, in_qsize 7, out_qsize 0\n",
            "INFO - 09:01:12: EPOCH 12 - PROGRESS: at 56.02% examples, 398954 words/s, in_qsize 7, out_qsize 0\n",
            "INFO - 09:01:13: EPOCH 12 - PROGRESS: at 69.76% examples, 398771 words/s, in_qsize 7, out_qsize 0\n",
            "INFO - 09:01:14: EPOCH 12 - PROGRESS: at 83.43% examples, 399806 words/s, in_qsize 7, out_qsize 1\n",
            "INFO - 09:01:15: EPOCH 12 - PROGRESS: at 97.37% examples, 400794 words/s, in_qsize 8, out_qsize 0\n",
            "INFO - 09:01:15: worker thread finished; awaiting finish of 3 more threads\n",
            "INFO - 09:01:15: worker thread finished; awaiting finish of 2 more threads\n",
            "INFO - 09:01:15: worker thread finished; awaiting finish of 1 more threads\n",
            "INFO - 09:01:15: worker thread finished; awaiting finish of 0 more threads\n",
            "INFO - 09:01:15: EPOCH - 12 : training on 2995867 raw words (2963903 effective words) took 7.4s, 403141 effective words/s\n",
            "INFO - 09:01:16: EPOCH 13 - PROGRESS: at 12.64% examples, 368423 words/s, in_qsize 7, out_qsize 1\n",
            "INFO - 09:01:17: EPOCH 13 - PROGRESS: at 26.29% examples, 386608 words/s, in_qsize 7, out_qsize 0\n",
            "INFO - 09:01:18: EPOCH 13 - PROGRESS: at 40.00% examples, 386819 words/s, in_qsize 6, out_qsize 1\n",
            "INFO - 09:01:19: EPOCH 13 - PROGRESS: at 54.39% examples, 396172 words/s, in_qsize 8, out_qsize 0\n",
            "INFO - 09:01:20: EPOCH 13 - PROGRESS: at 68.03% examples, 396732 words/s, in_qsize 7, out_qsize 0\n",
            "INFO - 09:01:21: EPOCH 13 - PROGRESS: at 82.11% examples, 397439 words/s, in_qsize 7, out_qsize 0\n",
            "INFO - 09:01:22: EPOCH 13 - PROGRESS: at 95.68% examples, 397961 words/s, in_qsize 8, out_qsize 1\n",
            "INFO - 09:01:22: worker thread finished; awaiting finish of 3 more threads\n",
            "INFO - 09:01:22: worker thread finished; awaiting finish of 2 more threads\n",
            "INFO - 09:01:22: worker thread finished; awaiting finish of 1 more threads\n",
            "INFO - 09:01:22: worker thread finished; awaiting finish of 0 more threads\n",
            "INFO - 09:01:22: EPOCH - 13 : training on 2995867 raw words (2963903 effective words) took 7.4s, 399796 effective words/s\n",
            "INFO - 09:01:24: EPOCH 14 - PROGRESS: at 13.31% examples, 383093 words/s, in_qsize 7, out_qsize 0\n",
            "INFO - 09:01:25: EPOCH 14 - PROGRESS: at 27.64% examples, 393463 words/s, in_qsize 7, out_qsize 0\n",
            "INFO - 09:01:26: EPOCH 14 - PROGRESS: at 40.98% examples, 393311 words/s, in_qsize 7, out_qsize 0\n",
            "INFO - 09:01:27: EPOCH 14 - PROGRESS: at 55.05% examples, 397727 words/s, in_qsize 7, out_qsize 0\n",
            "INFO - 09:01:28: EPOCH 14 - PROGRESS: at 69.08% examples, 399712 words/s, in_qsize 7, out_qsize 0\n",
            "INFO - 09:01:29: EPOCH 14 - PROGRESS: at 83.10% examples, 398605 words/s, in_qsize 7, out_qsize 0\n",
            "INFO - 09:01:30: EPOCH 14 - PROGRESS: at 97.03% examples, 400598 words/s, in_qsize 7, out_qsize 0\n",
            "INFO - 09:01:30: worker thread finished; awaiting finish of 3 more threads\n",
            "INFO - 09:01:30: worker thread finished; awaiting finish of 2 more threads\n",
            "INFO - 09:01:30: worker thread finished; awaiting finish of 1 more threads\n",
            "INFO - 09:01:30: worker thread finished; awaiting finish of 0 more threads\n",
            "INFO - 09:01:30: EPOCH - 14 : training on 2995867 raw words (2963903 effective words) took 7.4s, 402694 effective words/s\n",
            "INFO - 09:01:31: EPOCH 15 - PROGRESS: at 12.96% examples, 385586 words/s, in_qsize 6, out_qsize 1\n",
            "INFO - 09:01:32: EPOCH 15 - PROGRESS: at 26.98% examples, 392892 words/s, in_qsize 8, out_qsize 0\n",
            "INFO - 09:01:33: EPOCH 15 - PROGRESS: at 40.33% examples, 391113 words/s, in_qsize 5, out_qsize 2\n",
            "INFO - 09:01:34: EPOCH 15 - PROGRESS: at 54.39% examples, 394477 words/s, in_qsize 7, out_qsize 0\n",
            "INFO - 09:01:35: EPOCH 15 - PROGRESS: at 68.41% examples, 397555 words/s, in_qsize 7, out_qsize 0\n",
            "INFO - 09:01:36: EPOCH 15 - PROGRESS: at 82.07% examples, 395041 words/s, in_qsize 7, out_qsize 0\n",
            "INFO - 09:01:37: EPOCH 15 - PROGRESS: at 95.37% examples, 393426 words/s, in_qsize 6, out_qsize 1\n",
            "INFO - 09:01:37: worker thread finished; awaiting finish of 3 more threads\n",
            "INFO - 09:01:37: worker thread finished; awaiting finish of 2 more threads\n",
            "INFO - 09:01:37: worker thread finished; awaiting finish of 1 more threads\n",
            "INFO - 09:01:37: worker thread finished; awaiting finish of 0 more threads\n",
            "INFO - 09:01:37: EPOCH - 15 : training on 2995867 raw words (2963903 effective words) took 7.5s, 396880 effective words/s\n",
            "INFO - 09:01:38: EPOCH 16 - PROGRESS: at 12.64% examples, 374505 words/s, in_qsize 6, out_qsize 1\n",
            "INFO - 09:01:39: EPOCH 16 - PROGRESS: at 25.97% examples, 382711 words/s, in_qsize 7, out_qsize 0\n",
            "INFO - 09:01:40: EPOCH 16 - PROGRESS: at 39.66% examples, 387820 words/s, in_qsize 7, out_qsize 0\n",
            "INFO - 09:01:41: EPOCH 16 - PROGRESS: at 53.68% examples, 393967 words/s, in_qsize 7, out_qsize 0\n",
            "INFO - 09:01:42: EPOCH 16 - PROGRESS: at 67.05% examples, 394048 words/s, in_qsize 6, out_qsize 1\n",
            "INFO - 09:01:43: EPOCH 16 - PROGRESS: at 80.76% examples, 395786 words/s, in_qsize 7, out_qsize 0\n",
            "INFO - 09:01:44: EPOCH 16 - PROGRESS: at 94.03% examples, 394117 words/s, in_qsize 7, out_qsize 0\n",
            "INFO - 09:01:45: worker thread finished; awaiting finish of 3 more threads\n",
            "INFO - 09:01:45: worker thread finished; awaiting finish of 2 more threads\n",
            "INFO - 09:01:45: worker thread finished; awaiting finish of 1 more threads\n",
            "INFO - 09:01:45: worker thread finished; awaiting finish of 0 more threads\n",
            "INFO - 09:01:45: EPOCH - 16 : training on 2995867 raw words (2963903 effective words) took 7.4s, 397875 effective words/s\n",
            "INFO - 09:01:46: EPOCH 17 - PROGRESS: at 13.31% examples, 378904 words/s, in_qsize 8, out_qsize 0\n",
            "INFO - 09:01:47: EPOCH 17 - PROGRESS: at 27.66% examples, 398238 words/s, in_qsize 7, out_qsize 0\n",
            "INFO - 09:01:48: EPOCH 17 - PROGRESS: at 41.30% examples, 395224 words/s, in_qsize 5, out_qsize 2\n",
            "INFO - 09:01:49: EPOCH 17 - PROGRESS: at 55.68% examples, 399399 words/s, in_qsize 7, out_qsize 0\n",
            "INFO - 09:01:50: EPOCH 17 - PROGRESS: at 69.75% examples, 401596 words/s, in_qsize 7, out_qsize 0\n",
            "INFO - 09:01:51: EPOCH 17 - PROGRESS: at 83.78% examples, 400473 words/s, in_qsize 7, out_qsize 0\n",
            "INFO - 09:01:52: EPOCH 17 - PROGRESS: at 97.70% examples, 401858 words/s, in_qsize 7, out_qsize 0\n",
            "INFO - 09:01:52: worker thread finished; awaiting finish of 3 more threads\n",
            "INFO - 09:01:52: worker thread finished; awaiting finish of 2 more threads\n",
            "INFO - 09:01:52: worker thread finished; awaiting finish of 1 more threads\n",
            "INFO - 09:01:52: worker thread finished; awaiting finish of 0 more threads\n",
            "INFO - 09:01:52: EPOCH - 17 : training on 2995867 raw words (2963903 effective words) took 7.3s, 404733 effective words/s\n",
            "INFO - 09:01:53: EPOCH 18 - PROGRESS: at 13.31% examples, 382098 words/s, in_qsize 7, out_qsize 0\n",
            "INFO - 09:01:54: EPOCH 18 - PROGRESS: at 27.32% examples, 394098 words/s, in_qsize 7, out_qsize 0\n",
            "INFO - 09:01:55: EPOCH 18 - PROGRESS: at 39.66% examples, 384402 words/s, in_qsize 6, out_qsize 1\n",
            "INFO - 09:01:56: EPOCH 18 - PROGRESS: at 53.68% examples, 387440 words/s, in_qsize 7, out_qsize 0\n",
            "INFO - 09:01:57: EPOCH 18 - PROGRESS: at 68.03% examples, 393816 words/s, in_qsize 7, out_qsize 0\n",
            "INFO - 09:01:58: EPOCH 18 - PROGRESS: at 81.73% examples, 394389 words/s, in_qsize 7, out_qsize 0\n",
            "INFO - 09:01:59: EPOCH 18 - PROGRESS: at 95.36% examples, 395126 words/s, in_qsize 8, out_qsize 1\n",
            "INFO - 09:02:00: worker thread finished; awaiting finish of 3 more threads\n",
            "INFO - 09:02:00: worker thread finished; awaiting finish of 2 more threads\n",
            "INFO - 09:02:00: worker thread finished; awaiting finish of 1 more threads\n",
            "INFO - 09:02:00: worker thread finished; awaiting finish of 0 more threads\n",
            "INFO - 09:02:00: EPOCH - 18 : training on 2995867 raw words (2963903 effective words) took 7.4s, 399346 effective words/s\n",
            "INFO - 09:02:01: EPOCH 19 - PROGRESS: at 12.98% examples, 376031 words/s, in_qsize 7, out_qsize 0\n",
            "INFO - 09:02:02: EPOCH 19 - PROGRESS: at 26.98% examples, 390159 words/s, in_qsize 7, out_qsize 0\n",
            "INFO - 09:02:03: EPOCH 19 - PROGRESS: at 40.98% examples, 395814 words/s, in_qsize 7, out_qsize 1\n",
            "INFO - 09:02:04: EPOCH 19 - PROGRESS: at 55.05% examples, 399354 words/s, in_qsize 8, out_qsize 1\n",
            "INFO - 09:02:05: EPOCH 19 - PROGRESS: at 69.41% examples, 403408 words/s, in_qsize 7, out_qsize 0\n",
            "INFO - 09:02:06: EPOCH 19 - PROGRESS: at 83.77% examples, 403900 words/s, in_qsize 7, out_qsize 0\n",
            "INFO - 09:02:07: EPOCH 19 - PROGRESS: at 97.38% examples, 404046 words/s, in_qsize 7, out_qsize 0\n",
            "INFO - 09:02:07: worker thread finished; awaiting finish of 3 more threads\n",
            "INFO - 09:02:07: worker thread finished; awaiting finish of 2 more threads\n",
            "INFO - 09:02:07: worker thread finished; awaiting finish of 1 more threads\n",
            "INFO - 09:02:07: worker thread finished; awaiting finish of 0 more threads\n",
            "INFO - 09:02:07: EPOCH - 19 : training on 2995867 raw words (2963903 effective words) took 7.3s, 406158 effective words/s\n",
            "INFO - 09:02:08: EPOCH 20 - PROGRESS: at 12.97% examples, 380947 words/s, in_qsize 7, out_qsize 0\n",
            "INFO - 09:02:09: EPOCH 20 - PROGRESS: at 26.98% examples, 397474 words/s, in_qsize 7, out_qsize 0\n",
            "INFO - 09:02:10: EPOCH 20 - PROGRESS: at 40.98% examples, 401778 words/s, in_qsize 7, out_qsize 0\n",
            "INFO - 09:02:11: EPOCH 20 - PROGRESS: at 54.39% examples, 397904 words/s, in_qsize 7, out_qsize 0\n",
            "INFO - 09:02:12: EPOCH 20 - PROGRESS: at 68.03% examples, 396387 words/s, in_qsize 7, out_qsize 0\n",
            "INFO - 09:02:13: EPOCH 20 - PROGRESS: at 82.39% examples, 400144 words/s, in_qsize 7, out_qsize 0\n",
            "INFO - 09:02:14: EPOCH 20 - PROGRESS: at 96.71% examples, 401987 words/s, in_qsize 8, out_qsize 1\n",
            "INFO - 09:02:14: worker thread finished; awaiting finish of 3 more threads\n",
            "INFO - 09:02:14: worker thread finished; awaiting finish of 2 more threads\n",
            "INFO - 09:02:14: worker thread finished; awaiting finish of 1 more threads\n",
            "INFO - 09:02:14: worker thread finished; awaiting finish of 0 more threads\n",
            "INFO - 09:02:14: EPOCH - 20 : training on 2995867 raw words (2963903 effective words) took 7.3s, 406109 effective words/s\n",
            "INFO - 09:02:15: EPOCH 21 - PROGRESS: at 13.31% examples, 394266 words/s, in_qsize 7, out_qsize 0\n",
            "INFO - 09:02:16: EPOCH 21 - PROGRESS: at 27.32% examples, 404311 words/s, in_qsize 7, out_qsize 0\n",
            "INFO - 09:02:17: EPOCH 21 - PROGRESS: at 41.66% examples, 403515 words/s, in_qsize 7, out_qsize 0\n",
            "INFO - 09:02:18: EPOCH 21 - PROGRESS: at 56.00% examples, 406364 words/s, in_qsize 7, out_qsize 0\n",
            "INFO - 09:02:19: EPOCH 21 - PROGRESS: at 70.80% examples, 407683 words/s, in_qsize 7, out_qsize 0\n",
            "INFO - 09:02:20: EPOCH 21 - PROGRESS: at 85.12% examples, 407710 words/s, in_qsize 7, out_qsize 0\n",
            "INFO - 09:02:21: worker thread finished; awaiting finish of 3 more threads\n",
            "INFO - 09:02:21: worker thread finished; awaiting finish of 2 more threads\n",
            "INFO - 09:02:21: EPOCH 21 - PROGRESS: at 99.76% examples, 411087 words/s, in_qsize 1, out_qsize 1\n",
            "INFO - 09:02:21: worker thread finished; awaiting finish of 1 more threads\n",
            "INFO - 09:02:21: worker thread finished; awaiting finish of 0 more threads\n",
            "INFO - 09:02:21: EPOCH - 21 : training on 2995867 raw words (2963903 effective words) took 7.2s, 411490 effective words/s\n",
            "INFO - 09:02:22: EPOCH 22 - PROGRESS: at 13.31% examples, 391790 words/s, in_qsize 7, out_qsize 0\n",
            "INFO - 09:02:23: EPOCH 22 - PROGRESS: at 27.31% examples, 399230 words/s, in_qsize 7, out_qsize 0\n",
            "INFO - 09:02:24: EPOCH 22 - PROGRESS: at 42.30% examples, 406485 words/s, in_qsize 7, out_qsize 0\n",
            "INFO - 09:02:26: EPOCH 22 - PROGRESS: at 57.00% examples, 410092 words/s, in_qsize 7, out_qsize 0\n",
            "INFO - 09:02:27: EPOCH 22 - PROGRESS: at 71.81% examples, 413967 words/s, in_qsize 7, out_qsize 0\n",
            "INFO - 09:02:28: EPOCH 22 - PROGRESS: at 85.83% examples, 413477 words/s, in_qsize 7, out_qsize 0\n",
            "INFO - 09:02:28: worker thread finished; awaiting finish of 3 more threads\n",
            "INFO - 09:02:28: worker thread finished; awaiting finish of 2 more threads\n",
            "INFO - 09:02:28: worker thread finished; awaiting finish of 1 more threads\n",
            "INFO - 09:02:29: worker thread finished; awaiting finish of 0 more threads\n",
            "INFO - 09:02:29: EPOCH - 22 : training on 2995867 raw words (2963903 effective words) took 7.1s, 416997 effective words/s\n",
            "INFO - 09:02:30: EPOCH 23 - PROGRESS: at 13.64% examples, 389536 words/s, in_qsize 7, out_qsize 0\n",
            "INFO - 09:02:31: EPOCH 23 - PROGRESS: at 27.99% examples, 405966 words/s, in_qsize 7, out_qsize 0\n",
            "INFO - 09:02:32: EPOCH 23 - PROGRESS: at 42.00% examples, 408515 words/s, in_qsize 7, out_qsize 0\n",
            "INFO - 09:02:33: EPOCH 23 - PROGRESS: at 56.32% examples, 410133 words/s, in_qsize 7, out_qsize 0\n",
            "INFO - 09:02:34: EPOCH 23 - PROGRESS: at 71.15% examples, 414268 words/s, in_qsize 7, out_qsize 0\n",
            "INFO - 09:02:35: EPOCH 23 - PROGRESS: at 85.12% examples, 414159 words/s, in_qsize 7, out_qsize 0\n",
            "INFO - 09:02:36: worker thread finished; awaiting finish of 3 more threads\n",
            "INFO - 09:02:36: worker thread finished; awaiting finish of 2 more threads\n",
            "INFO - 09:02:36: worker thread finished; awaiting finish of 1 more threads\n",
            "INFO - 09:02:36: EPOCH 23 - PROGRESS: at 100.00% examples, 417729 words/s, in_qsize 0, out_qsize 1\n",
            "INFO - 09:02:36: worker thread finished; awaiting finish of 0 more threads\n",
            "INFO - 09:02:36: EPOCH - 23 : training on 2995867 raw words (2963903 effective words) took 7.1s, 417598 effective words/s\n",
            "INFO - 09:02:37: EPOCH 24 - PROGRESS: at 13.33% examples, 389571 words/s, in_qsize 7, out_qsize 0\n",
            "INFO - 09:02:38: EPOCH 24 - PROGRESS: at 27.65% examples, 404939 words/s, in_qsize 7, out_qsize 0\n",
            "INFO - 09:02:39: EPOCH 24 - PROGRESS: at 42.30% examples, 407050 words/s, in_qsize 7, out_qsize 0\n",
            "INFO - 09:02:40: EPOCH 24 - PROGRESS: at 56.66% examples, 411003 words/s, in_qsize 7, out_qsize 0\n",
            "INFO - 09:02:41: EPOCH 24 - PROGRESS: at 71.50% examples, 410212 words/s, in_qsize 6, out_qsize 1\n",
            "INFO - 09:02:42: EPOCH 24 - PROGRESS: at 85.83% examples, 412082 words/s, in_qsize 7, out_qsize 0\n",
            "INFO - 09:02:43: worker thread finished; awaiting finish of 3 more threads\n",
            "INFO - 09:02:43: worker thread finished; awaiting finish of 2 more threads\n",
            "INFO - 09:02:43: worker thread finished; awaiting finish of 1 more threads\n",
            "INFO - 09:02:43: worker thread finished; awaiting finish of 0 more threads\n",
            "INFO - 09:02:43: EPOCH - 24 : training on 2995867 raw words (2963903 effective words) took 7.2s, 414318 effective words/s\n",
            "INFO - 09:02:44: EPOCH 25 - PROGRESS: at 13.64% examples, 396100 words/s, in_qsize 7, out_qsize 0\n",
            "INFO - 09:02:45: EPOCH 25 - PROGRESS: at 27.65% examples, 399457 words/s, in_qsize 7, out_qsize 0\n",
            "INFO - 09:02:46: EPOCH 25 - PROGRESS: at 41.66% examples, 403176 words/s, in_qsize 7, out_qsize 0\n",
            "INFO - 09:02:47: EPOCH 25 - PROGRESS: at 55.35% examples, 401673 words/s, in_qsize 7, out_qsize 0\n",
            "INFO - 09:02:48: EPOCH 25 - PROGRESS: at 69.75% examples, 405311 words/s, in_qsize 7, out_qsize 0\n",
            "INFO - 09:02:49: EPOCH 25 - PROGRESS: at 84.12% examples, 407282 words/s, in_qsize 7, out_qsize 0\n",
            "INFO - 09:02:50: EPOCH 25 - PROGRESS: at 98.39% examples, 407177 words/s, in_qsize 5, out_qsize 0\n",
            "INFO - 09:02:50: worker thread finished; awaiting finish of 3 more threads\n",
            "INFO - 09:02:50: worker thread finished; awaiting finish of 2 more threads\n",
            "INFO - 09:02:50: worker thread finished; awaiting finish of 1 more threads\n",
            "INFO - 09:02:50: worker thread finished; awaiting finish of 0 more threads\n",
            "INFO - 09:02:50: EPOCH - 25 : training on 2995867 raw words (2963903 effective words) took 7.2s, 410687 effective words/s\n",
            "INFO - 09:02:51: EPOCH 26 - PROGRESS: at 13.30% examples, 388421 words/s, in_qsize 7, out_qsize 0\n",
            "INFO - 09:02:52: EPOCH 26 - PROGRESS: at 27.97% examples, 405325 words/s, in_qsize 7, out_qsize 0\n",
            "INFO - 09:02:53: EPOCH 26 - PROGRESS: at 42.29% examples, 406594 words/s, in_qsize 7, out_qsize 0\n",
            "INFO - 09:02:54: EPOCH 26 - PROGRESS: at 55.68% examples, 403704 words/s, in_qsize 7, out_qsize 0\n",
            "INFO - 09:02:55: EPOCH 26 - PROGRESS: at 69.75% examples, 405347 words/s, in_qsize 7, out_qsize 0\n",
            "INFO - 09:02:56: EPOCH 26 - PROGRESS: at 83.43% examples, 404359 words/s, in_qsize 7, out_qsize 0\n",
            "INFO - 09:02:57: EPOCH 26 - PROGRESS: at 97.72% examples, 404938 words/s, in_qsize 6, out_qsize 1\n",
            "INFO - 09:02:57: worker thread finished; awaiting finish of 3 more threads\n",
            "INFO - 09:02:57: worker thread finished; awaiting finish of 2 more threads\n",
            "INFO - 09:02:57: worker thread finished; awaiting finish of 1 more threads\n",
            "INFO - 09:02:57: worker thread finished; awaiting finish of 0 more threads\n",
            "INFO - 09:02:57: EPOCH - 26 : training on 2995867 raw words (2963903 effective words) took 7.3s, 408091 effective words/s\n",
            "INFO - 09:02:58: EPOCH 27 - PROGRESS: at 13.31% examples, 395248 words/s, in_qsize 7, out_qsize 0\n",
            "INFO - 09:02:59: EPOCH 27 - PROGRESS: at 27.63% examples, 405111 words/s, in_qsize 7, out_qsize 0\n",
            "INFO - 09:03:00: EPOCH 27 - PROGRESS: at 41.99% examples, 410762 words/s, in_qsize 7, out_qsize 0\n",
            "INFO - 09:03:01: EPOCH 27 - PROGRESS: at 56.00% examples, 409129 words/s, in_qsize 7, out_qsize 0\n",
            "INFO - 09:03:02: EPOCH 27 - PROGRESS: at 70.10% examples, 407882 words/s, in_qsize 7, out_qsize 0\n",
            "INFO - 09:03:03: EPOCH 27 - PROGRESS: at 83.77% examples, 406238 words/s, in_qsize 7, out_qsize 0\n",
            "INFO - 09:03:04: EPOCH 27 - PROGRESS: at 98.05% examples, 407319 words/s, in_qsize 6, out_qsize 0\n",
            "INFO - 09:03:04: worker thread finished; awaiting finish of 3 more threads\n",
            "INFO - 09:03:05: worker thread finished; awaiting finish of 2 more threads\n",
            "INFO - 09:03:05: worker thread finished; awaiting finish of 1 more threads\n",
            "INFO - 09:03:05: worker thread finished; awaiting finish of 0 more threads\n",
            "INFO - 09:03:05: EPOCH - 27 : training on 2995867 raw words (2963903 effective words) took 7.2s, 409336 effective words/s\n",
            "INFO - 09:03:06: EPOCH 28 - PROGRESS: at 13.65% examples, 389406 words/s, in_qsize 6, out_qsize 1\n",
            "INFO - 09:03:07: EPOCH 28 - PROGRESS: at 28.62% examples, 410478 words/s, in_qsize 7, out_qsize 0\n",
            "INFO - 09:03:08: EPOCH 28 - PROGRESS: at 42.96% examples, 414846 words/s, in_qsize 8, out_qsize 0\n",
            "INFO - 09:03:09: EPOCH 28 - PROGRESS: at 57.32% examples, 415518 words/s, in_qsize 7, out_qsize 0\n",
            "INFO - 09:03:10: EPOCH 28 - PROGRESS: at 71.46% examples, 415162 words/s, in_qsize 6, out_qsize 1\n",
            "INFO - 09:03:11: EPOCH 28 - PROGRESS: at 86.46% examples, 418686 words/s, in_qsize 7, out_qsize 0\n",
            "INFO - 09:03:12: worker thread finished; awaiting finish of 3 more threads\n",
            "INFO - 09:03:12: worker thread finished; awaiting finish of 2 more threads\n",
            "INFO - 09:03:12: worker thread finished; awaiting finish of 1 more threads\n",
            "INFO - 09:03:12: worker thread finished; awaiting finish of 0 more threads\n",
            "INFO - 09:03:12: EPOCH - 28 : training on 2995867 raw words (2963903 effective words) took 7.0s, 422503 effective words/s\n",
            "INFO - 09:03:13: EPOCH 29 - PROGRESS: at 14.34% examples, 424151 words/s, in_qsize 7, out_qsize 0\n",
            "INFO - 09:03:14: EPOCH 29 - PROGRESS: at 28.62% examples, 423864 words/s, in_qsize 7, out_qsize 0\n",
            "INFO - 09:03:15: EPOCH 29 - PROGRESS: at 44.01% examples, 430609 words/s, in_qsize 7, out_qsize 0\n",
            "INFO - 09:03:16: EPOCH 29 - PROGRESS: at 57.94% examples, 424479 words/s, in_qsize 7, out_qsize 0\n",
            "INFO - 09:03:17: EPOCH 29 - PROGRESS: at 73.47% examples, 427945 words/s, in_qsize 7, out_qsize 0\n",
            "INFO - 09:03:18: EPOCH 29 - PROGRESS: at 88.11% examples, 427456 words/s, in_qsize 6, out_qsize 1\n",
            "INFO - 09:03:18: worker thread finished; awaiting finish of 3 more threads\n",
            "INFO - 09:03:18: worker thread finished; awaiting finish of 2 more threads\n",
            "INFO - 09:03:18: worker thread finished; awaiting finish of 1 more threads\n",
            "INFO - 09:03:18: worker thread finished; awaiting finish of 0 more threads\n",
            "INFO - 09:03:18: EPOCH - 29 : training on 2995867 raw words (2963903 effective words) took 6.9s, 430350 effective words/s\n",
            "INFO - 09:03:19: EPOCH 30 - PROGRESS: at 13.99% examples, 414937 words/s, in_qsize 7, out_qsize 0\n",
            "INFO - 09:03:21: EPOCH 30 - PROGRESS: at 28.66% examples, 414651 words/s, in_qsize 7, out_qsize 0\n",
            "INFO - 09:03:22: EPOCH 30 - PROGRESS: at 43.31% examples, 419261 words/s, in_qsize 7, out_qsize 0\n",
            "INFO - 09:03:23: EPOCH 30 - PROGRESS: at 57.97% examples, 422002 words/s, in_qsize 7, out_qsize 0\n",
            "INFO - 09:03:24: EPOCH 30 - PROGRESS: at 72.47% examples, 421952 words/s, in_qsize 7, out_qsize 0\n",
            "INFO - 09:03:25: EPOCH 30 - PROGRESS: at 87.46% examples, 424302 words/s, in_qsize 7, out_qsize 0\n",
            "INFO - 09:03:25: worker thread finished; awaiting finish of 3 more threads\n",
            "INFO - 09:03:25: worker thread finished; awaiting finish of 2 more threads\n",
            "INFO - 09:03:25: worker thread finished; awaiting finish of 1 more threads\n",
            "INFO - 09:03:25: worker thread finished; awaiting finish of 0 more threads\n",
            "INFO - 09:03:25: EPOCH - 30 : training on 2995867 raw words (2963903 effective words) took 6.9s, 426668 effective words/s\n",
            "INFO - 09:03:26: EPOCH 31 - PROGRESS: at 13.99% examples, 409912 words/s, in_qsize 7, out_qsize 0\n",
            "INFO - 09:03:27: EPOCH 31 - PROGRESS: at 28.62% examples, 420956 words/s, in_qsize 7, out_qsize 0\n",
            "INFO - 09:03:29: EPOCH 31 - PROGRESS: at 43.66% examples, 420986 words/s, in_qsize 7, out_qsize 0\n",
            "INFO - 09:03:30: EPOCH 31 - PROGRESS: at 58.30% examples, 423146 words/s, in_qsize 7, out_qsize 1\n",
            "INFO - 09:03:31: EPOCH 31 - PROGRESS: at 73.48% examples, 427100 words/s, in_qsize 6, out_qsize 1\n",
            "INFO - 09:03:32: EPOCH 31 - PROGRESS: at 88.44% examples, 429832 words/s, in_qsize 7, out_qsize 0\n",
            "INFO - 09:03:32: worker thread finished; awaiting finish of 3 more threads\n",
            "INFO - 09:03:32: worker thread finished; awaiting finish of 2 more threads\n",
            "INFO - 09:03:32: worker thread finished; awaiting finish of 1 more threads\n",
            "INFO - 09:03:32: worker thread finished; awaiting finish of 0 more threads\n",
            "INFO - 09:03:32: EPOCH - 31 : training on 2995867 raw words (2963903 effective words) took 6.9s, 429684 effective words/s\n",
            "INFO - 09:03:33: EPOCH 32 - PROGRESS: at 14.34% examples, 411091 words/s, in_qsize 7, out_qsize 0\n",
            "INFO - 09:03:34: EPOCH 32 - PROGRESS: at 28.97% examples, 422077 words/s, in_qsize 7, out_qsize 0\n",
            "INFO - 09:03:35: EPOCH 32 - PROGRESS: at 42.97% examples, 419222 words/s, in_qsize 8, out_qsize 1\n",
            "INFO - 09:03:36: EPOCH 32 - PROGRESS: at 57.30% examples, 414822 words/s, in_qsize 7, out_qsize 0\n",
            "INFO - 09:03:37: EPOCH 32 - PROGRESS: at 72.15% examples, 418137 words/s, in_qsize 7, out_qsize 0\n",
            "INFO - 09:03:38: EPOCH 32 - PROGRESS: at 86.84% examples, 419398 words/s, in_qsize 7, out_qsize 0\n",
            "INFO - 09:03:39: worker thread finished; awaiting finish of 3 more threads\n",
            "INFO - 09:03:39: worker thread finished; awaiting finish of 2 more threads\n",
            "INFO - 09:03:39: worker thread finished; awaiting finish of 1 more threads\n",
            "INFO - 09:03:39: worker thread finished; awaiting finish of 0 more threads\n",
            "INFO - 09:03:39: EPOCH - 32 : training on 2995867 raw words (2963903 effective words) took 7.0s, 423291 effective words/s\n",
            "INFO - 09:03:40: EPOCH 33 - PROGRESS: at 13.64% examples, 397600 words/s, in_qsize 7, out_qsize 0\n",
            "INFO - 09:03:41: EPOCH 33 - PROGRESS: at 28.31% examples, 415696 words/s, in_qsize 7, out_qsize 0\n",
            "INFO - 09:03:42: EPOCH 33 - PROGRESS: at 42.62% examples, 417614 words/s, in_qsize 7, out_qsize 0\n",
            "INFO - 09:03:43: EPOCH 33 - PROGRESS: at 57.32% examples, 421899 words/s, in_qsize 7, out_qsize 0\n",
            "INFO - 09:03:44: EPOCH 33 - PROGRESS: at 72.15% examples, 422671 words/s, in_qsize 7, out_qsize 0\n",
            "INFO - 09:03:45: EPOCH 33 - PROGRESS: at 86.84% examples, 423430 words/s, in_qsize 7, out_qsize 0\n",
            "INFO - 09:03:46: worker thread finished; awaiting finish of 3 more threads\n",
            "INFO - 09:03:46: worker thread finished; awaiting finish of 2 more threads\n",
            "INFO - 09:03:46: worker thread finished; awaiting finish of 1 more threads\n",
            "INFO - 09:03:46: worker thread finished; awaiting finish of 0 more threads\n",
            "INFO - 09:03:46: EPOCH - 33 : training on 2995867 raw words (2963903 effective words) took 7.0s, 424551 effective words/s\n",
            "INFO - 09:03:47: EPOCH 34 - PROGRESS: at 13.98% examples, 410727 words/s, in_qsize 7, out_qsize 0\n",
            "INFO - 09:03:48: EPOCH 34 - PROGRESS: at 28.28% examples, 415888 words/s, in_qsize 6, out_qsize 1\n",
            "INFO - 09:03:49: EPOCH 34 - PROGRESS: at 43.31% examples, 425433 words/s, in_qsize 7, out_qsize 0\n",
            "INFO - 09:03:50: EPOCH 34 - PROGRESS: at 57.32% examples, 422811 words/s, in_qsize 7, out_qsize 0\n",
            "INFO - 09:03:51: EPOCH 34 - PROGRESS: at 72.15% examples, 424408 words/s, in_qsize 7, out_qsize 0\n",
            "INFO - 09:03:52: EPOCH 34 - PROGRESS: at 87.46% examples, 425719 words/s, in_qsize 7, out_qsize 0\n",
            "INFO - 09:03:53: worker thread finished; awaiting finish of 3 more threads\n",
            "INFO - 09:03:53: worker thread finished; awaiting finish of 2 more threads\n",
            "INFO - 09:03:53: worker thread finished; awaiting finish of 1 more threads\n",
            "INFO - 09:03:53: worker thread finished; awaiting finish of 0 more threads\n",
            "INFO - 09:03:53: EPOCH - 34 : training on 2995867 raw words (2963903 effective words) took 6.9s, 430285 effective words/s\n",
            "INFO - 09:03:54: EPOCH 35 - PROGRESS: at 14.34% examples, 407815 words/s, in_qsize 7, out_qsize 0\n",
            "INFO - 09:03:55: EPOCH 35 - PROGRESS: at 29.32% examples, 418972 words/s, in_qsize 7, out_qsize 0\n",
            "INFO - 09:03:56: EPOCH 35 - PROGRESS: at 42.97% examples, 413956 words/s, in_qsize 6, out_qsize 1\n",
            "INFO - 09:03:57: EPOCH 35 - PROGRESS: at 56.98% examples, 413021 words/s, in_qsize 7, out_qsize 0\n",
            "INFO - 09:03:58: EPOCH 35 - PROGRESS: at 71.50% examples, 415324 words/s, in_qsize 7, out_qsize 0\n",
            "INFO - 09:03:59: EPOCH 35 - PROGRESS: at 85.79% examples, 416789 words/s, in_qsize 7, out_qsize 0\n",
            "INFO - 09:04:00: worker thread finished; awaiting finish of 3 more threads\n",
            "INFO - 09:04:00: worker thread finished; awaiting finish of 2 more threads\n",
            "INFO - 09:04:00: worker thread finished; awaiting finish of 1 more threads\n",
            "INFO - 09:04:00: worker thread finished; awaiting finish of 0 more threads\n",
            "INFO - 09:04:00: EPOCH - 35 : training on 2995867 raw words (2963903 effective words) took 7.0s, 421441 effective words/s\n",
            "INFO - 09:04:01: EPOCH 36 - PROGRESS: at 14.34% examples, 418056 words/s, in_qsize 7, out_qsize 0\n",
            "INFO - 09:04:02: EPOCH 36 - PROGRESS: at 29.32% examples, 427861 words/s, in_qsize 7, out_qsize 0\n",
            "INFO - 09:04:03: EPOCH 36 - PROGRESS: at 44.33% examples, 431412 words/s, in_qsize 7, out_qsize 0\n",
            "INFO - 09:04:04: EPOCH 36 - PROGRESS: at 58.92% examples, 431303 words/s, in_qsize 8, out_qsize 1\n",
            "INFO - 09:04:05: EPOCH 36 - PROGRESS: at 74.16% examples, 432482 words/s, in_qsize 7, out_qsize 0\n",
            "INFO - 09:04:06: EPOCH 36 - PROGRESS: at 89.43% examples, 431775 words/s, in_qsize 6, out_qsize 1\n",
            "INFO - 09:04:07: worker thread finished; awaiting finish of 3 more threads\n",
            "INFO - 09:04:07: worker thread finished; awaiting finish of 2 more threads\n",
            "INFO - 09:04:07: worker thread finished; awaiting finish of 1 more threads\n",
            "INFO - 09:04:07: worker thread finished; awaiting finish of 0 more threads\n",
            "INFO - 09:04:07: EPOCH - 36 : training on 2995867 raw words (2963903 effective words) took 6.8s, 437050 effective words/s\n",
            "INFO - 09:04:08: EPOCH 37 - PROGRESS: at 14.99% examples, 426320 words/s, in_qsize 7, out_qsize 0\n",
            "INFO - 09:04:09: EPOCH 37 - PROGRESS: at 29.99% examples, 429256 words/s, in_qsize 7, out_qsize 0\n",
            "INFO - 09:04:10: EPOCH 37 - PROGRESS: at 45.03% examples, 433329 words/s, in_qsize 7, out_qsize 0\n",
            "INFO - 09:04:11: EPOCH 37 - PROGRESS: at 59.90% examples, 435840 words/s, in_qsize 7, out_qsize 0\n",
            "INFO - 09:04:12: EPOCH 37 - PROGRESS: at 75.17% examples, 437427 words/s, in_qsize 7, out_qsize 0\n",
            "INFO - 09:04:13: EPOCH 37 - PROGRESS: at 90.42% examples, 438673 words/s, in_qsize 7, out_qsize 0\n",
            "INFO - 09:04:14: worker thread finished; awaiting finish of 3 more threads\n",
            "INFO - 09:04:14: worker thread finished; awaiting finish of 2 more threads\n",
            "INFO - 09:04:14: worker thread finished; awaiting finish of 1 more threads\n",
            "INFO - 09:04:14: worker thread finished; awaiting finish of 0 more threads\n",
            "INFO - 09:04:14: EPOCH - 37 : training on 2995867 raw words (2963903 effective words) took 6.7s, 440806 effective words/s\n",
            "INFO - 09:04:15: EPOCH 38 - PROGRESS: at 13.99% examples, 413914 words/s, in_qsize 8, out_qsize 0\n",
            "INFO - 09:04:16: EPOCH 38 - PROGRESS: at 29.32% examples, 425804 words/s, in_qsize 8, out_qsize 0\n",
            "INFO - 09:04:17: EPOCH 38 - PROGRESS: at 44.33% examples, 431971 words/s, in_qsize 7, out_qsize 0\n",
            "INFO - 09:04:18: EPOCH 38 - PROGRESS: at 59.57% examples, 430383 words/s, in_qsize 7, out_qsize 0\n",
            "INFO - 09:04:19: EPOCH 38 - PROGRESS: at 74.83% examples, 431008 words/s, in_qsize 7, out_qsize 0\n",
            "INFO - 09:04:20: EPOCH 38 - PROGRESS: at 90.09% examples, 432543 words/s, in_qsize 7, out_qsize 0\n",
            "INFO - 09:04:21: worker thread finished; awaiting finish of 3 more threads\n",
            "INFO - 09:04:21: worker thread finished; awaiting finish of 2 more threads\n",
            "INFO - 09:04:21: worker thread finished; awaiting finish of 1 more threads\n",
            "INFO - 09:04:21: worker thread finished; awaiting finish of 0 more threads\n",
            "INFO - 09:04:21: EPOCH - 38 : training on 2995867 raw words (2963903 effective words) took 6.8s, 435820 effective words/s\n",
            "INFO - 09:04:22: EPOCH 39 - PROGRESS: at 13.64% examples, 404658 words/s, in_qsize 7, out_qsize 0\n",
            "INFO - 09:04:23: EPOCH 39 - PROGRESS: at 28.31% examples, 419210 words/s, in_qsize 7, out_qsize 0\n",
            "INFO - 09:04:24: EPOCH 39 - PROGRESS: at 43.31% examples, 422124 words/s, in_qsize 7, out_qsize 0\n",
            "INFO - 09:04:25: EPOCH 39 - PROGRESS: at 58.59% examples, 430065 words/s, in_qsize 7, out_qsize 0\n",
            "INFO - 09:04:26: EPOCH 39 - PROGRESS: at 74.16% examples, 431242 words/s, in_qsize 7, out_qsize 0\n",
            "INFO - 09:04:27: EPOCH 39 - PROGRESS: at 89.11% examples, 433074 words/s, in_qsize 7, out_qsize 0\n",
            "INFO - 09:04:27: worker thread finished; awaiting finish of 3 more threads\n",
            "INFO - 09:04:27: worker thread finished; awaiting finish of 2 more threads\n",
            "INFO - 09:04:27: worker thread finished; awaiting finish of 1 more threads\n",
            "INFO - 09:04:27: worker thread finished; awaiting finish of 0 more threads\n",
            "INFO - 09:04:27: EPOCH - 39 : training on 2995867 raw words (2963903 effective words) took 6.8s, 437086 effective words/s\n",
            "INFO - 09:04:28: EPOCH 40 - PROGRESS: at 15.01% examples, 430071 words/s, in_qsize 7, out_qsize 0\n",
            "INFO - 09:04:29: EPOCH 40 - PROGRESS: at 29.32% examples, 427529 words/s, in_qsize 7, out_qsize 0\n",
            "INFO - 09:04:30: EPOCH 40 - PROGRESS: at 44.67% examples, 435670 words/s, in_qsize 7, out_qsize 0\n",
            "INFO - 09:04:31: EPOCH 40 - PROGRESS: at 59.57% examples, 436445 words/s, in_qsize 7, out_qsize 0\n",
            "INFO - 09:04:32: EPOCH 40 - PROGRESS: at 75.17% examples, 439582 words/s, in_qsize 7, out_qsize 0\n",
            "INFO - 09:04:34: EPOCH 40 - PROGRESS: at 90.75% examples, 439351 words/s, in_qsize 7, out_qsize 0\n",
            "INFO - 09:04:34: worker thread finished; awaiting finish of 3 more threads\n",
            "INFO - 09:04:34: worker thread finished; awaiting finish of 2 more threads\n",
            "INFO - 09:04:34: worker thread finished; awaiting finish of 1 more threads\n",
            "INFO - 09:04:34: worker thread finished; awaiting finish of 0 more threads\n",
            "INFO - 09:04:34: EPOCH - 40 : training on 2995867 raw words (2963903 effective words) took 6.7s, 443862 effective words/s\n",
            "INFO - 09:04:35: EPOCH 41 - PROGRESS: at 14.68% examples, 422947 words/s, in_qsize 6, out_qsize 1\n",
            "INFO - 09:04:36: EPOCH 41 - PROGRESS: at 30.67% examples, 435123 words/s, in_qsize 7, out_qsize 1\n",
            "INFO - 09:04:37: EPOCH 41 - PROGRESS: at 46.32% examples, 443145 words/s, in_qsize 7, out_qsize 0\n",
            "INFO - 09:04:38: EPOCH 41 - PROGRESS: at 61.61% examples, 442993 words/s, in_qsize 7, out_qsize 0\n",
            "INFO - 09:04:39: EPOCH 41 - PROGRESS: at 77.18% examples, 440913 words/s, in_qsize 7, out_qsize 0\n",
            "INFO - 09:04:40: EPOCH 41 - PROGRESS: at 92.42% examples, 439628 words/s, in_qsize 7, out_qsize 0\n",
            "INFO - 09:04:41: worker thread finished; awaiting finish of 3 more threads\n",
            "INFO - 09:04:41: worker thread finished; awaiting finish of 2 more threads\n",
            "INFO - 09:04:41: worker thread finished; awaiting finish of 1 more threads\n",
            "INFO - 09:04:41: worker thread finished; awaiting finish of 0 more threads\n",
            "INFO - 09:04:41: EPOCH - 41 : training on 2995867 raw words (2963903 effective words) took 6.7s, 442971 effective words/s\n",
            "INFO - 09:04:42: EPOCH 42 - PROGRESS: at 14.65% examples, 433577 words/s, in_qsize 7, out_qsize 0\n",
            "INFO - 09:04:43: EPOCH 42 - PROGRESS: at 29.64% examples, 438775 words/s, in_qsize 8, out_qsize 0\n",
            "INFO - 09:04:44: EPOCH 42 - PROGRESS: at 44.66% examples, 439091 words/s, in_qsize 7, out_qsize 0\n",
            "INFO - 09:04:45: EPOCH 42 - PROGRESS: at 59.91% examples, 437846 words/s, in_qsize 7, out_qsize 0\n",
            "INFO - 09:04:46: EPOCH 42 - PROGRESS: at 75.50% examples, 441023 words/s, in_qsize 6, out_qsize 1\n",
            "INFO - 09:04:47: EPOCH 42 - PROGRESS: at 90.75% examples, 441491 words/s, in_qsize 7, out_qsize 0\n",
            "INFO - 09:04:47: worker thread finished; awaiting finish of 3 more threads\n",
            "INFO - 09:04:47: worker thread finished; awaiting finish of 2 more threads\n",
            "INFO - 09:04:47: worker thread finished; awaiting finish of 1 more threads\n",
            "INFO - 09:04:47: worker thread finished; awaiting finish of 0 more threads\n",
            "INFO - 09:04:47: EPOCH - 42 : training on 2995867 raw words (2963903 effective words) took 6.7s, 445017 effective words/s\n",
            "INFO - 09:04:48: EPOCH 43 - PROGRESS: at 14.68% examples, 427376 words/s, in_qsize 7, out_qsize 0\n",
            "INFO - 09:04:50: EPOCH 43 - PROGRESS: at 30.65% examples, 442071 words/s, in_qsize 7, out_qsize 0\n",
            "INFO - 09:04:51: EPOCH 43 - PROGRESS: at 45.36% examples, 438978 words/s, in_qsize 7, out_qsize 0\n",
            "INFO - 09:04:52: EPOCH 43 - PROGRESS: at 59.91% examples, 437492 words/s, in_qsize 7, out_qsize 0\n",
            "INFO - 09:04:53: EPOCH 43 - PROGRESS: at 75.51% examples, 440704 words/s, in_qsize 7, out_qsize 0\n",
            "INFO - 09:04:54: EPOCH 43 - PROGRESS: at 89.75% examples, 437310 words/s, in_qsize 7, out_qsize 0\n",
            "INFO - 09:04:54: worker thread finished; awaiting finish of 3 more threads\n",
            "INFO - 09:04:54: worker thread finished; awaiting finish of 2 more threads\n",
            "INFO - 09:04:54: worker thread finished; awaiting finish of 1 more threads\n",
            "INFO - 09:04:54: worker thread finished; awaiting finish of 0 more threads\n",
            "INFO - 09:04:54: EPOCH - 43 : training on 2995867 raw words (2963903 effective words) took 6.7s, 441492 effective words/s\n",
            "INFO - 09:04:55: EPOCH 44 - PROGRESS: at 14.32% examples, 418957 words/s, in_qsize 7, out_qsize 0\n",
            "INFO - 09:04:56: EPOCH 44 - PROGRESS: at 29.30% examples, 417497 words/s, in_qsize 7, out_qsize 0\n",
            "INFO - 09:04:57: EPOCH 44 - PROGRESS: at 44.33% examples, 424821 words/s, in_qsize 7, out_qsize 0\n",
            "INFO - 09:04:58: EPOCH 44 - PROGRESS: at 59.58% examples, 429584 words/s, in_qsize 7, out_qsize 0\n",
            "INFO - 09:04:59: EPOCH 44 - PROGRESS: at 75.51% examples, 433604 words/s, in_qsize 7, out_qsize 0\n",
            "INFO - 09:05:00: EPOCH 44 - PROGRESS: at 91.10% examples, 437557 words/s, in_qsize 7, out_qsize 0\n",
            "INFO - 09:05:01: worker thread finished; awaiting finish of 3 more threads\n",
            "INFO - 09:05:01: worker thread finished; awaiting finish of 2 more threads\n",
            "INFO - 09:05:01: worker thread finished; awaiting finish of 1 more threads\n",
            "INFO - 09:05:01: worker thread finished; awaiting finish of 0 more threads\n",
            "INFO - 09:05:01: EPOCH - 44 : training on 2995867 raw words (2963903 effective words) took 6.7s, 442259 effective words/s\n",
            "INFO - 09:05:02: EPOCH 45 - PROGRESS: at 14.34% examples, 424458 words/s, in_qsize 7, out_qsize 0\n",
            "INFO - 09:05:03: EPOCH 45 - PROGRESS: at 29.32% examples, 432461 words/s, in_qsize 7, out_qsize 0\n",
            "INFO - 09:05:04: EPOCH 45 - PROGRESS: at 44.67% examples, 438291 words/s, in_qsize 6, out_qsize 1\n",
            "INFO - 09:05:05: EPOCH 45 - PROGRESS: at 60.25% examples, 444658 words/s, in_qsize 7, out_qsize 0\n",
            "INFO - 09:05:06: EPOCH 45 - PROGRESS: at 75.83% examples, 443868 words/s, in_qsize 8, out_qsize 1\n",
            "INFO - 09:05:07: EPOCH 45 - PROGRESS: at 91.09% examples, 445583 words/s, in_qsize 8, out_qsize 0\n",
            "INFO - 09:05:07: worker thread finished; awaiting finish of 3 more threads\n",
            "INFO - 09:05:07: worker thread finished; awaiting finish of 2 more threads\n",
            "INFO - 09:05:07: worker thread finished; awaiting finish of 1 more threads\n",
            "INFO - 09:05:07: worker thread finished; awaiting finish of 0 more threads\n",
            "INFO - 09:05:07: EPOCH - 45 : training on 2995867 raw words (2963903 effective words) took 6.6s, 449095 effective words/s\n",
            "INFO - 09:05:09: EPOCH 46 - PROGRESS: at 15.32% examples, 447431 words/s, in_qsize 7, out_qsize 0\n",
            "INFO - 09:05:10: EPOCH 46 - PROGRESS: at 30.68% examples, 442149 words/s, in_qsize 6, out_qsize 1\n",
            "INFO - 09:05:11: EPOCH 46 - PROGRESS: at 46.67% examples, 449957 words/s, in_qsize 7, out_qsize 0\n",
            "INFO - 09:05:12: EPOCH 46 - PROGRESS: at 62.61% examples, 450537 words/s, in_qsize 7, out_qsize 0\n",
            "INFO - 09:05:13: EPOCH 46 - PROGRESS: at 78.46% examples, 452964 words/s, in_qsize 7, out_qsize 0\n",
            "INFO - 09:05:14: EPOCH 46 - PROGRESS: at 93.71% examples, 452466 words/s, in_qsize 7, out_qsize 0\n",
            "INFO - 09:05:14: worker thread finished; awaiting finish of 3 more threads\n",
            "INFO - 09:05:14: worker thread finished; awaiting finish of 2 more threads\n",
            "INFO - 09:05:14: worker thread finished; awaiting finish of 1 more threads\n",
            "INFO - 09:05:14: worker thread finished; awaiting finish of 0 more threads\n",
            "INFO - 09:05:14: EPOCH - 46 : training on 2995867 raw words (2963903 effective words) took 6.5s, 454984 effective words/s\n",
            "INFO - 09:05:15: EPOCH 47 - PROGRESS: at 15.00% examples, 431057 words/s, in_qsize 8, out_qsize 0\n",
            "INFO - 09:05:16: EPOCH 47 - PROGRESS: at 31.00% examples, 450763 words/s, in_qsize 7, out_qsize 0\n",
            "INFO - 09:05:17: EPOCH 47 - PROGRESS: at 46.00% examples, 447747 words/s, in_qsize 7, out_qsize 0\n",
            "INFO - 09:05:18: EPOCH 47 - PROGRESS: at 61.61% examples, 449362 words/s, in_qsize 7, out_qsize 0\n",
            "INFO - 09:05:19: EPOCH 47 - PROGRESS: at 77.18% examples, 450051 words/s, in_qsize 7, out_qsize 0\n",
            "INFO - 09:05:20: EPOCH 47 - PROGRESS: at 93.07% examples, 450860 words/s, in_qsize 7, out_qsize 0\n",
            "INFO - 09:05:21: worker thread finished; awaiting finish of 3 more threads\n",
            "INFO - 09:05:21: worker thread finished; awaiting finish of 2 more threads\n",
            "INFO - 09:05:21: worker thread finished; awaiting finish of 1 more threads\n",
            "INFO - 09:05:21: worker thread finished; awaiting finish of 0 more threads\n",
            "INFO - 09:05:21: EPOCH - 47 : training on 2995867 raw words (2963903 effective words) took 6.5s, 455105 effective words/s\n",
            "INFO - 09:05:22: EPOCH 48 - PROGRESS: at 15.00% examples, 442987 words/s, in_qsize 7, out_qsize 0\n",
            "INFO - 09:05:23: EPOCH 48 - PROGRESS: at 29.99% examples, 436559 words/s, in_qsize 7, out_qsize 0\n",
            "INFO - 09:05:24: EPOCH 48 - PROGRESS: at 46.04% examples, 448012 words/s, in_qsize 7, out_qsize 0\n",
            "INFO - 09:05:25: EPOCH 48 - PROGRESS: at 60.93% examples, 443709 words/s, in_qsize 7, out_qsize 0\n",
            "INFO - 09:05:26: EPOCH 48 - PROGRESS: at 76.17% examples, 443780 words/s, in_qsize 7, out_qsize 0\n",
            "INFO - 09:05:27: EPOCH 48 - PROGRESS: at 91.77% examples, 446841 words/s, in_qsize 7, out_qsize 0\n",
            "INFO - 09:05:27: worker thread finished; awaiting finish of 3 more threads\n",
            "INFO - 09:05:27: worker thread finished; awaiting finish of 2 more threads\n",
            "INFO - 09:05:27: worker thread finished; awaiting finish of 1 more threads\n",
            "INFO - 09:05:27: worker thread finished; awaiting finish of 0 more threads\n",
            "INFO - 09:05:27: EPOCH - 48 : training on 2995867 raw words (2963903 effective words) took 6.6s, 448951 effective words/s\n",
            "INFO - 09:05:28: EPOCH 49 - PROGRESS: at 14.68% examples, 433382 words/s, in_qsize 7, out_qsize 0\n",
            "INFO - 09:05:29: EPOCH 49 - PROGRESS: at 30.65% examples, 441776 words/s, in_qsize 7, out_qsize 0\n",
            "INFO - 09:05:30: EPOCH 49 - PROGRESS: at 46.67% examples, 448621 words/s, in_qsize 7, out_qsize 0\n",
            "INFO - 09:05:31: EPOCH 49 - PROGRESS: at 62.26% examples, 450772 words/s, in_qsize 6, out_qsize 2\n",
            "INFO - 09:05:32: EPOCH 49 - PROGRESS: at 77.83% examples, 451253 words/s, in_qsize 7, out_qsize 0\n",
            "INFO - 09:05:33: EPOCH 49 - PROGRESS: at 92.40% examples, 445803 words/s, in_qsize 7, out_qsize 0\n",
            "INFO - 09:05:34: worker thread finished; awaiting finish of 3 more threads\n",
            "INFO - 09:05:34: worker thread finished; awaiting finish of 2 more threads\n",
            "INFO - 09:05:34: worker thread finished; awaiting finish of 1 more threads\n",
            "INFO - 09:05:34: worker thread finished; awaiting finish of 0 more threads\n",
            "INFO - 09:05:34: EPOCH - 49 : training on 2995867 raw words (2963903 effective words) took 6.6s, 448208 effective words/s\n",
            "INFO - 09:05:35: EPOCH 50 - PROGRESS: at 15.00% examples, 444661 words/s, in_qsize 7, out_qsize 0\n",
            "INFO - 09:05:36: EPOCH 50 - PROGRESS: at 28.62% examples, 424584 words/s, in_qsize 7, out_qsize 0\n",
            "INFO - 09:05:37: EPOCH 50 - PROGRESS: at 43.98% examples, 428780 words/s, in_qsize 8, out_qsize 2\n",
            "INFO - 09:05:38: EPOCH 50 - PROGRESS: at 59.25% examples, 435171 words/s, in_qsize 7, out_qsize 0\n",
            "INFO - 09:05:39: EPOCH 50 - PROGRESS: at 74.84% examples, 438606 words/s, in_qsize 7, out_qsize 0\n",
            "INFO - 09:05:40: EPOCH 50 - PROGRESS: at 89.76% examples, 438410 words/s, in_qsize 7, out_qsize 0\n",
            "INFO - 09:05:40: worker thread finished; awaiting finish of 3 more threads\n",
            "INFO - 09:05:40: worker thread finished; awaiting finish of 2 more threads\n",
            "INFO - 09:05:40: worker thread finished; awaiting finish of 1 more threads\n",
            "INFO - 09:05:40: worker thread finished; awaiting finish of 0 more threads\n",
            "INFO - 09:05:40: EPOCH - 50 : training on 2995867 raw words (2963903 effective words) took 6.7s, 443778 effective words/s\n",
            "INFO - 09:05:42: EPOCH 51 - PROGRESS: at 15.00% examples, 428468 words/s, in_qsize 7, out_qsize 0\n",
            "INFO - 09:05:43: EPOCH 51 - PROGRESS: at 30.33% examples, 439576 words/s, in_qsize 7, out_qsize 0\n",
            "INFO - 09:05:44: EPOCH 51 - PROGRESS: at 45.69% examples, 442745 words/s, in_qsize 7, out_qsize 0\n",
            "INFO - 09:05:45: EPOCH 51 - PROGRESS: at 60.91% examples, 445204 words/s, in_qsize 7, out_qsize 0\n",
            "INFO - 09:05:46: EPOCH 51 - PROGRESS: at 76.85% examples, 448388 words/s, in_qsize 7, out_qsize 0\n",
            "INFO - 09:05:47: EPOCH 51 - PROGRESS: at 92.73% examples, 451731 words/s, in_qsize 7, out_qsize 0\n",
            "INFO - 09:05:47: worker thread finished; awaiting finish of 3 more threads\n",
            "INFO - 09:05:47: worker thread finished; awaiting finish of 2 more threads\n",
            "INFO - 09:05:47: worker thread finished; awaiting finish of 1 more threads\n",
            "INFO - 09:05:47: worker thread finished; awaiting finish of 0 more threads\n",
            "INFO - 09:05:47: EPOCH - 51 : training on 2995867 raw words (2963903 effective words) took 6.5s, 453774 effective words/s\n",
            "INFO - 09:05:48: EPOCH 52 - PROGRESS: at 15.01% examples, 435855 words/s, in_qsize 7, out_qsize 0\n",
            "INFO - 09:05:49: EPOCH 52 - PROGRESS: at 31.00% examples, 447110 words/s, in_qsize 7, out_qsize 1\n",
            "INFO - 09:05:50: EPOCH 52 - PROGRESS: at 47.32% examples, 451801 words/s, in_qsize 7, out_qsize 0\n",
            "INFO - 09:05:51: EPOCH 52 - PROGRESS: at 62.94% examples, 454841 words/s, in_qsize 7, out_qsize 0\n",
            "INFO - 09:05:52: EPOCH 52 - PROGRESS: at 78.16% examples, 451295 words/s, in_qsize 7, out_qsize 0\n",
            "INFO - 09:05:53: EPOCH 52 - PROGRESS: at 93.71% examples, 450899 words/s, in_qsize 7, out_qsize 0\n",
            "INFO - 09:05:54: worker thread finished; awaiting finish of 3 more threads\n",
            "INFO - 09:05:54: worker thread finished; awaiting finish of 2 more threads\n",
            "INFO - 09:05:54: worker thread finished; awaiting finish of 1 more threads\n",
            "INFO - 09:05:54: worker thread finished; awaiting finish of 0 more threads\n",
            "INFO - 09:05:54: EPOCH - 52 : training on 2995867 raw words (2963903 effective words) took 6.5s, 453554 effective words/s\n",
            "INFO - 09:05:55: EPOCH 53 - PROGRESS: at 15.00% examples, 419963 words/s, in_qsize 7, out_qsize 0\n",
            "INFO - 09:05:56: EPOCH 53 - PROGRESS: at 30.33% examples, 430850 words/s, in_qsize 7, out_qsize 0\n",
            "INFO - 09:05:57: EPOCH 53 - PROGRESS: at 44.33% examples, 421838 words/s, in_qsize 7, out_qsize 0\n",
            "INFO - 09:05:58: EPOCH 53 - PROGRESS: at 58.91% examples, 423109 words/s, in_qsize 6, out_qsize 1\n",
            "INFO - 09:05:59: EPOCH 53 - PROGRESS: at 74.84% examples, 429142 words/s, in_qsize 7, out_qsize 0\n",
            "INFO - 09:06:00: EPOCH 53 - PROGRESS: at 90.09% examples, 432403 words/s, in_qsize 7, out_qsize 0\n",
            "INFO - 09:06:00: worker thread finished; awaiting finish of 3 more threads\n",
            "INFO - 09:06:00: worker thread finished; awaiting finish of 2 more threads\n",
            "INFO - 09:06:00: worker thread finished; awaiting finish of 1 more threads\n",
            "INFO - 09:06:00: worker thread finished; awaiting finish of 0 more threads\n",
            "INFO - 09:06:00: EPOCH - 53 : training on 2995867 raw words (2963903 effective words) took 6.8s, 435569 effective words/s\n",
            "INFO - 09:06:01: EPOCH 54 - PROGRESS: at 14.32% examples, 421225 words/s, in_qsize 7, out_qsize 0\n",
            "INFO - 09:06:02: EPOCH 54 - PROGRESS: at 29.98% examples, 441384 words/s, in_qsize 7, out_qsize 0\n",
            "INFO - 09:06:03: EPOCH 54 - PROGRESS: at 45.36% examples, 444675 words/s, in_qsize 7, out_qsize 0\n",
            "INFO - 09:06:04: EPOCH 54 - PROGRESS: at 61.61% examples, 450398 words/s, in_qsize 6, out_qsize 1\n",
            "INFO - 09:06:06: EPOCH 54 - PROGRESS: at 77.83% examples, 449899 words/s, in_qsize 8, out_qsize 1\n",
            "INFO - 09:06:07: EPOCH 54 - PROGRESS: at 93.71% examples, 452029 words/s, in_qsize 7, out_qsize 0\n",
            "INFO - 09:06:07: worker thread finished; awaiting finish of 3 more threads\n",
            "INFO - 09:06:07: worker thread finished; awaiting finish of 2 more threads\n",
            "INFO - 09:06:07: worker thread finished; awaiting finish of 1 more threads\n",
            "INFO - 09:06:07: worker thread finished; awaiting finish of 0 more threads\n",
            "INFO - 09:06:07: EPOCH - 54 : training on 2995867 raw words (2963903 effective words) took 6.5s, 454765 effective words/s\n",
            "INFO - 09:06:08: EPOCH 55 - PROGRESS: at 15.00% examples, 427557 words/s, in_qsize 7, out_qsize 0\n",
            "INFO - 09:06:09: EPOCH 55 - PROGRESS: at 30.68% examples, 439530 words/s, in_qsize 5, out_qsize 2\n",
            "INFO - 09:06:10: EPOCH 55 - PROGRESS: at 46.99% examples, 452344 words/s, in_qsize 7, out_qsize 0\n",
            "INFO - 09:06:11: EPOCH 55 - PROGRESS: at 62.26% examples, 452442 words/s, in_qsize 7, out_qsize 0\n",
            "INFO - 09:06:12: EPOCH 55 - PROGRESS: at 78.46% examples, 455767 words/s, in_qsize 7, out_qsize 0\n",
            "INFO - 09:06:13: EPOCH 55 - PROGRESS: at 94.03% examples, 454215 words/s, in_qsize 8, out_qsize 0\n",
            "INFO - 09:06:13: worker thread finished; awaiting finish of 3 more threads\n",
            "INFO - 09:06:13: worker thread finished; awaiting finish of 2 more threads\n",
            "INFO - 09:06:13: worker thread finished; awaiting finish of 1 more threads\n",
            "INFO - 09:06:13: worker thread finished; awaiting finish of 0 more threads\n",
            "INFO - 09:06:13: EPOCH - 55 : training on 2995867 raw words (2963903 effective words) took 6.5s, 458680 effective words/s\n",
            "INFO - 09:06:14: EPOCH 56 - PROGRESS: at 15.64% examples, 439094 words/s, in_qsize 7, out_qsize 0\n",
            "INFO - 09:06:15: EPOCH 56 - PROGRESS: at 31.63% examples, 450612 words/s, in_qsize 7, out_qsize 0\n",
            "INFO - 09:06:16: EPOCH 56 - PROGRESS: at 46.99% examples, 451537 words/s, in_qsize 7, out_qsize 0\n",
            "INFO - 09:06:17: EPOCH 56 - PROGRESS: at 62.61% examples, 454314 words/s, in_qsize 7, out_qsize 0\n",
            "INFO - 09:06:19: EPOCH 56 - PROGRESS: at 78.48% examples, 452899 words/s, in_qsize 6, out_qsize 1\n",
            "INFO - 09:06:20: EPOCH 56 - PROGRESS: at 94.37% examples, 455711 words/s, in_qsize 7, out_qsize 0\n",
            "INFO - 09:06:20: worker thread finished; awaiting finish of 3 more threads\n",
            "INFO - 09:06:20: worker thread finished; awaiting finish of 2 more threads\n",
            "INFO - 09:06:20: worker thread finished; awaiting finish of 1 more threads\n",
            "INFO - 09:06:20: worker thread finished; awaiting finish of 0 more threads\n",
            "INFO - 09:06:20: EPOCH - 56 : training on 2995867 raw words (2963903 effective words) took 6.5s, 458897 effective words/s\n",
            "INFO - 09:06:21: EPOCH 57 - PROGRESS: at 14.68% examples, 433346 words/s, in_qsize 7, out_qsize 0\n",
            "INFO - 09:06:22: EPOCH 57 - PROGRESS: at 30.68% examples, 451809 words/s, in_qsize 7, out_qsize 0\n",
            "INFO - 09:06:23: EPOCH 57 - PROGRESS: at 45.69% examples, 445680 words/s, in_qsize 5, out_qsize 2\n",
            "INFO - 09:06:24: EPOCH 57 - PROGRESS: at 61.61% examples, 448870 words/s, in_qsize 8, out_qsize 0\n",
            "INFO - 09:06:25: EPOCH 57 - PROGRESS: at 78.14% examples, 453224 words/s, in_qsize 7, out_qsize 0\n",
            "INFO - 09:06:26: EPOCH 57 - PROGRESS: at 93.37% examples, 453199 words/s, in_qsize 7, out_qsize 0\n",
            "INFO - 09:06:26: worker thread finished; awaiting finish of 3 more threads\n",
            "INFO - 09:06:26: worker thread finished; awaiting finish of 2 more threads\n",
            "INFO - 09:06:26: worker thread finished; awaiting finish of 1 more threads\n",
            "INFO - 09:06:26: worker thread finished; awaiting finish of 0 more threads\n",
            "INFO - 09:06:26: EPOCH - 57 : training on 2995867 raw words (2963903 effective words) took 6.5s, 456759 effective words/s\n",
            "INFO - 09:06:27: EPOCH 58 - PROGRESS: at 14.34% examples, 414837 words/s, in_qsize 7, out_qsize 0\n",
            "INFO - 09:06:28: EPOCH 58 - PROGRESS: at 30.32% examples, 438757 words/s, in_qsize 7, out_qsize 0\n",
            "INFO - 09:06:29: EPOCH 58 - PROGRESS: at 46.35% examples, 444761 words/s, in_qsize 7, out_qsize 0\n",
            "INFO - 09:06:30: EPOCH 58 - PROGRESS: at 61.93% examples, 445074 words/s, in_qsize 7, out_qsize 0\n",
            "INFO - 09:06:31: EPOCH 58 - PROGRESS: at 77.81% examples, 448039 words/s, in_qsize 7, out_qsize 0\n",
            "INFO - 09:06:33: EPOCH 58 - PROGRESS: at 93.38% examples, 448768 words/s, in_qsize 7, out_qsize 0\n",
            "INFO - 09:06:33: worker thread finished; awaiting finish of 3 more threads\n",
            "INFO - 09:06:33: worker thread finished; awaiting finish of 2 more threads\n",
            "INFO - 09:06:33: worker thread finished; awaiting finish of 1 more threads\n",
            "INFO - 09:06:33: worker thread finished; awaiting finish of 0 more threads\n",
            "INFO - 09:06:33: EPOCH - 58 : training on 2995867 raw words (2963903 effective words) took 6.5s, 453554 effective words/s\n",
            "INFO - 09:06:34: EPOCH 59 - PROGRESS: at 15.30% examples, 438506 words/s, in_qsize 7, out_qsize 0\n",
            "INFO - 09:06:35: EPOCH 59 - PROGRESS: at 31.66% examples, 454257 words/s, in_qsize 7, out_qsize 0\n",
            "INFO - 09:06:36: EPOCH 59 - PROGRESS: at 47.33% examples, 455005 words/s, in_qsize 6, out_qsize 1\n",
            "INFO - 09:06:37: EPOCH 59 - PROGRESS: at 63.27% examples, 458791 words/s, in_qsize 7, out_qsize 0\n",
            "INFO - 09:06:38: EPOCH 59 - PROGRESS: at 79.10% examples, 456566 words/s, in_qsize 7, out_qsize 0\n",
            "INFO - 09:06:39: EPOCH 59 - PROGRESS: at 95.03% examples, 458879 words/s, in_qsize 7, out_qsize 0\n",
            "INFO - 09:06:39: worker thread finished; awaiting finish of 3 more threads\n",
            "INFO - 09:06:39: worker thread finished; awaiting finish of 2 more threads\n",
            "INFO - 09:06:39: worker thread finished; awaiting finish of 1 more threads\n",
            "INFO - 09:06:39: worker thread finished; awaiting finish of 0 more threads\n",
            "INFO - 09:06:39: EPOCH - 59 : training on 2995867 raw words (2963903 effective words) took 6.4s, 462662 effective words/s\n",
            "INFO - 09:06:40: EPOCH 60 - PROGRESS: at 15.64% examples, 440949 words/s, in_qsize 7, out_qsize 0\n",
            "INFO - 09:06:41: EPOCH 60 - PROGRESS: at 31.66% examples, 456726 words/s, in_qsize 7, out_qsize 0\n",
            "INFO - 09:06:42: EPOCH 60 - PROGRESS: at 46.99% examples, 455952 words/s, in_qsize 7, out_qsize 0\n",
            "INFO - 09:06:43: EPOCH 60 - PROGRESS: at 62.94% examples, 460406 words/s, in_qsize 7, out_qsize 0\n",
            "INFO - 09:06:44: EPOCH 60 - PROGRESS: at 78.46% examples, 457316 words/s, in_qsize 7, out_qsize 0\n",
            "INFO - 09:06:45: EPOCH 60 - PROGRESS: at 94.37% examples, 458420 words/s, in_qsize 7, out_qsize 0\n",
            "INFO - 09:06:46: worker thread finished; awaiting finish of 3 more threads\n",
            "INFO - 09:06:46: worker thread finished; awaiting finish of 2 more threads\n",
            "INFO - 09:06:46: worker thread finished; awaiting finish of 1 more threads\n",
            "INFO - 09:06:46: worker thread finished; awaiting finish of 0 more threads\n",
            "INFO - 09:06:46: EPOCH - 60 : training on 2995867 raw words (2963903 effective words) took 6.4s, 461905 effective words/s\n",
            "INFO - 09:06:47: EPOCH 61 - PROGRESS: at 15.00% examples, 441768 words/s, in_qsize 7, out_qsize 0\n",
            "INFO - 09:06:48: EPOCH 61 - PROGRESS: at 31.34% examples, 446494 words/s, in_qsize 6, out_qsize 1\n",
            "INFO - 09:06:49: EPOCH 61 - PROGRESS: at 46.99% examples, 449635 words/s, in_qsize 6, out_qsize 1\n",
            "INFO - 09:06:50: EPOCH 61 - PROGRESS: at 62.94% examples, 453202 words/s, in_qsize 7, out_qsize 0\n",
            "INFO - 09:06:51: EPOCH 61 - PROGRESS: at 78.79% examples, 454375 words/s, in_qsize 7, out_qsize 0\n",
            "INFO - 09:06:52: EPOCH 61 - PROGRESS: at 93.70% examples, 452030 words/s, in_qsize 6, out_qsize 1\n",
            "INFO - 09:06:52: worker thread finished; awaiting finish of 3 more threads\n",
            "INFO - 09:06:52: worker thread finished; awaiting finish of 2 more threads\n",
            "INFO - 09:06:52: worker thread finished; awaiting finish of 1 more threads\n",
            "INFO - 09:06:52: worker thread finished; awaiting finish of 0 more threads\n",
            "INFO - 09:06:52: EPOCH - 61 : training on 2995867 raw words (2963903 effective words) took 6.5s, 457327 effective words/s\n",
            "INFO - 09:06:53: EPOCH 62 - PROGRESS: at 15.00% examples, 441670 words/s, in_qsize 7, out_qsize 0\n",
            "INFO - 09:06:54: EPOCH 62 - PROGRESS: at 30.68% examples, 447345 words/s, in_qsize 7, out_qsize 0\n",
            "INFO - 09:06:55: EPOCH 62 - PROGRESS: at 45.36% examples, 441635 words/s, in_qsize 7, out_qsize 0\n",
            "INFO - 09:06:56: EPOCH 62 - PROGRESS: at 59.91% examples, 438598 words/s, in_qsize 7, out_qsize 0\n",
            "INFO - 09:06:57: EPOCH 62 - PROGRESS: at 75.84% examples, 438554 words/s, in_qsize 7, out_qsize 0\n",
            "INFO - 09:06:58: EPOCH 62 - PROGRESS: at 90.75% examples, 438486 words/s, in_qsize 5, out_qsize 2\n",
            "INFO - 09:06:59: worker thread finished; awaiting finish of 3 more threads\n",
            "INFO - 09:06:59: worker thread finished; awaiting finish of 2 more threads\n",
            "INFO - 09:06:59: worker thread finished; awaiting finish of 1 more threads\n",
            "INFO - 09:06:59: worker thread finished; awaiting finish of 0 more threads\n",
            "INFO - 09:06:59: EPOCH - 62 : training on 2995867 raw words (2963903 effective words) took 6.7s, 441576 effective words/s\n",
            "INFO - 09:07:00: EPOCH 63 - PROGRESS: at 15.00% examples, 430973 words/s, in_qsize 7, out_qsize 0\n",
            "INFO - 09:07:01: EPOCH 63 - PROGRESS: at 29.99% examples, 434930 words/s, in_qsize 7, out_qsize 0\n",
            "INFO - 09:07:02: EPOCH 63 - PROGRESS: at 45.33% examples, 440545 words/s, in_qsize 6, out_qsize 1\n",
            "INFO - 09:07:03: EPOCH 63 - PROGRESS: at 60.25% examples, 440515 words/s, in_qsize 7, out_qsize 0\n",
            "INFO - 09:07:04: EPOCH 63 - PROGRESS: at 75.83% examples, 441276 words/s, in_qsize 7, out_qsize 0\n",
            "INFO - 09:07:05: EPOCH 63 - PROGRESS: at 90.75% examples, 440378 words/s, in_qsize 7, out_qsize 0\n",
            "INFO - 09:07:06: worker thread finished; awaiting finish of 3 more threads\n",
            "INFO - 09:07:06: worker thread finished; awaiting finish of 2 more threads\n",
            "INFO - 09:07:06: worker thread finished; awaiting finish of 1 more threads\n",
            "INFO - 09:07:06: worker thread finished; awaiting finish of 0 more threads\n",
            "INFO - 09:07:06: EPOCH - 63 : training on 2995867 raw words (2963903 effective words) took 6.6s, 445876 effective words/s\n",
            "INFO - 09:07:07: EPOCH 64 - PROGRESS: at 15.31% examples, 439538 words/s, in_qsize 7, out_qsize 0\n",
            "INFO - 09:07:08: EPOCH 64 - PROGRESS: at 30.68% examples, 442882 words/s, in_qsize 7, out_qsize 0\n",
            "INFO - 09:07:09: EPOCH 64 - PROGRESS: at 46.68% examples, 451656 words/s, in_qsize 7, out_qsize 0\n",
            "INFO - 09:07:10: EPOCH 64 - PROGRESS: at 62.28% examples, 454517 words/s, in_qsize 7, out_qsize 0\n",
            "INFO - 09:07:11: EPOCH 64 - PROGRESS: at 77.83% examples, 452670 words/s, in_qsize 7, out_qsize 3\n",
            "INFO - 09:07:12: EPOCH 64 - PROGRESS: at 94.03% examples, 457863 words/s, in_qsize 7, out_qsize 0\n",
            "INFO - 09:07:12: worker thread finished; awaiting finish of 3 more threads\n",
            "INFO - 09:07:12: worker thread finished; awaiting finish of 2 more threads\n",
            "INFO - 09:07:12: worker thread finished; awaiting finish of 1 more threads\n",
            "INFO - 09:07:12: worker thread finished; awaiting finish of 0 more threads\n",
            "INFO - 09:07:12: EPOCH - 64 : training on 2995867 raw words (2963903 effective words) took 6.4s, 459796 effective words/s\n",
            "INFO - 09:07:13: EPOCH 65 - PROGRESS: at 15.00% examples, 433001 words/s, in_qsize 7, out_qsize 0\n",
            "INFO - 09:07:14: EPOCH 65 - PROGRESS: at 31.00% examples, 447676 words/s, in_qsize 7, out_qsize 0\n",
            "INFO - 09:07:15: EPOCH 65 - PROGRESS: at 46.67% examples, 452864 words/s, in_qsize 7, out_qsize 1\n",
            "INFO - 09:07:16: EPOCH 65 - PROGRESS: at 61.94% examples, 452065 words/s, in_qsize 6, out_qsize 1\n",
            "INFO - 09:07:17: EPOCH 65 - PROGRESS: at 78.48% examples, 457888 words/s, in_qsize 7, out_qsize 0\n",
            "INFO - 09:07:18: EPOCH 65 - PROGRESS: at 94.03% examples, 458118 words/s, in_qsize 7, out_qsize 0\n",
            "INFO - 09:07:18: worker thread finished; awaiting finish of 3 more threads\n",
            "INFO - 09:07:18: worker thread finished; awaiting finish of 2 more threads\n",
            "INFO - 09:07:19: worker thread finished; awaiting finish of 1 more threads\n",
            "INFO - 09:07:19: worker thread finished; awaiting finish of 0 more threads\n",
            "INFO - 09:07:19: EPOCH - 65 : training on 2995867 raw words (2963903 effective words) took 6.4s, 459789 effective words/s\n",
            "INFO - 09:07:20: EPOCH 66 - PROGRESS: at 15.00% examples, 432875 words/s, in_qsize 7, out_qsize 0\n",
            "INFO - 09:07:21: EPOCH 66 - PROGRESS: at 31.00% examples, 445979 words/s, in_qsize 7, out_qsize 0\n",
            "INFO - 09:07:22: EPOCH 66 - PROGRESS: at 46.99% examples, 451832 words/s, in_qsize 6, out_qsize 1\n",
            "INFO - 09:07:23: EPOCH 66 - PROGRESS: at 62.94% examples, 455043 words/s, in_qsize 7, out_qsize 0\n",
            "INFO - 09:07:24: EPOCH 66 - PROGRESS: at 78.79% examples, 456044 words/s, in_qsize 7, out_qsize 0\n",
            "INFO - 09:07:25: EPOCH 66 - PROGRESS: at 94.36% examples, 456216 words/s, in_qsize 7, out_qsize 0\n",
            "INFO - 09:07:25: worker thread finished; awaiting finish of 3 more threads\n",
            "INFO - 09:07:25: worker thread finished; awaiting finish of 2 more threads\n",
            "INFO - 09:07:25: worker thread finished; awaiting finish of 1 more threads\n",
            "INFO - 09:07:25: worker thread finished; awaiting finish of 0 more threads\n",
            "INFO - 09:07:25: EPOCH - 66 : training on 2995867 raw words (2963903 effective words) took 6.4s, 460306 effective words/s\n",
            "INFO - 09:07:26: EPOCH 67 - PROGRESS: at 15.00% examples, 439400 words/s, in_qsize 7, out_qsize 0\n",
            "INFO - 09:07:27: EPOCH 67 - PROGRESS: at 30.68% examples, 445729 words/s, in_qsize 8, out_qsize 0\n",
            "INFO - 09:07:28: EPOCH 67 - PROGRESS: at 46.99% examples, 450088 words/s, in_qsize 8, out_qsize 0\n",
            "INFO - 09:07:29: EPOCH 67 - PROGRESS: at 63.27% examples, 457972 words/s, in_qsize 7, out_qsize 0\n",
            "INFO - 09:07:30: EPOCH 67 - PROGRESS: at 78.79% examples, 456686 words/s, in_qsize 7, out_qsize 0\n",
            "INFO - 09:07:31: EPOCH 67 - PROGRESS: at 94.03% examples, 455680 words/s, in_qsize 7, out_qsize 0\n",
            "INFO - 09:07:31: worker thread finished; awaiting finish of 3 more threads\n",
            "INFO - 09:07:31: worker thread finished; awaiting finish of 2 more threads\n",
            "INFO - 09:07:31: worker thread finished; awaiting finish of 1 more threads\n",
            "INFO - 09:07:31: worker thread finished; awaiting finish of 0 more threads\n",
            "INFO - 09:07:31: EPOCH - 67 : training on 2995867 raw words (2963903 effective words) took 6.5s, 456978 effective words/s\n",
            "INFO - 09:07:33: EPOCH 68 - PROGRESS: at 14.32% examples, 411583 words/s, in_qsize 7, out_qsize 0\n",
            "INFO - 09:07:34: EPOCH 68 - PROGRESS: at 29.32% examples, 426750 words/s, in_qsize 6, out_qsize 1\n",
            "INFO - 09:07:35: EPOCH 68 - PROGRESS: at 45.36% examples, 439366 words/s, in_qsize 7, out_qsize 0\n",
            "INFO - 09:07:36: EPOCH 68 - PROGRESS: at 61.27% examples, 440728 words/s, in_qsize 6, out_qsize 1\n",
            "INFO - 09:07:37: EPOCH 68 - PROGRESS: at 77.18% examples, 444439 words/s, in_qsize 8, out_qsize 1\n",
            "INFO - 09:07:38: EPOCH 68 - PROGRESS: at 92.39% examples, 446149 words/s, in_qsize 6, out_qsize 1\n",
            "INFO - 09:07:38: worker thread finished; awaiting finish of 3 more threads\n",
            "INFO - 09:07:38: worker thread finished; awaiting finish of 2 more threads\n",
            "INFO - 09:07:38: worker thread finished; awaiting finish of 1 more threads\n",
            "INFO - 09:07:38: worker thread finished; awaiting finish of 0 more threads\n",
            "INFO - 09:07:38: EPOCH - 68 : training on 2995867 raw words (2963903 effective words) took 6.6s, 450149 effective words/s\n",
            "INFO - 09:07:39: EPOCH 69 - PROGRESS: at 15.63% examples, 453012 words/s, in_qsize 7, out_qsize 0\n",
            "INFO - 09:07:40: EPOCH 69 - PROGRESS: at 30.98% examples, 452687 words/s, in_qsize 7, out_qsize 0\n",
            "INFO - 09:07:41: EPOCH 69 - PROGRESS: at 46.99% examples, 454281 words/s, in_qsize 7, out_qsize 0\n",
            "INFO - 09:07:42: EPOCH 69 - PROGRESS: at 63.27% examples, 456874 words/s, in_qsize 7, out_qsize 0\n",
            "INFO - 09:07:43: EPOCH 69 - PROGRESS: at 79.45% examples, 456854 words/s, in_qsize 6, out_qsize 1\n",
            "INFO - 09:07:44: EPOCH 69 - PROGRESS: at 95.68% examples, 459793 words/s, in_qsize 7, out_qsize 0\n",
            "INFO - 09:07:44: worker thread finished; awaiting finish of 3 more threads\n",
            "INFO - 09:07:44: worker thread finished; awaiting finish of 2 more threads\n",
            "INFO - 09:07:44: worker thread finished; awaiting finish of 1 more threads\n",
            "INFO - 09:07:44: worker thread finished; awaiting finish of 0 more threads\n",
            "INFO - 09:07:44: EPOCH - 69 : training on 2995867 raw words (2963903 effective words) took 6.4s, 462640 effective words/s\n",
            "INFO - 09:07:46: EPOCH 70 - PROGRESS: at 15.32% examples, 443537 words/s, in_qsize 7, out_qsize 0\n",
            "INFO - 09:07:47: EPOCH 70 - PROGRESS: at 31.34% examples, 452627 words/s, in_qsize 6, out_qsize 1\n",
            "INFO - 09:07:48: EPOCH 70 - PROGRESS: at 47.65% examples, 457046 words/s, in_qsize 7, out_qsize 0\n",
            "INFO - 09:07:49: EPOCH 70 - PROGRESS: at 63.95% examples, 458886 words/s, in_qsize 7, out_qsize 0\n",
            "INFO - 09:07:50: EPOCH 70 - PROGRESS: at 80.10% examples, 461557 words/s, in_qsize 7, out_qsize 0\n",
            "INFO - 09:07:51: EPOCH 70 - PROGRESS: at 96.02% examples, 461853 words/s, in_qsize 7, out_qsize 0\n",
            "INFO - 09:07:51: worker thread finished; awaiting finish of 3 more threads\n",
            "INFO - 09:07:51: worker thread finished; awaiting finish of 2 more threads\n",
            "INFO - 09:07:51: worker thread finished; awaiting finish of 1 more threads\n",
            "INFO - 09:07:51: worker thread finished; awaiting finish of 0 more threads\n",
            "INFO - 09:07:51: EPOCH - 70 : training on 2995867 raw words (2963903 effective words) took 6.4s, 463245 effective words/s\n",
            "INFO - 09:07:52: EPOCH 71 - PROGRESS: at 15.00% examples, 438389 words/s, in_qsize 7, out_qsize 0\n",
            "INFO - 09:07:53: EPOCH 71 - PROGRESS: at 30.65% examples, 447977 words/s, in_qsize 8, out_qsize 0\n",
            "INFO - 09:07:54: EPOCH 71 - PROGRESS: at 46.99% examples, 458039 words/s, in_qsize 7, out_qsize 0\n",
            "INFO - 09:07:55: EPOCH 71 - PROGRESS: at 62.61% examples, 456532 words/s, in_qsize 7, out_qsize 0\n",
            "INFO - 09:07:56: EPOCH 71 - PROGRESS: at 78.48% examples, 457694 words/s, in_qsize 7, out_qsize 0\n",
            "INFO - 09:07:57: EPOCH 71 - PROGRESS: at 94.69% examples, 459622 words/s, in_qsize 7, out_qsize 0\n",
            "INFO - 09:07:57: worker thread finished; awaiting finish of 3 more threads\n",
            "INFO - 09:07:57: worker thread finished; awaiting finish of 2 more threads\n",
            "INFO - 09:07:57: worker thread finished; awaiting finish of 1 more threads\n",
            "INFO - 09:07:57: worker thread finished; awaiting finish of 0 more threads\n",
            "INFO - 09:07:57: EPOCH - 71 : training on 2995867 raw words (2963903 effective words) took 6.4s, 461445 effective words/s\n",
            "INFO - 09:07:58: EPOCH 72 - PROGRESS: at 15.64% examples, 437630 words/s, in_qsize 6, out_qsize 1\n",
            "INFO - 09:07:59: EPOCH 72 - PROGRESS: at 32.33% examples, 451408 words/s, in_qsize 7, out_qsize 0\n",
            "INFO - 09:08:00: EPOCH 72 - PROGRESS: at 48.33% examples, 455849 words/s, in_qsize 6, out_qsize 1\n",
            "INFO - 09:08:01: EPOCH 72 - PROGRESS: at 63.95% examples, 457920 words/s, in_qsize 7, out_qsize 0\n",
            "INFO - 09:08:02: EPOCH 72 - PROGRESS: at 79.78% examples, 458545 words/s, in_qsize 7, out_qsize 0\n",
            "INFO - 09:08:03: EPOCH 72 - PROGRESS: at 94.69% examples, 456065 words/s, in_qsize 7, out_qsize 0\n",
            "INFO - 09:08:04: worker thread finished; awaiting finish of 3 more threads\n",
            "INFO - 09:08:04: worker thread finished; awaiting finish of 2 more threads\n",
            "INFO - 09:08:04: worker thread finished; awaiting finish of 1 more threads\n",
            "INFO - 09:08:04: worker thread finished; awaiting finish of 0 more threads\n",
            "INFO - 09:08:04: EPOCH - 72 : training on 2995867 raw words (2963903 effective words) took 6.5s, 458785 effective words/s\n",
            "INFO - 09:08:05: EPOCH 73 - PROGRESS: at 15.00% examples, 436829 words/s, in_qsize 7, out_qsize 0\n",
            "INFO - 09:08:06: EPOCH 73 - PROGRESS: at 29.98% examples, 438749 words/s, in_qsize 8, out_qsize 1\n",
            "INFO - 09:08:07: EPOCH 73 - PROGRESS: at 45.38% examples, 443938 words/s, in_qsize 7, out_qsize 0\n",
            "INFO - 09:08:08: EPOCH 73 - PROGRESS: at 60.91% examples, 448076 words/s, in_qsize 7, out_qsize 0\n",
            "INFO - 09:08:09: EPOCH 73 - PROGRESS: at 76.85% examples, 450161 words/s, in_qsize 7, out_qsize 0\n",
            "INFO - 09:08:10: EPOCH 73 - PROGRESS: at 91.72% examples, 449184 words/s, in_qsize 5, out_qsize 2\n",
            "INFO - 09:08:10: worker thread finished; awaiting finish of 3 more threads\n",
            "INFO - 09:08:10: worker thread finished; awaiting finish of 2 more threads\n",
            "INFO - 09:08:10: worker thread finished; awaiting finish of 1 more threads\n",
            "INFO - 09:08:10: worker thread finished; awaiting finish of 0 more threads\n",
            "INFO - 09:08:10: EPOCH - 73 : training on 2995867 raw words (2963903 effective words) took 6.5s, 454584 effective words/s\n",
            "INFO - 09:08:11: EPOCH 74 - PROGRESS: at 15.32% examples, 437977 words/s, in_qsize 7, out_qsize 0\n",
            "INFO - 09:08:12: EPOCH 74 - PROGRESS: at 31.00% examples, 449934 words/s, in_qsize 7, out_qsize 0\n",
            "INFO - 09:08:13: EPOCH 74 - PROGRESS: at 46.67% examples, 452057 words/s, in_qsize 6, out_qsize 1\n",
            "INFO - 09:08:14: EPOCH 74 - PROGRESS: at 62.61% examples, 456804 words/s, in_qsize 7, out_qsize 0\n",
            "INFO - 09:08:15: EPOCH 74 - PROGRESS: at 77.82% examples, 453064 words/s, in_qsize 6, out_qsize 1\n",
            "INFO - 09:08:16: EPOCH 74 - PROGRESS: at 93.38% examples, 453385 words/s, in_qsize 7, out_qsize 0\n",
            "INFO - 09:08:17: worker thread finished; awaiting finish of 3 more threads\n",
            "INFO - 09:08:17: worker thread finished; awaiting finish of 2 more threads\n",
            "INFO - 09:08:17: worker thread finished; awaiting finish of 1 more threads\n",
            "INFO - 09:08:17: worker thread finished; awaiting finish of 0 more threads\n",
            "INFO - 09:08:17: EPOCH - 74 : training on 2995867 raw words (2963903 effective words) took 6.5s, 457311 effective words/s\n",
            "INFO - 09:08:18: EPOCH 75 - PROGRESS: at 14.67% examples, 433963 words/s, in_qsize 7, out_qsize 0\n",
            "INFO - 09:08:19: EPOCH 75 - PROGRESS: at 30.68% examples, 448338 words/s, in_qsize 7, out_qsize 0\n",
            "INFO - 09:08:20: EPOCH 75 - PROGRESS: at 46.35% examples, 449126 words/s, in_qsize 7, out_qsize 0\n",
            "INFO - 09:08:21: EPOCH 75 - PROGRESS: at 61.93% examples, 448459 words/s, in_qsize 7, out_qsize 0\n",
            "INFO - 09:08:22: EPOCH 75 - PROGRESS: at 77.81% examples, 450354 words/s, in_qsize 7, out_qsize 0\n",
            "INFO - 09:08:23: EPOCH 75 - PROGRESS: at 93.38% examples, 450039 words/s, in_qsize 7, out_qsize 0\n",
            "INFO - 09:08:23: worker thread finished; awaiting finish of 3 more threads\n",
            "INFO - 09:08:23: worker thread finished; awaiting finish of 2 more threads\n",
            "INFO - 09:08:23: worker thread finished; awaiting finish of 1 more threads\n",
            "INFO - 09:08:23: worker thread finished; awaiting finish of 0 more threads\n",
            "INFO - 09:08:23: EPOCH - 75 : training on 2995867 raw words (2963903 effective words) took 6.5s, 453787 effective words/s\n",
            "INFO - 09:08:24: EPOCH 76 - PROGRESS: at 15.00% examples, 437346 words/s, in_qsize 7, out_qsize 0\n",
            "INFO - 09:08:25: EPOCH 76 - PROGRESS: at 31.00% examples, 450185 words/s, in_qsize 7, out_qsize 0\n",
            "INFO - 09:08:26: EPOCH 76 - PROGRESS: at 46.32% examples, 448421 words/s, in_qsize 7, out_qsize 0\n",
            "INFO - 09:08:27: EPOCH 76 - PROGRESS: at 61.93% examples, 450332 words/s, in_qsize 7, out_qsize 0\n",
            "INFO - 09:08:28: EPOCH 76 - PROGRESS: at 77.51% examples, 449491 words/s, in_qsize 7, out_qsize 0\n",
            "INFO - 09:08:29: EPOCH 76 - PROGRESS: at 93.05% examples, 451657 words/s, in_qsize 8, out_qsize 2\n",
            "INFO - 09:08:30: worker thread finished; awaiting finish of 3 more threads\n",
            "INFO - 09:08:30: worker thread finished; awaiting finish of 2 more threads\n",
            "INFO - 09:08:30: worker thread finished; awaiting finish of 1 more threads\n",
            "INFO - 09:08:30: worker thread finished; awaiting finish of 0 more threads\n",
            "INFO - 09:08:30: EPOCH - 76 : training on 2995867 raw words (2963903 effective words) took 6.5s, 456388 effective words/s\n",
            "INFO - 09:08:31: EPOCH 77 - PROGRESS: at 15.99% examples, 446728 words/s, in_qsize 7, out_qsize 0\n",
            "INFO - 09:08:32: EPOCH 77 - PROGRESS: at 32.33% examples, 454676 words/s, in_qsize 6, out_qsize 1\n",
            "INFO - 09:08:33: EPOCH 77 - PROGRESS: at 48.69% examples, 457553 words/s, in_qsize 8, out_qsize 0\n",
            "INFO - 09:08:34: EPOCH 77 - PROGRESS: at 64.64% examples, 461627 words/s, in_qsize 8, out_qsize 0\n",
            "INFO - 09:08:35: EPOCH 77 - PROGRESS: at 80.43% examples, 462140 words/s, in_qsize 7, out_qsize 0\n",
            "INFO - 09:08:36: EPOCH 77 - PROGRESS: at 96.36% examples, 463428 words/s, in_qsize 7, out_qsize 0\n",
            "INFO - 09:08:36: worker thread finished; awaiting finish of 3 more threads\n",
            "INFO - 09:08:36: worker thread finished; awaiting finish of 2 more threads\n",
            "INFO - 09:08:36: worker thread finished; awaiting finish of 1 more threads\n",
            "INFO - 09:08:36: worker thread finished; awaiting finish of 0 more threads\n",
            "INFO - 09:08:36: EPOCH - 77 : training on 2995867 raw words (2963903 effective words) took 6.4s, 465558 effective words/s\n",
            "INFO - 09:08:37: EPOCH 78 - PROGRESS: at 15.32% examples, 444339 words/s, in_qsize 7, out_qsize 0\n",
            "INFO - 09:08:38: EPOCH 78 - PROGRESS: at 31.34% examples, 459071 words/s, in_qsize 7, out_qsize 0\n",
            "INFO - 09:08:39: EPOCH 78 - PROGRESS: at 47.68% examples, 460604 words/s, in_qsize 7, out_qsize 0\n",
            "INFO - 09:08:40: EPOCH 78 - PROGRESS: at 63.95% examples, 464634 words/s, in_qsize 7, out_qsize 0\n",
            "INFO - 09:08:41: EPOCH 78 - PROGRESS: at 80.44% examples, 464692 words/s, in_qsize 8, out_qsize 0\n",
            "INFO - 09:08:42: EPOCH 78 - PROGRESS: at 96.36% examples, 466187 words/s, in_qsize 7, out_qsize 0\n",
            "INFO - 09:08:43: worker thread finished; awaiting finish of 3 more threads\n",
            "INFO - 09:08:43: worker thread finished; awaiting finish of 2 more threads\n",
            "INFO - 09:08:43: worker thread finished; awaiting finish of 1 more threads\n",
            "INFO - 09:08:43: worker thread finished; awaiting finish of 0 more threads\n",
            "INFO - 09:08:43: EPOCH - 78 : training on 2995867 raw words (2963903 effective words) took 6.3s, 468108 effective words/s\n",
            "INFO - 09:08:44: EPOCH 79 - PROGRESS: at 15.68% examples, 459352 words/s, in_qsize 7, out_qsize 0\n",
            "INFO - 09:08:45: EPOCH 79 - PROGRESS: at 31.32% examples, 455241 words/s, in_qsize 6, out_qsize 1\n",
            "INFO - 09:08:46: EPOCH 79 - PROGRESS: at 47.35% examples, 459469 words/s, in_qsize 7, out_qsize 0\n",
            "INFO - 09:08:47: EPOCH 79 - PROGRESS: at 63.29% examples, 462499 words/s, in_qsize 7, out_qsize 0\n",
            "INFO - 09:08:48: EPOCH 79 - PROGRESS: at 79.78% examples, 463089 words/s, in_qsize 7, out_qsize 0\n",
            "INFO - 09:08:49: EPOCH 79 - PROGRESS: at 96.02% examples, 463085 words/s, in_qsize 7, out_qsize 0\n",
            "INFO - 09:08:49: worker thread finished; awaiting finish of 3 more threads\n",
            "INFO - 09:08:49: worker thread finished; awaiting finish of 2 more threads\n",
            "INFO - 09:08:49: worker thread finished; awaiting finish of 1 more threads\n",
            "INFO - 09:08:49: worker thread finished; awaiting finish of 0 more threads\n",
            "INFO - 09:08:49: EPOCH - 79 : training on 2995867 raw words (2963903 effective words) took 6.3s, 467733 effective words/s\n",
            "INFO - 09:08:50: EPOCH 80 - PROGRESS: at 15.00% examples, 442646 words/s, in_qsize 7, out_qsize 0\n",
            "INFO - 09:08:51: EPOCH 80 - PROGRESS: at 31.00% examples, 451230 words/s, in_qsize 7, out_qsize 0\n",
            "INFO - 09:08:52: EPOCH 80 - PROGRESS: at 46.99% examples, 455569 words/s, in_qsize 7, out_qsize 0\n",
            "INFO - 09:08:53: EPOCH 80 - PROGRESS: at 62.61% examples, 456857 words/s, in_qsize 7, out_qsize 0\n",
            "INFO - 09:08:54: EPOCH 80 - PROGRESS: at 78.79% examples, 457473 words/s, in_qsize 7, out_qsize 0\n",
            "INFO - 09:08:55: EPOCH 80 - PROGRESS: at 94.70% examples, 458145 words/s, in_qsize 7, out_qsize 0\n",
            "INFO - 09:08:55: worker thread finished; awaiting finish of 3 more threads\n",
            "INFO - 09:08:55: worker thread finished; awaiting finish of 2 more threads\n",
            "INFO - 09:08:55: worker thread finished; awaiting finish of 1 more threads\n",
            "INFO - 09:08:55: worker thread finished; awaiting finish of 0 more threads\n",
            "INFO - 09:08:55: EPOCH - 80 : training on 2995867 raw words (2963903 effective words) took 6.4s, 461472 effective words/s\n",
            "INFO - 09:08:56: EPOCH 81 - PROGRESS: at 15.00% examples, 436434 words/s, in_qsize 7, out_qsize 1\n",
            "INFO - 09:08:57: EPOCH 81 - PROGRESS: at 30.65% examples, 448261 words/s, in_qsize 7, out_qsize 0\n",
            "INFO - 09:08:58: EPOCH 81 - PROGRESS: at 46.99% examples, 459987 words/s, in_qsize 7, out_qsize 0\n",
            "INFO - 09:08:59: EPOCH 81 - PROGRESS: at 62.61% examples, 458732 words/s, in_qsize 7, out_qsize 0\n",
            "INFO - 09:09:00: EPOCH 81 - PROGRESS: at 78.79% examples, 461175 words/s, in_qsize 7, out_qsize 0\n",
            "INFO - 09:09:01: EPOCH 81 - PROGRESS: at 94.03% examples, 459631 words/s, in_qsize 7, out_qsize 0\n",
            "INFO - 09:09:02: worker thread finished; awaiting finish of 3 more threads\n",
            "INFO - 09:09:02: worker thread finished; awaiting finish of 2 more threads\n",
            "INFO - 09:09:02: worker thread finished; awaiting finish of 1 more threads\n",
            "INFO - 09:09:02: worker thread finished; awaiting finish of 0 more threads\n",
            "INFO - 09:09:02: EPOCH - 81 : training on 2995867 raw words (2963903 effective words) took 6.4s, 462889 effective words/s\n",
            "INFO - 09:09:03: EPOCH 82 - PROGRESS: at 15.64% examples, 455687 words/s, in_qsize 7, out_qsize 0\n",
            "INFO - 09:09:04: EPOCH 82 - PROGRESS: at 31.00% examples, 454610 words/s, in_qsize 7, out_qsize 0\n",
            "INFO - 09:09:05: EPOCH 82 - PROGRESS: at 46.68% examples, 457232 words/s, in_qsize 7, out_qsize 0\n",
            "INFO - 09:09:06: EPOCH 82 - PROGRESS: at 62.61% examples, 460142 words/s, in_qsize 7, out_qsize 0\n",
            "INFO - 09:09:07: EPOCH 82 - PROGRESS: at 78.14% examples, 458592 words/s, in_qsize 7, out_qsize 0\n",
            "INFO - 09:09:08: EPOCH 82 - PROGRESS: at 93.71% examples, 458706 words/s, in_qsize 7, out_qsize 0\n",
            "INFO - 09:09:08: worker thread finished; awaiting finish of 3 more threads\n",
            "INFO - 09:09:08: worker thread finished; awaiting finish of 2 more threads\n",
            "INFO - 09:09:08: worker thread finished; awaiting finish of 1 more threads\n",
            "INFO - 09:09:08: worker thread finished; awaiting finish of 0 more threads\n",
            "INFO - 09:09:08: EPOCH - 82 : training on 2995867 raw words (2963903 effective words) took 6.4s, 463376 effective words/s\n",
            "INFO - 09:09:09: EPOCH 83 - PROGRESS: at 15.32% examples, 452362 words/s, in_qsize 7, out_qsize 0\n",
            "INFO - 09:09:10: EPOCH 83 - PROGRESS: at 31.00% examples, 456198 words/s, in_qsize 7, out_qsize 0\n",
            "INFO - 09:09:11: EPOCH 83 - PROGRESS: at 47.03% examples, 459331 words/s, in_qsize 7, out_qsize 0\n",
            "INFO - 09:09:12: EPOCH 83 - PROGRESS: at 62.61% examples, 459133 words/s, in_qsize 8, out_qsize 1\n",
            "INFO - 09:09:13: EPOCH 83 - PROGRESS: at 78.77% examples, 462176 words/s, in_qsize 7, out_qsize 0\n",
            "INFO - 09:09:14: EPOCH 83 - PROGRESS: at 94.05% examples, 460872 words/s, in_qsize 7, out_qsize 0\n",
            "INFO - 09:09:15: worker thread finished; awaiting finish of 3 more threads\n",
            "INFO - 09:09:15: worker thread finished; awaiting finish of 2 more threads\n",
            "INFO - 09:09:15: worker thread finished; awaiting finish of 1 more threads\n",
            "INFO - 09:09:15: worker thread finished; awaiting finish of 0 more threads\n",
            "INFO - 09:09:15: EPOCH - 83 : training on 2995867 raw words (2963903 effective words) took 6.4s, 463191 effective words/s\n",
            "INFO - 09:09:16: EPOCH 84 - PROGRESS: at 15.01% examples, 441752 words/s, in_qsize 6, out_qsize 1\n",
            "INFO - 09:09:17: EPOCH 84 - PROGRESS: at 31.00% examples, 445978 words/s, in_qsize 8, out_qsize 0\n",
            "INFO - 09:09:18: EPOCH 84 - PROGRESS: at 47.65% examples, 455960 words/s, in_qsize 7, out_qsize 0\n",
            "INFO - 09:09:19: EPOCH 84 - PROGRESS: at 63.61% examples, 457958 words/s, in_qsize 7, out_qsize 0\n",
            "INFO - 09:09:20: EPOCH 84 - PROGRESS: at 79.46% examples, 456424 words/s, in_qsize 7, out_qsize 0\n",
            "INFO - 09:09:21: EPOCH 84 - PROGRESS: at 94.69% examples, 454878 words/s, in_qsize 8, out_qsize 3\n",
            "INFO - 09:09:21: worker thread finished; awaiting finish of 3 more threads\n",
            "INFO - 09:09:21: worker thread finished; awaiting finish of 2 more threads\n",
            "INFO - 09:09:21: worker thread finished; awaiting finish of 1 more threads\n",
            "INFO - 09:09:21: worker thread finished; awaiting finish of 0 more threads\n",
            "INFO - 09:09:21: EPOCH - 84 : training on 2995867 raw words (2963903 effective words) took 6.4s, 460230 effective words/s\n",
            "INFO - 09:09:22: EPOCH 85 - PROGRESS: at 14.68% examples, 428453 words/s, in_qsize 8, out_qsize 0\n",
            "INFO - 09:09:23: EPOCH 85 - PROGRESS: at 30.31% examples, 441724 words/s, in_qsize 7, out_qsize 0\n",
            "INFO - 09:09:24: EPOCH 85 - PROGRESS: at 46.32% examples, 451718 words/s, in_qsize 7, out_qsize 0\n",
            "INFO - 09:09:25: EPOCH 85 - PROGRESS: at 61.93% examples, 451506 words/s, in_qsize 8, out_qsize 1\n",
            "INFO - 09:09:26: EPOCH 85 - PROGRESS: at 77.18% examples, 448442 words/s, in_qsize 7, out_qsize 0\n",
            "INFO - 09:09:27: EPOCH 85 - PROGRESS: at 92.40% examples, 447798 words/s, in_qsize 7, out_qsize 0\n",
            "INFO - 09:09:28: worker thread finished; awaiting finish of 3 more threads\n",
            "INFO - 09:09:28: worker thread finished; awaiting finish of 2 more threads\n",
            "INFO - 09:09:28: worker thread finished; awaiting finish of 1 more threads\n",
            "INFO - 09:09:28: worker thread finished; awaiting finish of 0 more threads\n",
            "INFO - 09:09:28: EPOCH - 85 : training on 2995867 raw words (2963903 effective words) took 6.5s, 454071 effective words/s\n",
            "INFO - 09:09:29: EPOCH 86 - PROGRESS: at 15.32% examples, 454136 words/s, in_qsize 7, out_qsize 0\n",
            "INFO - 09:09:30: EPOCH 86 - PROGRESS: at 31.32% examples, 459425 words/s, in_qsize 6, out_qsize 3\n",
            "INFO - 09:09:31: EPOCH 86 - PROGRESS: at 48.00% examples, 470213 words/s, in_qsize 7, out_qsize 0\n",
            "INFO - 09:09:32: EPOCH 86 - PROGRESS: at 63.60% examples, 466015 words/s, in_qsize 8, out_qsize 0\n",
            "INFO - 09:09:33: EPOCH 86 - PROGRESS: at 79.78% examples, 467319 words/s, in_qsize 7, out_qsize 0\n",
            "INFO - 09:09:34: EPOCH 86 - PROGRESS: at 95.35% examples, 465873 words/s, in_qsize 7, out_qsize 0\n",
            "INFO - 09:09:34: worker thread finished; awaiting finish of 3 more threads\n",
            "INFO - 09:09:34: worker thread finished; awaiting finish of 2 more threads\n",
            "INFO - 09:09:34: worker thread finished; awaiting finish of 1 more threads\n",
            "INFO - 09:09:34: worker thread finished; awaiting finish of 0 more threads\n",
            "INFO - 09:09:34: EPOCH - 86 : training on 2995867 raw words (2963903 effective words) took 6.3s, 469669 effective words/s\n",
            "INFO - 09:09:35: EPOCH 87 - PROGRESS: at 15.32% examples, 452459 words/s, in_qsize 7, out_qsize 0\n",
            "INFO - 09:09:36: EPOCH 87 - PROGRESS: at 31.00% examples, 448748 words/s, in_qsize 7, out_qsize 0\n",
            "INFO - 09:09:37: EPOCH 87 - PROGRESS: at 46.33% examples, 446599 words/s, in_qsize 7, out_qsize 0\n",
            "INFO - 09:09:38: EPOCH 87 - PROGRESS: at 61.93% examples, 448531 words/s, in_qsize 7, out_qsize 0\n",
            "INFO - 09:09:39: EPOCH 87 - PROGRESS: at 77.83% examples, 451512 words/s, in_qsize 7, out_qsize 0\n",
            "INFO - 09:09:40: EPOCH 87 - PROGRESS: at 92.73% examples, 450367 words/s, in_qsize 8, out_qsize 0\n",
            "INFO - 09:09:40: worker thread finished; awaiting finish of 3 more threads\n",
            "INFO - 09:09:40: worker thread finished; awaiting finish of 2 more threads\n",
            "INFO - 09:09:40: worker thread finished; awaiting finish of 1 more threads\n",
            "INFO - 09:09:40: worker thread finished; awaiting finish of 0 more threads\n",
            "INFO - 09:09:40: EPOCH - 87 : training on 2995867 raw words (2963903 effective words) took 6.5s, 453722 effective words/s\n",
            "INFO - 09:09:41: EPOCH 88 - PROGRESS: at 15.01% examples, 437197 words/s, in_qsize 7, out_qsize 0\n",
            "INFO - 09:09:42: EPOCH 88 - PROGRESS: at 30.33% examples, 444117 words/s, in_qsize 7, out_qsize 0\n",
            "INFO - 09:09:43: EPOCH 88 - PROGRESS: at 45.36% examples, 443443 words/s, in_qsize 7, out_qsize 0\n",
            "INFO - 09:09:44: EPOCH 88 - PROGRESS: at 60.58% examples, 445675 words/s, in_qsize 7, out_qsize 0\n",
            "INFO - 09:09:45: EPOCH 88 - PROGRESS: at 75.83% examples, 445495 words/s, in_qsize 7, out_qsize 0\n",
            "INFO - 09:09:47: EPOCH 88 - PROGRESS: at 91.43% examples, 445557 words/s, in_qsize 8, out_qsize 0\n",
            "INFO - 09:09:47: worker thread finished; awaiting finish of 3 more threads\n",
            "INFO - 09:09:47: worker thread finished; awaiting finish of 2 more threads\n",
            "INFO - 09:09:47: worker thread finished; awaiting finish of 1 more threads\n",
            "INFO - 09:09:47: worker thread finished; awaiting finish of 0 more threads\n",
            "INFO - 09:09:47: EPOCH - 88 : training on 2995867 raw words (2963903 effective words) took 6.6s, 450858 effective words/s\n",
            "INFO - 09:09:48: EPOCH 89 - PROGRESS: at 15.00% examples, 439694 words/s, in_qsize 7, out_qsize 0\n",
            "INFO - 09:09:49: EPOCH 89 - PROGRESS: at 31.34% examples, 456468 words/s, in_qsize 7, out_qsize 0\n",
            "INFO - 09:09:50: EPOCH 89 - PROGRESS: at 46.99% examples, 459140 words/s, in_qsize 7, out_qsize 0\n",
            "INFO - 09:09:51: EPOCH 89 - PROGRESS: at 62.28% examples, 457470 words/s, in_qsize 7, out_qsize 0\n",
            "INFO - 09:09:52: EPOCH 89 - PROGRESS: at 78.46% examples, 460001 words/s, in_qsize 7, out_qsize 0\n",
            "INFO - 09:09:53: EPOCH 89 - PROGRESS: at 93.38% examples, 456746 words/s, in_qsize 8, out_qsize 1\n",
            "INFO - 09:09:53: worker thread finished; awaiting finish of 3 more threads\n",
            "INFO - 09:09:53: worker thread finished; awaiting finish of 2 more threads\n",
            "INFO - 09:09:53: worker thread finished; awaiting finish of 1 more threads\n",
            "INFO - 09:09:53: worker thread finished; awaiting finish of 0 more threads\n",
            "INFO - 09:09:53: EPOCH - 89 : training on 2995867 raw words (2963903 effective words) took 6.4s, 459533 effective words/s\n",
            "INFO - 09:09:54: EPOCH 90 - PROGRESS: at 15.01% examples, 437464 words/s, in_qsize 7, out_qsize 0\n",
            "INFO - 09:09:56: EPOCH 90 - PROGRESS: at 31.00% examples, 453653 words/s, in_qsize 7, out_qsize 0\n",
            "INFO - 09:09:57: EPOCH 90 - PROGRESS: at 46.32% examples, 453573 words/s, in_qsize 7, out_qsize 0\n",
            "INFO - 09:09:58: EPOCH 90 - PROGRESS: at 61.93% examples, 453754 words/s, in_qsize 7, out_qsize 0\n",
            "INFO - 09:09:59: EPOCH 90 - PROGRESS: at 77.50% examples, 453711 words/s, in_qsize 7, out_qsize 0\n",
            "INFO - 09:10:00: EPOCH 90 - PROGRESS: at 93.05% examples, 455160 words/s, in_qsize 7, out_qsize 0\n",
            "INFO - 09:10:00: worker thread finished; awaiting finish of 3 more threads\n",
            "INFO - 09:10:00: worker thread finished; awaiting finish of 2 more threads\n",
            "INFO - 09:10:00: worker thread finished; awaiting finish of 1 more threads\n",
            "INFO - 09:10:00: worker thread finished; awaiting finish of 0 more threads\n",
            "INFO - 09:10:00: EPOCH - 90 : training on 2995867 raw words (2963903 effective words) took 6.5s, 456134 effective words/s\n",
            "INFO - 09:10:01: EPOCH 91 - PROGRESS: at 14.68% examples, 420978 words/s, in_qsize 7, out_qsize 0\n",
            "INFO - 09:10:02: EPOCH 91 - PROGRESS: at 29.98% examples, 433117 words/s, in_qsize 7, out_qsize 0\n",
            "INFO - 09:10:03: EPOCH 91 - PROGRESS: at 45.36% examples, 439918 words/s, in_qsize 7, out_qsize 0\n",
            "INFO - 09:10:04: EPOCH 91 - PROGRESS: at 61.61% examples, 449022 words/s, in_qsize 7, out_qsize 0\n",
            "INFO - 09:10:05: EPOCH 91 - PROGRESS: at 77.81% examples, 448826 words/s, in_qsize 7, out_qsize 0\n",
            "INFO - 09:10:06: EPOCH 91 - PROGRESS: at 93.71% examples, 451888 words/s, in_qsize 7, out_qsize 0\n",
            "INFO - 09:10:06: worker thread finished; awaiting finish of 3 more threads\n",
            "INFO - 09:10:07: worker thread finished; awaiting finish of 2 more threads\n",
            "INFO - 09:10:07: worker thread finished; awaiting finish of 1 more threads\n",
            "INFO - 09:10:07: worker thread finished; awaiting finish of 0 more threads\n",
            "INFO - 09:10:07: EPOCH - 91 : training on 2995867 raw words (2963903 effective words) took 6.5s, 452923 effective words/s\n",
            "INFO - 09:10:08: EPOCH 92 - PROGRESS: at 14.68% examples, 427204 words/s, in_qsize 7, out_qsize 0\n",
            "INFO - 09:10:09: EPOCH 92 - PROGRESS: at 30.33% examples, 439854 words/s, in_qsize 7, out_qsize 0\n",
            "INFO - 09:10:10: EPOCH 92 - PROGRESS: at 45.67% examples, 444619 words/s, in_qsize 7, out_qsize 0\n",
            "INFO - 09:10:11: EPOCH 92 - PROGRESS: at 61.26% examples, 442822 words/s, in_qsize 8, out_qsize 1\n",
            "INFO - 09:10:12: EPOCH 92 - PROGRESS: at 76.85% examples, 442753 words/s, in_qsize 8, out_qsize 1\n",
            "INFO - 09:10:13: EPOCH 92 - PROGRESS: at 92.40% examples, 444700 words/s, in_qsize 6, out_qsize 1\n",
            "INFO - 09:10:13: worker thread finished; awaiting finish of 3 more threads\n",
            "INFO - 09:10:13: worker thread finished; awaiting finish of 2 more threads\n",
            "INFO - 09:10:13: worker thread finished; awaiting finish of 1 more threads\n",
            "INFO - 09:10:13: worker thread finished; awaiting finish of 0 more threads\n",
            "INFO - 09:10:13: EPOCH - 92 : training on 2995867 raw words (2963903 effective words) took 6.6s, 449624 effective words/s\n",
            "INFO - 09:10:14: EPOCH 93 - PROGRESS: at 15.00% examples, 438165 words/s, in_qsize 7, out_qsize 0\n",
            "INFO - 09:10:15: EPOCH 93 - PROGRESS: at 30.34% examples, 445521 words/s, in_qsize 7, out_qsize 0\n",
            "INFO - 09:10:16: EPOCH 93 - PROGRESS: at 45.36% examples, 444654 words/s, in_qsize 7, out_qsize 1\n",
            "INFO - 09:10:17: EPOCH 93 - PROGRESS: at 60.92% examples, 447892 words/s, in_qsize 7, out_qsize 0\n",
            "INFO - 09:10:18: EPOCH 93 - PROGRESS: at 76.50% examples, 448161 words/s, in_qsize 5, out_qsize 2\n",
            "INFO - 09:10:19: EPOCH 93 - PROGRESS: at 92.40% examples, 450777 words/s, in_qsize 6, out_qsize 1\n",
            "INFO - 09:10:20: worker thread finished; awaiting finish of 3 more threads\n",
            "INFO - 09:10:20: worker thread finished; awaiting finish of 2 more threads\n",
            "INFO - 09:10:20: worker thread finished; awaiting finish of 1 more threads\n",
            "INFO - 09:10:20: worker thread finished; awaiting finish of 0 more threads\n",
            "INFO - 09:10:20: EPOCH - 93 : training on 2995867 raw words (2963903 effective words) took 6.5s, 455238 effective words/s\n",
            "INFO - 09:10:21: EPOCH 94 - PROGRESS: at 15.64% examples, 436089 words/s, in_qsize 7, out_qsize 0\n",
            "INFO - 09:10:22: EPOCH 94 - PROGRESS: at 31.00% examples, 444911 words/s, in_qsize 7, out_qsize 0\n",
            "INFO - 09:10:23: EPOCH 94 - PROGRESS: at 46.99% examples, 445389 words/s, in_qsize 7, out_qsize 0\n",
            "INFO - 09:10:24: EPOCH 94 - PROGRESS: at 62.61% examples, 447762 words/s, in_qsize 7, out_qsize 0\n",
            "INFO - 09:10:25: EPOCH 94 - PROGRESS: at 78.15% examples, 448309 words/s, in_qsize 7, out_qsize 0\n",
            "INFO - 09:10:26: EPOCH 94 - PROGRESS: at 93.71% examples, 449809 words/s, in_qsize 7, out_qsize 0\n",
            "INFO - 09:10:26: worker thread finished; awaiting finish of 3 more threads\n",
            "INFO - 09:10:26: worker thread finished; awaiting finish of 2 more threads\n",
            "INFO - 09:10:26: worker thread finished; awaiting finish of 1 more threads\n",
            "INFO - 09:10:26: worker thread finished; awaiting finish of 0 more threads\n",
            "INFO - 09:10:26: EPOCH - 94 : training on 2995867 raw words (2963903 effective words) took 6.5s, 453012 effective words/s\n",
            "INFO - 09:10:27: EPOCH 95 - PROGRESS: at 14.34% examples, 418967 words/s, in_qsize 7, out_qsize 0\n",
            "INFO - 09:10:28: EPOCH 95 - PROGRESS: at 29.64% examples, 433129 words/s, in_qsize 7, out_qsize 0\n",
            "INFO - 09:10:29: EPOCH 95 - PROGRESS: at 45.67% examples, 443536 words/s, in_qsize 7, out_qsize 0\n",
            "INFO - 09:10:30: EPOCH 95 - PROGRESS: at 61.27% examples, 447856 words/s, in_qsize 7, out_qsize 0\n",
            "INFO - 09:10:31: EPOCH 95 - PROGRESS: at 77.18% examples, 449353 words/s, in_qsize 7, out_qsize 0\n",
            "INFO - 09:10:32: EPOCH 95 - PROGRESS: at 92.41% examples, 448785 words/s, in_qsize 6, out_qsize 1\n",
            "INFO - 09:10:33: worker thread finished; awaiting finish of 3 more threads\n",
            "INFO - 09:10:33: worker thread finished; awaiting finish of 2 more threads\n",
            "INFO - 09:10:33: worker thread finished; awaiting finish of 1 more threads\n",
            "INFO - 09:10:33: worker thread finished; awaiting finish of 0 more threads\n",
            "INFO - 09:10:33: EPOCH - 95 : training on 2995867 raw words (2963903 effective words) took 6.5s, 453846 effective words/s\n",
            "INFO - 09:10:34: EPOCH 96 - PROGRESS: at 15.32% examples, 439902 words/s, in_qsize 7, out_qsize 0\n",
            "INFO - 09:10:35: EPOCH 96 - PROGRESS: at 31.32% examples, 455177 words/s, in_qsize 7, out_qsize 0\n",
            "INFO - 09:10:36: EPOCH 96 - PROGRESS: at 48.01% examples, 463151 words/s, in_qsize 7, out_qsize 0\n",
            "INFO - 09:10:37: EPOCH 96 - PROGRESS: at 63.60% examples, 463320 words/s, in_qsize 6, out_qsize 1\n",
            "INFO - 09:10:38: EPOCH 96 - PROGRESS: at 79.78% examples, 465338 words/s, in_qsize 7, out_qsize 0\n",
            "INFO - 09:10:39: EPOCH 96 - PROGRESS: at 95.68% examples, 466354 words/s, in_qsize 7, out_qsize 0\n",
            "INFO - 09:10:39: worker thread finished; awaiting finish of 3 more threads\n",
            "INFO - 09:10:39: worker thread finished; awaiting finish of 2 more threads\n",
            "INFO - 09:10:39: worker thread finished; awaiting finish of 1 more threads\n",
            "INFO - 09:10:39: worker thread finished; awaiting finish of 0 more threads\n",
            "INFO - 09:10:39: EPOCH - 96 : training on 2995867 raw words (2963903 effective words) took 6.3s, 468944 effective words/s\n",
            "INFO - 09:10:40: EPOCH 97 - PROGRESS: at 15.00% examples, 442396 words/s, in_qsize 7, out_qsize 0\n",
            "INFO - 09:10:41: EPOCH 97 - PROGRESS: at 30.65% examples, 443225 words/s, in_qsize 7, out_qsize 0\n",
            "INFO - 09:10:42: EPOCH 97 - PROGRESS: at 46.99% examples, 456553 words/s, in_qsize 7, out_qsize 0\n",
            "INFO - 09:10:43: EPOCH 97 - PROGRESS: at 62.94% examples, 454592 words/s, in_qsize 6, out_qsize 1\n",
            "INFO - 09:10:44: EPOCH 97 - PROGRESS: at 79.10% examples, 458359 words/s, in_qsize 7, out_qsize 0\n",
            "INFO - 09:10:45: EPOCH 97 - PROGRESS: at 94.69% examples, 457539 words/s, in_qsize 7, out_qsize 0\n",
            "INFO - 09:10:45: worker thread finished; awaiting finish of 3 more threads\n",
            "INFO - 09:10:46: worker thread finished; awaiting finish of 2 more threads\n",
            "INFO - 09:10:46: worker thread finished; awaiting finish of 1 more threads\n",
            "INFO - 09:10:46: worker thread finished; awaiting finish of 0 more threads\n",
            "INFO - 09:10:46: EPOCH - 97 : training on 2995867 raw words (2963903 effective words) took 6.4s, 459767 effective words/s\n",
            "INFO - 09:10:47: EPOCH 98 - PROGRESS: at 14.34% examples, 411492 words/s, in_qsize 7, out_qsize 0\n",
            "INFO - 09:10:48: EPOCH 98 - PROGRESS: at 29.66% examples, 431859 words/s, in_qsize 7, out_qsize 0\n",
            "INFO - 09:10:49: EPOCH 98 - PROGRESS: at 45.67% examples, 443628 words/s, in_qsize 7, out_qsize 0\n",
            "INFO - 09:10:50: EPOCH 98 - PROGRESS: at 61.26% examples, 443872 words/s, in_qsize 7, out_qsize 0\n",
            "INFO - 09:10:51: EPOCH 98 - PROGRESS: at 77.81% examples, 445192 words/s, in_qsize 7, out_qsize 0\n",
            "INFO - 09:10:52: EPOCH 98 - PROGRESS: at 93.38% examples, 447200 words/s, in_qsize 7, out_qsize 0\n",
            "INFO - 09:10:52: worker thread finished; awaiting finish of 3 more threads\n",
            "INFO - 09:10:52: worker thread finished; awaiting finish of 2 more threads\n",
            "INFO - 09:10:52: worker thread finished; awaiting finish of 1 more threads\n",
            "INFO - 09:10:52: worker thread finished; awaiting finish of 0 more threads\n",
            "INFO - 09:10:52: EPOCH - 98 : training on 2995867 raw words (2963903 effective words) took 6.6s, 451071 effective words/s\n",
            "INFO - 09:10:53: EPOCH 99 - PROGRESS: at 15.00% examples, 439397 words/s, in_qsize 7, out_qsize 0\n",
            "INFO - 09:10:54: EPOCH 99 - PROGRESS: at 30.68% examples, 448855 words/s, in_qsize 7, out_qsize 0\n",
            "INFO - 09:10:55: EPOCH 99 - PROGRESS: at 46.67% examples, 450158 words/s, in_qsize 8, out_qsize 1\n",
            "INFO - 09:10:56: EPOCH 99 - PROGRESS: at 61.93% examples, 450247 words/s, in_qsize 6, out_qsize 1\n",
            "INFO - 09:10:57: EPOCH 99 - PROGRESS: at 77.83% examples, 450104 words/s, in_qsize 7, out_qsize 0\n",
            "INFO - 09:10:58: EPOCH 99 - PROGRESS: at 93.05% examples, 449397 words/s, in_qsize 7, out_qsize 0\n",
            "INFO - 09:10:59: worker thread finished; awaiting finish of 3 more threads\n",
            "INFO - 09:10:59: worker thread finished; awaiting finish of 2 more threads\n",
            "INFO - 09:10:59: worker thread finished; awaiting finish of 1 more threads\n",
            "INFO - 09:10:59: worker thread finished; awaiting finish of 0 more threads\n",
            "INFO - 09:10:59: EPOCH - 99 : training on 2995867 raw words (2963903 effective words) took 6.5s, 453370 effective words/s\n",
            "INFO - 09:11:00: EPOCH 100 - PROGRESS: at 14.66% examples, 425775 words/s, in_qsize 7, out_qsize 0\n",
            "INFO - 09:11:01: EPOCH 100 - PROGRESS: at 30.33% examples, 443106 words/s, in_qsize 7, out_qsize 0\n",
            "INFO - 09:11:02: EPOCH 100 - PROGRESS: at 44.69% examples, 437177 words/s, in_qsize 6, out_qsize 1\n",
            "INFO - 09:11:03: EPOCH 100 - PROGRESS: at 58.59% examples, 430740 words/s, in_qsize 8, out_qsize 2\n",
            "INFO - 09:11:04: EPOCH 100 - PROGRESS: at 74.50% examples, 436376 words/s, in_qsize 7, out_qsize 0\n",
            "INFO - 09:11:05: EPOCH 100 - PROGRESS: at 89.75% examples, 439187 words/s, in_qsize 7, out_qsize 0\n",
            "INFO - 09:11:05: worker thread finished; awaiting finish of 3 more threads\n",
            "INFO - 09:11:05: worker thread finished; awaiting finish of 2 more threads\n",
            "INFO - 09:11:05: worker thread finished; awaiting finish of 1 more threads\n",
            "INFO - 09:11:05: worker thread finished; awaiting finish of 0 more threads\n",
            "INFO - 09:11:05: EPOCH - 100 : training on 2995867 raw words (2963903 effective words) took 6.7s, 442384 effective words/s\n",
            "INFO - 09:11:05: training on a 299586700 raw words (296390300 effective words) took 681.1s, 435186 effective words/s\n"
          ],
          "name": "stderr"
        }
      ]
    },
    {
      "cell_type": "code",
      "metadata": {
        "id": "sRyt_P8lastc",
        "colab_type": "code",
        "colab": {
          "base_uri": "https://localhost:8080/",
          "height": 292
        },
        "outputId": "180438ca-ea6d-41a7-a17f-1f5b145d3100"
      },
      "source": [
        "model.most_similar('boston')"
      ],
      "execution_count": 55,
      "outputs": [
        {
          "output_type": "stream",
          "text": [
            "/usr/local/lib/python3.6/dist-packages/ipykernel_launcher.py:1: DeprecationWarning: Call to deprecated `most_similar` (Method will be removed in 4.0.0, use self.wv.most_similar() instead).\n",
            "  \"\"\"Entry point for launching an IPython kernel.\n",
            "INFO - 09:12:32: precomputing L2-norms of word weight vectors\n",
            "/usr/local/lib/python3.6/dist-packages/gensim/matutils.py:737: FutureWarning: Conversion of the second argument of issubdtype from `int` to `np.signedinteger` is deprecated. In future, it will be treated as `np.int64 == np.dtype(int).type`.\n",
            "  if np.issubdtype(vec.dtype, np.int):\n"
          ],
          "name": "stderr"
        },
        {
          "output_type": "execute_result",
          "data": {
            "text/plain": [
              "[('seattle', 0.7688531875610352),\n",
              " ('san_francisco', 0.7484472393989563),\n",
              " ('philly', 0.7469840049743652),\n",
              " ('denver', 0.7364922761917114),\n",
              " ('sf', 0.7299060225486755),\n",
              " ('chicago', 0.7267497777938843),\n",
              " ('dc', 0.7259232997894287),\n",
              " ('san_diego', 0.718490719795227),\n",
              " ('san_fran', 0.7101852893829346),\n",
              " ('dallas', 0.7021840214729309)]"
            ]
          },
          "metadata": {
            "tags": []
          },
          "execution_count": 55
        }
      ]
    },
    {
      "cell_type": "code",
      "metadata": {
        "id": "3-xsEPGFdoy5",
        "colab_type": "code",
        "colab": {
          "base_uri": "https://localhost:8080/",
          "height": 360
        },
        "outputId": "e2c33230-6b2f-4272-b989-209fa8ef9da4"
      },
      "source": [
        "model.most_similar('yashu_gupta')"
      ],
      "execution_count": 56,
      "outputs": [
        {
          "output_type": "stream",
          "text": [
            "/usr/local/lib/python3.6/dist-packages/ipykernel_launcher.py:1: DeprecationWarning: Call to deprecated `most_similar` (Method will be removed in 4.0.0, use self.wv.most_similar() instead).\n",
            "  \"\"\"Entry point for launching an IPython kernel.\n"
          ],
          "name": "stderr"
        },
        {
          "output_type": "error",
          "ename": "KeyError",
          "evalue": "ignored",
          "traceback": [
            "\u001b[0;31m---------------------------------------------------------------------------\u001b[0m",
            "\u001b[0;31mKeyError\u001b[0m                                  Traceback (most recent call last)",
            "\u001b[0;32m<ipython-input-56-84d7d26f8567>\u001b[0m in \u001b[0;36m<module>\u001b[0;34m()\u001b[0m\n\u001b[0;32m----> 1\u001b[0;31m \u001b[0mmodel\u001b[0m\u001b[0;34m.\u001b[0m\u001b[0mmost_similar\u001b[0m\u001b[0;34m(\u001b[0m\u001b[0;34m'yashu_gupta'\u001b[0m\u001b[0;34m)\u001b[0m\u001b[0;34m\u001b[0m\u001b[0;34m\u001b[0m\u001b[0m\n\u001b[0m",
            "\u001b[0;32m/usr/local/lib/python3.6/dist-packages/gensim/utils.py\u001b[0m in \u001b[0;36mnew_func1\u001b[0;34m(*args, **kwargs)\u001b[0m\n\u001b[1;32m   1420\u001b[0m                     \u001b[0mstacklevel\u001b[0m\u001b[0;34m=\u001b[0m\u001b[0;36m2\u001b[0m\u001b[0;34m\u001b[0m\u001b[0;34m\u001b[0m\u001b[0m\n\u001b[1;32m   1421\u001b[0m                 )\n\u001b[0;32m-> 1422\u001b[0;31m                 \u001b[0;32mreturn\u001b[0m \u001b[0mfunc\u001b[0m\u001b[0;34m(\u001b[0m\u001b[0;34m*\u001b[0m\u001b[0margs\u001b[0m\u001b[0;34m,\u001b[0m \u001b[0;34m**\u001b[0m\u001b[0mkwargs\u001b[0m\u001b[0;34m)\u001b[0m\u001b[0;34m\u001b[0m\u001b[0;34m\u001b[0m\u001b[0m\n\u001b[0m\u001b[1;32m   1423\u001b[0m \u001b[0;34m\u001b[0m\u001b[0m\n\u001b[1;32m   1424\u001b[0m             \u001b[0;32mreturn\u001b[0m \u001b[0mnew_func1\u001b[0m\u001b[0;34m\u001b[0m\u001b[0;34m\u001b[0m\u001b[0m\n",
            "\u001b[0;32m/usr/local/lib/python3.6/dist-packages/gensim/models/base_any2vec.py\u001b[0m in \u001b[0;36mmost_similar\u001b[0;34m(self, positive, negative, topn, restrict_vocab, indexer)\u001b[0m\n\u001b[1;32m   1395\u001b[0m \u001b[0;34m\u001b[0m\u001b[0m\n\u001b[1;32m   1396\u001b[0m         \"\"\"\n\u001b[0;32m-> 1397\u001b[0;31m         \u001b[0;32mreturn\u001b[0m \u001b[0mself\u001b[0m\u001b[0;34m.\u001b[0m\u001b[0mwv\u001b[0m\u001b[0;34m.\u001b[0m\u001b[0mmost_similar\u001b[0m\u001b[0;34m(\u001b[0m\u001b[0mpositive\u001b[0m\u001b[0;34m,\u001b[0m \u001b[0mnegative\u001b[0m\u001b[0;34m,\u001b[0m \u001b[0mtopn\u001b[0m\u001b[0;34m,\u001b[0m \u001b[0mrestrict_vocab\u001b[0m\u001b[0;34m,\u001b[0m \u001b[0mindexer\u001b[0m\u001b[0;34m)\u001b[0m\u001b[0;34m\u001b[0m\u001b[0;34m\u001b[0m\u001b[0m\n\u001b[0m\u001b[1;32m   1398\u001b[0m \u001b[0;34m\u001b[0m\u001b[0m\n\u001b[1;32m   1399\u001b[0m     \u001b[0;34m@\u001b[0m\u001b[0mdeprecated\u001b[0m\u001b[0;34m(\u001b[0m\u001b[0;34m\"Method will be removed in 4.0.0, use self.wv.wmdistance() instead\"\u001b[0m\u001b[0;34m)\u001b[0m\u001b[0;34m\u001b[0m\u001b[0;34m\u001b[0m\u001b[0m\n",
            "\u001b[0;32m/usr/local/lib/python3.6/dist-packages/gensim/models/keyedvectors.py\u001b[0m in \u001b[0;36mmost_similar\u001b[0;34m(self, positive, negative, topn, restrict_vocab, indexer)\u001b[0m\n\u001b[1;32m    529\u001b[0m                 \u001b[0mmean\u001b[0m\u001b[0;34m.\u001b[0m\u001b[0mappend\u001b[0m\u001b[0;34m(\u001b[0m\u001b[0mweight\u001b[0m \u001b[0;34m*\u001b[0m \u001b[0mword\u001b[0m\u001b[0;34m)\u001b[0m\u001b[0;34m\u001b[0m\u001b[0;34m\u001b[0m\u001b[0m\n\u001b[1;32m    530\u001b[0m             \u001b[0;32melse\u001b[0m\u001b[0;34m:\u001b[0m\u001b[0;34m\u001b[0m\u001b[0;34m\u001b[0m\u001b[0m\n\u001b[0;32m--> 531\u001b[0;31m                 \u001b[0mmean\u001b[0m\u001b[0;34m.\u001b[0m\u001b[0mappend\u001b[0m\u001b[0;34m(\u001b[0m\u001b[0mweight\u001b[0m \u001b[0;34m*\u001b[0m \u001b[0mself\u001b[0m\u001b[0;34m.\u001b[0m\u001b[0mword_vec\u001b[0m\u001b[0;34m(\u001b[0m\u001b[0mword\u001b[0m\u001b[0;34m,\u001b[0m \u001b[0muse_norm\u001b[0m\u001b[0;34m=\u001b[0m\u001b[0;32mTrue\u001b[0m\u001b[0;34m)\u001b[0m\u001b[0;34m)\u001b[0m\u001b[0;34m\u001b[0m\u001b[0;34m\u001b[0m\u001b[0m\n\u001b[0m\u001b[1;32m    532\u001b[0m                 \u001b[0;32mif\u001b[0m \u001b[0mword\u001b[0m \u001b[0;32min\u001b[0m \u001b[0mself\u001b[0m\u001b[0;34m.\u001b[0m\u001b[0mvocab\u001b[0m\u001b[0;34m:\u001b[0m\u001b[0;34m\u001b[0m\u001b[0;34m\u001b[0m\u001b[0m\n\u001b[1;32m    533\u001b[0m                     \u001b[0mall_words\u001b[0m\u001b[0;34m.\u001b[0m\u001b[0madd\u001b[0m\u001b[0;34m(\u001b[0m\u001b[0mself\u001b[0m\u001b[0;34m.\u001b[0m\u001b[0mvocab\u001b[0m\u001b[0;34m[\u001b[0m\u001b[0mword\u001b[0m\u001b[0;34m]\u001b[0m\u001b[0;34m.\u001b[0m\u001b[0mindex\u001b[0m\u001b[0;34m)\u001b[0m\u001b[0;34m\u001b[0m\u001b[0;34m\u001b[0m\u001b[0m\n",
            "\u001b[0;32m/usr/local/lib/python3.6/dist-packages/gensim/models/keyedvectors.py\u001b[0m in \u001b[0;36mword_vec\u001b[0;34m(self, word, use_norm)\u001b[0m\n\u001b[1;32m    450\u001b[0m             \u001b[0;32mreturn\u001b[0m \u001b[0mresult\u001b[0m\u001b[0;34m\u001b[0m\u001b[0;34m\u001b[0m\u001b[0m\n\u001b[1;32m    451\u001b[0m         \u001b[0;32melse\u001b[0m\u001b[0;34m:\u001b[0m\u001b[0;34m\u001b[0m\u001b[0;34m\u001b[0m\u001b[0m\n\u001b[0;32m--> 452\u001b[0;31m             \u001b[0;32mraise\u001b[0m \u001b[0mKeyError\u001b[0m\u001b[0;34m(\u001b[0m\u001b[0;34m\"word '%s' not in vocabulary\"\u001b[0m \u001b[0;34m%\u001b[0m \u001b[0mword\u001b[0m\u001b[0;34m)\u001b[0m\u001b[0;34m\u001b[0m\u001b[0;34m\u001b[0m\u001b[0m\n\u001b[0m\u001b[1;32m    453\u001b[0m \u001b[0;34m\u001b[0m\u001b[0m\n\u001b[1;32m    454\u001b[0m     \u001b[0;32mdef\u001b[0m \u001b[0mget_vector\u001b[0m\u001b[0;34m(\u001b[0m\u001b[0mself\u001b[0m\u001b[0;34m,\u001b[0m \u001b[0mword\u001b[0m\u001b[0;34m)\u001b[0m\u001b[0;34m:\u001b[0m\u001b[0;34m\u001b[0m\u001b[0;34m\u001b[0m\u001b[0m\n",
            "\u001b[0;31mKeyError\u001b[0m: \"word 'yashu_gupta' not in vocabulary\""
          ]
        }
      ]
    },
    {
      "cell_type": "code",
      "metadata": {
        "id": "R4f2WWekeADN",
        "colab_type": "code",
        "colab": {
          "base_uri": "https://localhost:8080/",
          "height": 275
        },
        "outputId": "8f16c48c-9b71-4fe4-d894-26662e2ef0b2"
      },
      "source": [
        "model.most_similar(\"ramada\")"
      ],
      "execution_count": 57,
      "outputs": [
        {
          "output_type": "stream",
          "text": [
            "/usr/local/lib/python3.6/dist-packages/ipykernel_launcher.py:1: DeprecationWarning: Call to deprecated `most_similar` (Method will be removed in 4.0.0, use self.wv.most_similar() instead).\n",
            "  \"\"\"Entry point for launching an IPython kernel.\n",
            "/usr/local/lib/python3.6/dist-packages/gensim/matutils.py:737: FutureWarning: Conversion of the second argument of issubdtype from `int` to `np.signedinteger` is deprecated. In future, it will be treated as `np.int64 == np.dtype(int).type`.\n",
            "  if np.issubdtype(vec.dtype, np.int):\n"
          ],
          "name": "stderr"
        },
        {
          "output_type": "execute_result",
          "data": {
            "text/plain": [
              "[('drury', 0.6127438545227051),\n",
              " ('holiday_inn', 0.6068820953369141),\n",
              " ('wyndham', 0.554410457611084),\n",
              " ('hilton_garden', 0.5532642602920532),\n",
              " ('la_quinta', 0.5508935451507568),\n",
              " ('bigname', 0.5388356447219849),\n",
              " ('motel', 0.5385938882827759),\n",
              " ('best_western', 0.5372475385665894),\n",
              " ('brookwood', 0.5355062484741211),\n",
              " ('tarzana', 0.5352388620376587)]"
            ]
          },
          "metadata": {
            "tags": []
          },
          "execution_count": 57
        }
      ]
    },
    {
      "cell_type": "code",
      "metadata": {
        "id": "AtgzrPl7eEpB",
        "colab_type": "code",
        "colab": {
          "base_uri": "https://localhost:8080/",
          "height": 360
        },
        "outputId": "3a09877d-e1a2-403e-a8db-853e508053e9"
      },
      "source": [
        "model.most_similar(\"taj mahal\")"
      ],
      "execution_count": 58,
      "outputs": [
        {
          "output_type": "stream",
          "text": [
            "/usr/local/lib/python3.6/dist-packages/ipykernel_launcher.py:1: DeprecationWarning: Call to deprecated `most_similar` (Method will be removed in 4.0.0, use self.wv.most_similar() instead).\n",
            "  \"\"\"Entry point for launching an IPython kernel.\n"
          ],
          "name": "stderr"
        },
        {
          "output_type": "error",
          "ename": "KeyError",
          "evalue": "ignored",
          "traceback": [
            "\u001b[0;31m---------------------------------------------------------------------------\u001b[0m",
            "\u001b[0;31mKeyError\u001b[0m                                  Traceback (most recent call last)",
            "\u001b[0;32m<ipython-input-58-0d6c80571758>\u001b[0m in \u001b[0;36m<module>\u001b[0;34m()\u001b[0m\n\u001b[0;32m----> 1\u001b[0;31m \u001b[0mmodel\u001b[0m\u001b[0;34m.\u001b[0m\u001b[0mmost_similar\u001b[0m\u001b[0;34m(\u001b[0m\u001b[0;34m\"taj mahal\"\u001b[0m\u001b[0;34m)\u001b[0m\u001b[0;34m\u001b[0m\u001b[0;34m\u001b[0m\u001b[0m\n\u001b[0m",
            "\u001b[0;32m/usr/local/lib/python3.6/dist-packages/gensim/utils.py\u001b[0m in \u001b[0;36mnew_func1\u001b[0;34m(*args, **kwargs)\u001b[0m\n\u001b[1;32m   1420\u001b[0m                     \u001b[0mstacklevel\u001b[0m\u001b[0;34m=\u001b[0m\u001b[0;36m2\u001b[0m\u001b[0;34m\u001b[0m\u001b[0;34m\u001b[0m\u001b[0m\n\u001b[1;32m   1421\u001b[0m                 )\n\u001b[0;32m-> 1422\u001b[0;31m                 \u001b[0;32mreturn\u001b[0m \u001b[0mfunc\u001b[0m\u001b[0;34m(\u001b[0m\u001b[0;34m*\u001b[0m\u001b[0margs\u001b[0m\u001b[0;34m,\u001b[0m \u001b[0;34m**\u001b[0m\u001b[0mkwargs\u001b[0m\u001b[0;34m)\u001b[0m\u001b[0;34m\u001b[0m\u001b[0;34m\u001b[0m\u001b[0m\n\u001b[0m\u001b[1;32m   1423\u001b[0m \u001b[0;34m\u001b[0m\u001b[0m\n\u001b[1;32m   1424\u001b[0m             \u001b[0;32mreturn\u001b[0m \u001b[0mnew_func1\u001b[0m\u001b[0;34m\u001b[0m\u001b[0;34m\u001b[0m\u001b[0m\n",
            "\u001b[0;32m/usr/local/lib/python3.6/dist-packages/gensim/models/base_any2vec.py\u001b[0m in \u001b[0;36mmost_similar\u001b[0;34m(self, positive, negative, topn, restrict_vocab, indexer)\u001b[0m\n\u001b[1;32m   1395\u001b[0m \u001b[0;34m\u001b[0m\u001b[0m\n\u001b[1;32m   1396\u001b[0m         \"\"\"\n\u001b[0;32m-> 1397\u001b[0;31m         \u001b[0;32mreturn\u001b[0m \u001b[0mself\u001b[0m\u001b[0;34m.\u001b[0m\u001b[0mwv\u001b[0m\u001b[0;34m.\u001b[0m\u001b[0mmost_similar\u001b[0m\u001b[0;34m(\u001b[0m\u001b[0mpositive\u001b[0m\u001b[0;34m,\u001b[0m \u001b[0mnegative\u001b[0m\u001b[0;34m,\u001b[0m \u001b[0mtopn\u001b[0m\u001b[0;34m,\u001b[0m \u001b[0mrestrict_vocab\u001b[0m\u001b[0;34m,\u001b[0m \u001b[0mindexer\u001b[0m\u001b[0;34m)\u001b[0m\u001b[0;34m\u001b[0m\u001b[0;34m\u001b[0m\u001b[0m\n\u001b[0m\u001b[1;32m   1398\u001b[0m \u001b[0;34m\u001b[0m\u001b[0m\n\u001b[1;32m   1399\u001b[0m     \u001b[0;34m@\u001b[0m\u001b[0mdeprecated\u001b[0m\u001b[0;34m(\u001b[0m\u001b[0;34m\"Method will be removed in 4.0.0, use self.wv.wmdistance() instead\"\u001b[0m\u001b[0;34m)\u001b[0m\u001b[0;34m\u001b[0m\u001b[0;34m\u001b[0m\u001b[0m\n",
            "\u001b[0;32m/usr/local/lib/python3.6/dist-packages/gensim/models/keyedvectors.py\u001b[0m in \u001b[0;36mmost_similar\u001b[0;34m(self, positive, negative, topn, restrict_vocab, indexer)\u001b[0m\n\u001b[1;32m    529\u001b[0m                 \u001b[0mmean\u001b[0m\u001b[0;34m.\u001b[0m\u001b[0mappend\u001b[0m\u001b[0;34m(\u001b[0m\u001b[0mweight\u001b[0m \u001b[0;34m*\u001b[0m \u001b[0mword\u001b[0m\u001b[0;34m)\u001b[0m\u001b[0;34m\u001b[0m\u001b[0;34m\u001b[0m\u001b[0m\n\u001b[1;32m    530\u001b[0m             \u001b[0;32melse\u001b[0m\u001b[0;34m:\u001b[0m\u001b[0;34m\u001b[0m\u001b[0;34m\u001b[0m\u001b[0m\n\u001b[0;32m--> 531\u001b[0;31m                 \u001b[0mmean\u001b[0m\u001b[0;34m.\u001b[0m\u001b[0mappend\u001b[0m\u001b[0;34m(\u001b[0m\u001b[0mweight\u001b[0m \u001b[0;34m*\u001b[0m \u001b[0mself\u001b[0m\u001b[0;34m.\u001b[0m\u001b[0mword_vec\u001b[0m\u001b[0;34m(\u001b[0m\u001b[0mword\u001b[0m\u001b[0;34m,\u001b[0m \u001b[0muse_norm\u001b[0m\u001b[0;34m=\u001b[0m\u001b[0;32mTrue\u001b[0m\u001b[0;34m)\u001b[0m\u001b[0;34m)\u001b[0m\u001b[0;34m\u001b[0m\u001b[0;34m\u001b[0m\u001b[0m\n\u001b[0m\u001b[1;32m    532\u001b[0m                 \u001b[0;32mif\u001b[0m \u001b[0mword\u001b[0m \u001b[0;32min\u001b[0m \u001b[0mself\u001b[0m\u001b[0;34m.\u001b[0m\u001b[0mvocab\u001b[0m\u001b[0;34m:\u001b[0m\u001b[0;34m\u001b[0m\u001b[0;34m\u001b[0m\u001b[0m\n\u001b[1;32m    533\u001b[0m                     \u001b[0mall_words\u001b[0m\u001b[0;34m.\u001b[0m\u001b[0madd\u001b[0m\u001b[0;34m(\u001b[0m\u001b[0mself\u001b[0m\u001b[0;34m.\u001b[0m\u001b[0mvocab\u001b[0m\u001b[0;34m[\u001b[0m\u001b[0mword\u001b[0m\u001b[0;34m]\u001b[0m\u001b[0;34m.\u001b[0m\u001b[0mindex\u001b[0m\u001b[0;34m)\u001b[0m\u001b[0;34m\u001b[0m\u001b[0;34m\u001b[0m\u001b[0m\n",
            "\u001b[0;32m/usr/local/lib/python3.6/dist-packages/gensim/models/keyedvectors.py\u001b[0m in \u001b[0;36mword_vec\u001b[0;34m(self, word, use_norm)\u001b[0m\n\u001b[1;32m    450\u001b[0m             \u001b[0;32mreturn\u001b[0m \u001b[0mresult\u001b[0m\u001b[0;34m\u001b[0m\u001b[0;34m\u001b[0m\u001b[0m\n\u001b[1;32m    451\u001b[0m         \u001b[0;32melse\u001b[0m\u001b[0;34m:\u001b[0m\u001b[0;34m\u001b[0m\u001b[0;34m\u001b[0m\u001b[0m\n\u001b[0;32m--> 452\u001b[0;31m             \u001b[0;32mraise\u001b[0m \u001b[0mKeyError\u001b[0m\u001b[0;34m(\u001b[0m\u001b[0;34m\"word '%s' not in vocabulary\"\u001b[0m \u001b[0;34m%\u001b[0m \u001b[0mword\u001b[0m\u001b[0;34m)\u001b[0m\u001b[0;34m\u001b[0m\u001b[0;34m\u001b[0m\u001b[0m\n\u001b[0m\u001b[1;32m    453\u001b[0m \u001b[0;34m\u001b[0m\u001b[0m\n\u001b[1;32m    454\u001b[0m     \u001b[0;32mdef\u001b[0m \u001b[0mget_vector\u001b[0m\u001b[0;34m(\u001b[0m\u001b[0mself\u001b[0m\u001b[0;34m,\u001b[0m \u001b[0mword\u001b[0m\u001b[0;34m)\u001b[0m\u001b[0;34m:\u001b[0m\u001b[0;34m\u001b[0m\u001b[0;34m\u001b[0m\u001b[0m\n",
            "\u001b[0;31mKeyError\u001b[0m: \"word 'taj mahal' not in vocabulary\""
          ]
        }
      ]
    },
    {
      "cell_type": "code",
      "metadata": {
        "id": "uQU7T-nveWko",
        "colab_type": "code",
        "colab": {
          "base_uri": "https://localhost:8080/",
          "height": 360
        },
        "outputId": "2bea1332-3c47-4b67-e5d7-f6feb8f998b2"
      },
      "source": [
        "model.most_similar('taj_mahal')"
      ],
      "execution_count": 59,
      "outputs": [
        {
          "output_type": "stream",
          "text": [
            "/usr/local/lib/python3.6/dist-packages/ipykernel_launcher.py:1: DeprecationWarning: Call to deprecated `most_similar` (Method will be removed in 4.0.0, use self.wv.most_similar() instead).\n",
            "  \"\"\"Entry point for launching an IPython kernel.\n"
          ],
          "name": "stderr"
        },
        {
          "output_type": "error",
          "ename": "KeyError",
          "evalue": "ignored",
          "traceback": [
            "\u001b[0;31m---------------------------------------------------------------------------\u001b[0m",
            "\u001b[0;31mKeyError\u001b[0m                                  Traceback (most recent call last)",
            "\u001b[0;32m<ipython-input-59-05f57bd5042a>\u001b[0m in \u001b[0;36m<module>\u001b[0;34m()\u001b[0m\n\u001b[0;32m----> 1\u001b[0;31m \u001b[0mmodel\u001b[0m\u001b[0;34m.\u001b[0m\u001b[0mmost_similar\u001b[0m\u001b[0;34m(\u001b[0m\u001b[0;34m'taj_mahal'\u001b[0m\u001b[0;34m)\u001b[0m\u001b[0;34m\u001b[0m\u001b[0;34m\u001b[0m\u001b[0m\n\u001b[0m",
            "\u001b[0;32m/usr/local/lib/python3.6/dist-packages/gensim/utils.py\u001b[0m in \u001b[0;36mnew_func1\u001b[0;34m(*args, **kwargs)\u001b[0m\n\u001b[1;32m   1420\u001b[0m                     \u001b[0mstacklevel\u001b[0m\u001b[0;34m=\u001b[0m\u001b[0;36m2\u001b[0m\u001b[0;34m\u001b[0m\u001b[0;34m\u001b[0m\u001b[0m\n\u001b[1;32m   1421\u001b[0m                 )\n\u001b[0;32m-> 1422\u001b[0;31m                 \u001b[0;32mreturn\u001b[0m \u001b[0mfunc\u001b[0m\u001b[0;34m(\u001b[0m\u001b[0;34m*\u001b[0m\u001b[0margs\u001b[0m\u001b[0;34m,\u001b[0m \u001b[0;34m**\u001b[0m\u001b[0mkwargs\u001b[0m\u001b[0;34m)\u001b[0m\u001b[0;34m\u001b[0m\u001b[0;34m\u001b[0m\u001b[0m\n\u001b[0m\u001b[1;32m   1423\u001b[0m \u001b[0;34m\u001b[0m\u001b[0m\n\u001b[1;32m   1424\u001b[0m             \u001b[0;32mreturn\u001b[0m \u001b[0mnew_func1\u001b[0m\u001b[0;34m\u001b[0m\u001b[0;34m\u001b[0m\u001b[0m\n",
            "\u001b[0;32m/usr/local/lib/python3.6/dist-packages/gensim/models/base_any2vec.py\u001b[0m in \u001b[0;36mmost_similar\u001b[0;34m(self, positive, negative, topn, restrict_vocab, indexer)\u001b[0m\n\u001b[1;32m   1395\u001b[0m \u001b[0;34m\u001b[0m\u001b[0m\n\u001b[1;32m   1396\u001b[0m         \"\"\"\n\u001b[0;32m-> 1397\u001b[0;31m         \u001b[0;32mreturn\u001b[0m \u001b[0mself\u001b[0m\u001b[0;34m.\u001b[0m\u001b[0mwv\u001b[0m\u001b[0;34m.\u001b[0m\u001b[0mmost_similar\u001b[0m\u001b[0;34m(\u001b[0m\u001b[0mpositive\u001b[0m\u001b[0;34m,\u001b[0m \u001b[0mnegative\u001b[0m\u001b[0;34m,\u001b[0m \u001b[0mtopn\u001b[0m\u001b[0;34m,\u001b[0m \u001b[0mrestrict_vocab\u001b[0m\u001b[0;34m,\u001b[0m \u001b[0mindexer\u001b[0m\u001b[0;34m)\u001b[0m\u001b[0;34m\u001b[0m\u001b[0;34m\u001b[0m\u001b[0m\n\u001b[0m\u001b[1;32m   1398\u001b[0m \u001b[0;34m\u001b[0m\u001b[0m\n\u001b[1;32m   1399\u001b[0m     \u001b[0;34m@\u001b[0m\u001b[0mdeprecated\u001b[0m\u001b[0;34m(\u001b[0m\u001b[0;34m\"Method will be removed in 4.0.0, use self.wv.wmdistance() instead\"\u001b[0m\u001b[0;34m)\u001b[0m\u001b[0;34m\u001b[0m\u001b[0;34m\u001b[0m\u001b[0m\n",
            "\u001b[0;32m/usr/local/lib/python3.6/dist-packages/gensim/models/keyedvectors.py\u001b[0m in \u001b[0;36mmost_similar\u001b[0;34m(self, positive, negative, topn, restrict_vocab, indexer)\u001b[0m\n\u001b[1;32m    529\u001b[0m                 \u001b[0mmean\u001b[0m\u001b[0;34m.\u001b[0m\u001b[0mappend\u001b[0m\u001b[0;34m(\u001b[0m\u001b[0mweight\u001b[0m \u001b[0;34m*\u001b[0m \u001b[0mword\u001b[0m\u001b[0;34m)\u001b[0m\u001b[0;34m\u001b[0m\u001b[0;34m\u001b[0m\u001b[0m\n\u001b[1;32m    530\u001b[0m             \u001b[0;32melse\u001b[0m\u001b[0;34m:\u001b[0m\u001b[0;34m\u001b[0m\u001b[0;34m\u001b[0m\u001b[0m\n\u001b[0;32m--> 531\u001b[0;31m                 \u001b[0mmean\u001b[0m\u001b[0;34m.\u001b[0m\u001b[0mappend\u001b[0m\u001b[0;34m(\u001b[0m\u001b[0mweight\u001b[0m \u001b[0;34m*\u001b[0m \u001b[0mself\u001b[0m\u001b[0;34m.\u001b[0m\u001b[0mword_vec\u001b[0m\u001b[0;34m(\u001b[0m\u001b[0mword\u001b[0m\u001b[0;34m,\u001b[0m \u001b[0muse_norm\u001b[0m\u001b[0;34m=\u001b[0m\u001b[0;32mTrue\u001b[0m\u001b[0;34m)\u001b[0m\u001b[0;34m)\u001b[0m\u001b[0;34m\u001b[0m\u001b[0;34m\u001b[0m\u001b[0m\n\u001b[0m\u001b[1;32m    532\u001b[0m                 \u001b[0;32mif\u001b[0m \u001b[0mword\u001b[0m \u001b[0;32min\u001b[0m \u001b[0mself\u001b[0m\u001b[0;34m.\u001b[0m\u001b[0mvocab\u001b[0m\u001b[0;34m:\u001b[0m\u001b[0;34m\u001b[0m\u001b[0;34m\u001b[0m\u001b[0m\n\u001b[1;32m    533\u001b[0m                     \u001b[0mall_words\u001b[0m\u001b[0;34m.\u001b[0m\u001b[0madd\u001b[0m\u001b[0;34m(\u001b[0m\u001b[0mself\u001b[0m\u001b[0;34m.\u001b[0m\u001b[0mvocab\u001b[0m\u001b[0;34m[\u001b[0m\u001b[0mword\u001b[0m\u001b[0;34m]\u001b[0m\u001b[0;34m.\u001b[0m\u001b[0mindex\u001b[0m\u001b[0;34m)\u001b[0m\u001b[0;34m\u001b[0m\u001b[0;34m\u001b[0m\u001b[0m\n",
            "\u001b[0;32m/usr/local/lib/python3.6/dist-packages/gensim/models/keyedvectors.py\u001b[0m in \u001b[0;36mword_vec\u001b[0;34m(self, word, use_norm)\u001b[0m\n\u001b[1;32m    450\u001b[0m             \u001b[0;32mreturn\u001b[0m \u001b[0mresult\u001b[0m\u001b[0;34m\u001b[0m\u001b[0;34m\u001b[0m\u001b[0m\n\u001b[1;32m    451\u001b[0m         \u001b[0;32melse\u001b[0m\u001b[0;34m:\u001b[0m\u001b[0;34m\u001b[0m\u001b[0;34m\u001b[0m\u001b[0m\n\u001b[0;32m--> 452\u001b[0;31m             \u001b[0;32mraise\u001b[0m \u001b[0mKeyError\u001b[0m\u001b[0;34m(\u001b[0m\u001b[0;34m\"word '%s' not in vocabulary\"\u001b[0m \u001b[0;34m%\u001b[0m \u001b[0mword\u001b[0m\u001b[0;34m)\u001b[0m\u001b[0;34m\u001b[0m\u001b[0;34m\u001b[0m\u001b[0m\n\u001b[0m\u001b[1;32m    453\u001b[0m \u001b[0;34m\u001b[0m\u001b[0m\n\u001b[1;32m    454\u001b[0m     \u001b[0;32mdef\u001b[0m \u001b[0mget_vector\u001b[0m\u001b[0;34m(\u001b[0m\u001b[0mself\u001b[0m\u001b[0;34m,\u001b[0m \u001b[0mword\u001b[0m\u001b[0;34m)\u001b[0m\u001b[0;34m:\u001b[0m\u001b[0;34m\u001b[0m\u001b[0;34m\u001b[0m\u001b[0m\n",
            "\u001b[0;31mKeyError\u001b[0m: \"word 'taj_mahal' not in vocabulary\""
          ]
        }
      ]
    },
    {
      "cell_type": "code",
      "metadata": {
        "id": "zOWTH4VueaCI",
        "colab_type": "code",
        "colab": {
          "base_uri": "https://localhost:8080/",
          "height": 275
        },
        "outputId": "b9d53de4-bb3b-48e7-ca04-5893a269770a"
      },
      "source": [
        "model.most_similar('india')"
      ],
      "execution_count": 60,
      "outputs": [
        {
          "output_type": "stream",
          "text": [
            "/usr/local/lib/python3.6/dist-packages/ipykernel_launcher.py:1: DeprecationWarning: Call to deprecated `most_similar` (Method will be removed in 4.0.0, use self.wv.most_similar() instead).\n",
            "  \"\"\"Entry point for launching an IPython kernel.\n",
            "/usr/local/lib/python3.6/dist-packages/gensim/matutils.py:737: FutureWarning: Conversion of the second argument of issubdtype from `int` to `np.signedinteger` is deprecated. In future, it will be treated as `np.int64 == np.dtype(int).type`.\n",
            "  if np.issubdtype(vec.dtype, np.int):\n"
          ],
          "name": "stderr"
        },
        {
          "output_type": "execute_result",
          "data": {
            "text/plain": [
              "[('lombard_street', 0.48105624318122864),\n",
              " ('mmmmm', 0.4479011297225952),\n",
              " ('coppolas', 0.4465385377407074),\n",
              " ('nightit', 0.4442659020423889),\n",
              " ('chineese', 0.43816423416137695),\n",
              " ('motorway', 0.43526691198349),\n",
              " ('cloud', 0.434867799282074),\n",
              " ('trailhead', 0.4317193329334259),\n",
              " ('italian', 0.43124300241470337),\n",
              " ('filbert', 0.42906200885772705)]"
            ]
          },
          "metadata": {
            "tags": []
          },
          "execution_count": 60
        }
      ]
    },
    {
      "cell_type": "code",
      "metadata": {
        "id": "xOyX2OhWecL4",
        "colab_type": "code",
        "colab": {
          "base_uri": "https://localhost:8080/",
          "height": 275
        },
        "outputId": "33e76269-00ab-416e-9948-9fcd2121813e"
      },
      "source": [
        "model.most_similar('chinese')"
      ],
      "execution_count": 61,
      "outputs": [
        {
          "output_type": "stream",
          "text": [
            "/usr/local/lib/python3.6/dist-packages/ipykernel_launcher.py:1: DeprecationWarning: Call to deprecated `most_similar` (Method will be removed in 4.0.0, use self.wv.most_similar() instead).\n",
            "  \"\"\"Entry point for launching an IPython kernel.\n",
            "/usr/local/lib/python3.6/dist-packages/gensim/matutils.py:737: FutureWarning: Conversion of the second argument of issubdtype from `int` to `np.signedinteger` is deprecated. In future, it will be treated as `np.int64 == np.dtype(int).type`.\n",
            "  if np.issubdtype(vec.dtype, np.int):\n"
          ],
          "name": "stderr"
        },
        {
          "output_type": "execute_result",
          "data": {
            "text/plain": [
              "[('indian', 0.5720556974411011),\n",
              " ('kjs', 0.5580602884292603),\n",
              " ('beccos', 0.5493707060813904),\n",
              " ('italian', 0.5345851182937622),\n",
              " ('homecooked', 0.5315892100334167),\n",
              " ('thai', 0.5280975103378296),\n",
              " ('wollensky', 0.5228995680809021),\n",
              " ('berghoffs', 0.5208449363708496),\n",
              " ('gallaghers', 0.5193091630935669),\n",
              " ('tasca', 0.5167564153671265)]"
            ]
          },
          "metadata": {
            "tags": []
          },
          "execution_count": 61
        },
        {
          "output_type": "stream",
          "text": [
            "ERROR! Session/line number was not unique in database. History logging moved to new session 59\n"
          ],
          "name": "stdout"
        }
      ]
    },
    {
      "cell_type": "code",
      "metadata": {
        "id": "PanT89l3egVS",
        "colab_type": "code",
        "colab": {}
      },
      "source": [
        ""
      ],
      "execution_count": 0,
      "outputs": []
    }
  ]
}